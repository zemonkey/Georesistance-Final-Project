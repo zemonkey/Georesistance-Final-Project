{
 "cells": [
  {
   "cell_type": "code",
   "execution_count": 1,
   "metadata": {},
   "outputs": [],
   "source": [
    "import serial\n",
    "import time\n",
    "import csv"
   ]
  },
  {
   "cell_type": "code",
   "execution_count": 115,
   "metadata": {},
   "outputs": [
    {
     "name": "stdout",
     "output_type": "stream",
     "text": [
      "30556,30659,30222\n",
      "30527,30671,30222\n",
      "30496,30647,30281\n",
      "30494,30633,30256\n",
      "30539,30642,30215\n",
      "30550,30643,30209\n",
      "30509,30680,30226\n",
      "30484,30652,30276\n",
      "30507,30637,30256\n",
      "30539,30628,30227\n"
     ]
    }
   ],
   "source": [
    "ser = serial.Serial('COM4')\n",
    "filename = \"80 000\"\n",
    "\n",
    "ser.flushInput()\n",
    "counter = 0\n",
    "\n",
    "while counter < 10:\n",
    "    counter += 1\n",
    "    try:\n",
    "        ser_bytes = ser.readline()\n",
    "        decoded_bytes = ser_bytes[0:len(ser_bytes)-2].decode(\"utf-8\")\n",
    "        print(decoded_bytes)\n",
    "        with open(filename+\".csv\",\"a\") as f:\n",
    "            writer = csv.writer(f,delimiter=\",\")\n",
    "            writer.writerow([time.time(),decoded_bytes])\n",
    "    except Exception as e:\n",
    "        print(\"Keyboard Interrupt\")\n",
    "        print(e)\n",
    "        break\n",
    "\n",
    "ser.close()"
   ]
  }
 ],
 "metadata": {
  "interpreter": {
   "hash": "b6f25d253e9ef28c30dd30f43d7aceaf3b35d139b818aef12eb4cd0f93e2e018"
  },
  "kernelspec": {
   "display_name": "Python 3.8.8 64-bit ('base': conda)",
   "language": "python",
   "name": "python3"
  },
  "language_info": {
   "codemirror_mode": {
    "name": "ipython",
    "version": 3
   },
   "file_extension": ".py",
   "mimetype": "text/x-python",
   "name": "python",
   "nbconvert_exporter": "python",
   "pygments_lexer": "ipython3",
   "version": "3.8.8"
  },
  "orig_nbformat": 4
 },
 "nbformat": 4,
 "nbformat_minor": 2
}
