{
 "cells": [
  {
   "cell_type": "code",
   "execution_count": 273,
   "metadata": {},
   "outputs": [],
   "source": [
    "import pandas as pd\n",
    "import csv\n",
    "from matplotlib import pyplot as plt\n",
    "import os\n",
    "import numpy as np\n",
    "from scipy import stats\n"
   ]
  },
  {
   "cell_type": "code",
   "execution_count": 274,
   "metadata": {},
   "outputs": [],
   "source": [
    "current_folder = os.getcwd()\n",
    "csv_list = os.listdir(current_folder)\n",
    "to_remove = list()\n",
    "for i in range(len(csv_list)):\n",
    "    if csv_list[i][-3:] != 'csv':\n",
    "        to_remove.append(i)\n",
    "temp = list()\n",
    "for i in range(len(csv_list)):\n",
    "    if i not in to_remove:\n",
    "        temp.append(csv_list[i])\n",
    "csv_list = temp\n"
   ]
  },
  {
   "cell_type": "code",
   "execution_count": 275,
   "metadata": {},
   "outputs": [],
   "source": [
    "V_mm = list()\n",
    "ADC_0 = list()\n",
    "ADC_1 = list()\n",
    "ADC_2 = list()\n"
   ]
  },
  {
   "cell_type": "code",
   "execution_count": 276,
   "metadata": {},
   "outputs": [],
   "source": [
    "for i in csv_list:\n",
    "    with open(i, \"r\") as f:\n",
    "        csv_reader = csv.reader(f, delimiter=',')\n",
    "        ADC_0_temp = list()\n",
    "        ADC_1_temp = list()\n",
    "        ADC_2_temp = list()\n",
    "        for row in csv_reader:\n",
    "            # cek kalo list kosong atau engga\n",
    "            if row:\n",
    "                splitted_data = row[1].split(',')\n",
    "                ADC_0_temp.append(int(splitted_data[0]))\n",
    "                ADC_1_temp.append(int(splitted_data[1]))\n",
    "                ADC_2_temp.append(int(splitted_data[2]))\n",
    "    ADC_0.append(np.average(ADC_0_temp))\n",
    "    ADC_1.append(np.average(ADC_1_temp))\n",
    "    ADC_2.append(np.average(ADC_2_temp))\n",
    "    splitted_V = i.replace(\".csv\", \"\").split(\" \")\n",
    "    V_mm.append(float(splitted_V[0]) +\n",
    "                float(splitted_V[1])/(10**len(splitted_V[1])))\n"
   ]
  },
  {
   "cell_type": "code",
   "execution_count": 277,
   "metadata": {},
   "outputs": [],
   "source": [
    "Vdata = pd.DataFrame([V_mm, ADC_0, ADC_1, ADC_2]).T\n",
    "Vdata.columns = ['V multimeter', 'ADC 0', 'ADC 1', 'ADC 2']\n"
   ]
  },
  {
   "cell_type": "code",
   "execution_count": 278,
   "metadata": {},
   "outputs": [
    {
     "data": {
      "text/plain": [
       "80"
      ]
     },
     "execution_count": 278,
     "metadata": {},
     "output_type": "execute_result"
    }
   ],
   "source": [
    "len(Vdata)\n"
   ]
  },
  {
   "cell_type": "code",
   "execution_count": 279,
   "metadata": {},
   "outputs": [],
   "source": [
    "Vdata = Vdata.sort_values('V multimeter').reset_index(drop=True)\n",
    "Vdata[['ADC 0', 'ADC 1', 'ADC 2']] = Vdata[['ADC 0', 'ADC 1', 'ADC 2']]/1000\n"
   ]
  },
  {
   "cell_type": "code",
   "execution_count": 280,
   "metadata": {},
   "outputs": [],
   "source": [
    "# 0-5 V, gain 16x\n",
    "# 6-10 V, gain 8x\n",
    "# 10-20 V, gain 4x\n",
    "# 21-40 V, gain 2x\n",
    "# 41-80 V, gain 1x\n",
    "\n",
    "ADC_Range = [list(range(0, 5)), list(range(5, 10)), list(\n",
    "    range(10, 20)), list(range(20, 40)), list(range(40, 80))]\n",
    "ADC_multiplier = [0.0078125, 0.015625, 0.03125, 0.0625, 0.125]\n",
    "multiplier = list()\n",
    "for i in range(len(ADC_Range)):\n",
    "    for j in ADC_Range[i]:\n",
    "        multiplier.append(ADC_multiplier[i])\n"
   ]
  },
  {
   "cell_type": "code",
   "execution_count": 281,
   "metadata": {},
   "outputs": [
    {
     "data": {
      "text/plain": [
       "0      4.9356\n",
       "1     10.2664\n",
       "2     16.3722\n",
       "3     22.6910\n",
       "4     28.8430\n",
       "       ...   \n",
       "75    29.1025\n",
       "76    29.3526\n",
       "77    29.6966\n",
       "78    30.1803\n",
       "79    30.5201\n",
       "Name: ADC 0, Length: 80, dtype: float64"
      ]
     },
     "execution_count": 281,
     "metadata": {},
     "output_type": "execute_result"
    }
   ],
   "source": [
    "Vdata['ADC 0']"
   ]
  },
  {
   "cell_type": "code",
   "execution_count": 282,
   "metadata": {},
   "outputs": [],
   "source": [
    "Vdata['ADC 0'] = Vdata['ADC 0'].multiply(multiplier, axis=\"index\")\n",
    "Vdata['ADC 1'] = Vdata['ADC 1'].multiply(multiplier, axis=\"index\")\n",
    "Vdata['ADC 2'] = Vdata['ADC 2'].multiply(multiplier, axis=\"index\")\n"
   ]
  },
  {
   "cell_type": "code",
   "execution_count": 283,
   "metadata": {},
   "outputs": [
    {
     "data": {
      "text/plain": [
       "0     0.038559\n",
       "1     0.080206\n",
       "2     0.127908\n",
       "3     0.177273\n",
       "4     0.225336\n",
       "        ...   \n",
       "75    3.637812\n",
       "76    3.669075\n",
       "77    3.712075\n",
       "78    3.772537\n",
       "79    3.815012\n",
       "Name: ADC 0, Length: 80, dtype: float64"
      ]
     },
     "execution_count": 283,
     "metadata": {},
     "output_type": "execute_result"
    }
   ],
   "source": [
    "Vdata['ADC 0']"
   ]
  },
  {
   "cell_type": "code",
   "execution_count": null,
   "metadata": {},
   "outputs": [],
   "source": []
  },
  {
   "cell_type": "code",
   "execution_count": 284,
   "metadata": {},
   "outputs": [],
   "source": [
    "# s_adc_0=list()\n",
    "# s_adc_1=list()\n",
    "# s_adc_2=list()\n",
    "# i_adc_0=list()\n",
    "# i_adc_1=list()\n",
    "# i_adc_2=list()\n",
    "# for i in ADC_Range:\n",
    "#     r_0 = stats.linregress(Vdata['ADC 0'].iloc[i], Vdata['V multimeter'].iloc[i])\n",
    "#     r_1 = stats.linregress(Vdata['ADC 1'].iloc[i], Vdata['V multimeter'].iloc[i])\n",
    "#     r_2 = stats.linregress(Vdata['ADC 2'].iloc[i], Vdata['V multimeter'].iloc[i])\n",
    "#     s_adc_0.append(r_0.slope)\n",
    "#     s_adc_1.append(r_1.slope)\n",
    "#     s_adc_2.append(r_2.slope)\n",
    "#     i_adc_0.append(r_0.intercept)\n",
    "#     i_adc_1.append(r_1.intercept)\n",
    "#     i_adc_2.append(r_2.intercept)\n"
   ]
  },
  {
   "cell_type": "code",
   "execution_count": 285,
   "metadata": {},
   "outputs": [],
   "source": [
    "# s_adc_01=(np.array(s_adc_0)+np.array(s_adc_1))/2\n",
    "# i_adc_01=(np.array(i_adc_0)+np.array(i_adc_1))/2\n",
    "# s_01_list=list()\n",
    "# i_01_list=list()\n",
    "# for i in range(len(ADC_Range)):\n",
    "#     for j in ADC_Range[i]:\n",
    "#         s_01_list.append(s_adc_01[i])\n",
    "#         i_01_list.append(i_adc_01[i])\n",
    "# Vdata[\"ADC 0 Simple\"]=Vdata['ADC 0'].multiply(s_01_list)+i_01_list\n",
    "# Vdata[\"ADC 1 Simple\"]=Vdata['ADC 1'].multiply(s_01_list)+i_01_list"
   ]
  },
  {
   "cell_type": "code",
   "execution_count": 191,
   "metadata": {},
   "outputs": [],
   "source": [
    "res_0 = stats.linregress(Vdata['ADC 0'], Vdata['V multimeter'])\n",
    "res_1 = stats.linregress(Vdata['ADC 1'], Vdata['V multimeter'])\n",
    "res_2 = stats.linregress(Vdata['ADC 2'], Vdata['V multimeter'])\n",
    "Slope_01=(res_0.slope+res_1.slope)/2\n",
    "Inter_01=(res_0.intercept+res_1.intercept)/2"
   ]
  },
  {
   "cell_type": "code",
   "execution_count": 289,
   "metadata": {},
   "outputs": [
    {
     "data": {
      "text/plain": [
       "2.6040091698933088"
      ]
     },
     "execution_count": 289,
     "metadata": {},
     "output_type": "execute_result"
    }
   ],
   "source": [
    "Slope_01*ADC_multiplier[4]"
   ]
  },
  {
   "cell_type": "code",
   "execution_count": 298,
   "metadata": {},
   "outputs": [
    {
     "data": {
      "text/plain": [
       "20.83207335914647"
      ]
     },
     "execution_count": 298,
     "metadata": {},
     "output_type": "execute_result"
    }
   ],
   "source": [
    "Slope_01"
   ]
  },
  {
   "cell_type": "code",
   "execution_count": 301,
   "metadata": {},
   "outputs": [],
   "source": [
    "a=Vdata[\"ADC 0\"].iloc[-1]/ADC_multiplier[4]*1000"
   ]
  },
  {
   "cell_type": "code",
   "execution_count": 303,
   "metadata": {},
   "outputs": [
    {
     "data": {
      "text/plain": [
       "0.0026040091698933086"
      ]
     },
     "execution_count": 303,
     "metadata": {},
     "output_type": "execute_result"
    }
   ],
   "source": [
    "ADC_multiplier[4]/1000*Slope_01"
   ]
  },
  {
   "cell_type": "code",
   "execution_count": null,
   "metadata": {},
   "outputs": [],
   "source": [
    "Vdata[\"ADC 0\"].iloc[-1]/ADC_multiplier[4]*1000"
   ]
  },
  {
   "cell_type": "code",
   "execution_count": 297,
   "metadata": {},
   "outputs": [
    {
     "data": {
      "text/plain": [
       "79.47462026606077"
      ]
     },
     "execution_count": 297,
     "metadata": {},
     "output_type": "execute_result"
    }
   ],
   "source": [
    "Vdata[\"ADC 0\"].iloc[-1]"
   ]
  },
  {
   "cell_type": "code",
   "execution_count": 192,
   "metadata": {},
   "outputs": [],
   "source": [
    "#Vdata[\"ADC 0 Simple\"]=Vdata['ADC 0']*Slope_01+Inter_01\n",
    "#Vdata[\"ADC 1 Simple\"]=Vdata['ADC 1']*Slope_01+Inter_01\n",
    "Vdata[\"ADC 0 Simple\"]=Vdata['ADC 0']*Slope_01+Inter_01\n",
    "Vdata[\"ADC 1 Simple\"]=Vdata['ADC 1']*Slope_01+Inter_01\n",
    "Vdata[\"ADC 2 Simple\"]=Vdata['ADC 2']*res_2.slope+res_2.intercept"
   ]
  },
  {
   "cell_type": "code",
   "execution_count": 193,
   "metadata": {},
   "outputs": [],
   "source": [
    "Err_0=list()\n",
    "Err_1=list()\n",
    "Err_2=list()\n",
    "for i in range(len(Vdata)):\n",
    "    Err_0.append(abs(Vdata['V multimeter'][i]-Vdata['ADC 0 Simple'][i])/Vdata['V multimeter'][i]*100)\n",
    "    Err_1.append(abs(Vdata['V multimeter'][i]-Vdata['ADC 1 Simple'][i])/Vdata['V multimeter'][i]*100)\n",
    "    Err_2.append(abs(Vdata['V multimeter'][i]-Vdata['ADC 2 Simple'][i])/Vdata['V multimeter'][i]*100)\n",
    "Vdata['Error 0']=Err_0\n",
    "Vdata['Error 1']=Err_1\n",
    "Vdata['Error 2']=Err_2"
   ]
  },
  {
   "cell_type": "code",
   "execution_count": 194,
   "metadata": {},
   "outputs": [],
   "source": [
    "Diff_0=list()\n",
    "Diff_1=list()\n",
    "Diff_2=list()\n",
    "for i in range(len(Vdata)):\n",
    "    Diff_0.append(abs(Vdata['V multimeter'][i]-Vdata['ADC 0 Simple'][i]))\n",
    "    Diff_1.append(abs(Vdata['V multimeter'][i]-Vdata['ADC 1 Simple'][i]))\n",
    "    Diff_2.append(abs(Vdata['V multimeter'][i]-Vdata['ADC 2 Simple'][i]))"
   ]
  },
  {
   "cell_type": "code",
   "execution_count": 195,
   "metadata": {},
   "outputs": [
    {
     "data": {
      "text/plain": [
       "Text(0, 0.5, 'Beda tengangan (V)')"
      ]
     },
     "execution_count": 195,
     "metadata": {},
     "output_type": "execute_result"
    },
    {
     "data": {
      "image/png": "[encoded data removed]",
      "text/plain": [
       "<Figure size 432x288 with 1 Axes>"
      ]
     },
     "metadata": {
      "needs_background": "light"
     },
     "output_type": "display_data"
    }
   ],
   "source": [
    "from matplotlib.ticker import FormatStrFormatter,PercentFormatter\n",
    "fig, ax = plt.subplots()\n",
    "\n",
    "ax.yaxis.set_major_formatter(FormatStrFormatter('%.3f'))\n",
    "plt.plot(Vdata[\"V multimeter\"],Diff_0)\n",
    "plt.plot(Vdata[\"V multimeter\"],Diff_1)\n",
    "plt.plot(Vdata[\"V multimeter\"],Diff_2)\n",
    "plt.xlabel(\"Tegangan Input (V)\")\n",
    "plt.ylabel(\"Beda tengangan (V)\")"
   ]
  },
  {
   "cell_type": "code",
   "execution_count": 196,
   "metadata": {},
   "outputs": [
    {
     "data": {
      "text/plain": [
       "Text(0, 0.5, 'Beda tengangan (V)')"
      ]
     },
     "execution_count": 196,
     "metadata": {},
     "output_type": "execute_result"
    },
    {
     "data": {
      "image/png": "[encoded data removed]",
      "text/plain": [
       "<Figure size 432x288 with 1 Axes>"
      ]
     },
     "metadata": {
      "needs_background": "light"
     },
     "output_type": "display_data"
    }
   ],
   "source": [
    "from matplotlib.ticker import FormatStrFormatter,PercentFormatter\n",
    "fig, ax = plt.subplots()\n",
    "\n",
    "ax.yaxis.set_major_formatter(FormatStrFormatter('%.3f'))\n",
    "plt.plot(Vdata[\"V multimeter\"],Diff_0)\n",
    "plt.plot(Vdata[\"V multimeter\"],Diff_1)\n",
    "plt.plot(Vdata[\"V multimeter\"],Diff_2)\n",
    "plt.xlabel(\"Tegangan Input (V)\")\n",
    "plt.ylabel(\"Beda tengangan (V)\")"
   ]
  },
  {
   "cell_type": "code",
   "execution_count": 197,
   "metadata": {},
   "outputs": [
    {
     "data": {
      "text/plain": [
       "Text(0, 0.5, 'Error bacaan')"
      ]
     },
     "execution_count": 197,
     "metadata": {},
     "output_type": "execute_result"
    },
    {
     "data": {
      "image/png": "[encoded data removed]",
      "text/plain": [
       "<Figure size 432x288 with 1 Axes>"
      ]
     },
     "metadata": {
      "needs_background": "light"
     },
     "output_type": "display_data"
    }
   ],
   "source": [
    "from matplotlib.ticker import FormatStrFormatter,PercentFormatter\n",
    "fig, ax = plt.subplots()\n",
    "\n",
    "ax.yaxis.set_major_formatter(FormatStrFormatter('%.3f'))\n",
    "plt.plot(Vdata[\"V multimeter\"],Err_0)\n",
    "plt.plot(Vdata[\"V multimeter\"],Err_1)\n",
    "plt.plot(Vdata[\"V multimeter\"],Err_2)\n",
    "plt.ylim(0,2)\n",
    "ax.yaxis.set_major_formatter(PercentFormatter())\n",
    "plt.xlabel(\"Tegangan Input (V)\")\n",
    "plt.ylabel(\"Error bacaan\")"
   ]
  },
  {
   "cell_type": "code",
   "execution_count": 198,
   "metadata": {},
   "outputs": [
    {
     "data": {
      "text/plain": [
       "Text(0, 0.5, 'Error bacaan')"
      ]
     },
     "execution_count": 198,
     "metadata": {},
     "output_type": "execute_result"
    },
    {
     "data": {
      "image/png": "[encoded data removed]",
      "text/plain": [
       "<Figure size 432x288 with 1 Axes>"
      ]
     },
     "metadata": {
      "needs_background": "light"
     },
     "output_type": "display_data"
    }
   ],
   "source": [
    "from matplotlib.ticker import FormatStrFormatter,PercentFormatter\n",
    "fig, ax = plt.subplots()\n",
    "\n",
    "ax.yaxis.set_major_formatter(FormatStrFormatter('%.3f'))\n",
    "plt.plot(Vdata[\"V multimeter\"],Err_0)\n",
    "plt.plot(Vdata[\"V multimeter\"],Err_1)\n",
    "plt.plot(Vdata[\"V multimeter\"],Err_2)\n",
    "plt.ylim(0,2)\n",
    "ax.yaxis.set_major_formatter(PercentFormatter())\n",
    "plt.xlabel(\"Tegangan Input (V)\")\n",
    "plt.ylabel(\"Error bacaan\")"
   ]
  },
  {
   "cell_type": "code",
   "execution_count": 199,
   "metadata": {},
   "outputs": [],
   "source": [
    "import plotly as ply"
   ]
  },
  {
   "cell_type": "code",
   "execution_count": 200,
   "metadata": {},
   "outputs": [],
   "source": [
    "gain_list=[\"1\",\"2\",\"4\",\"8\",\"16\"]"
   ]
  },
  {
   "cell_type": "code",
   "execution_count": 201,
   "metadata": {},
   "outputs": [
    {
     "data": {
      "text/plain": [
       "True"
      ]
     },
     "execution_count": 201,
     "metadata": {},
     "output_type": "execute_result"
    }
   ],
   "source": [
    "len(gain_list)==len(ADC_Range)"
   ]
  },
  {
   "cell_type": "code",
   "execution_count": 202,
   "metadata": {},
   "outputs": [
    {
     "data": {
      "application/vnd.plotly.v1+json": {
       "config": {
        "plotlyServerURL": "https://plot.ly"
       },
       "data": [
        {
         "name": "ADC 0 x1",
         "type": "scatter",
         "x": [
          1.031,
          2.035,
          3.03,
          4.063,
          5.087
         ],
         "y": [
          12.870655396574735,
          0.18244656914553786,
          0.1646976348581223,
          0.23632825291869114,
          0.6361409689818935
         ]
        },
        {
         "name": "ADC 1 x1",
         "type": "scatter",
         "x": [
          1.031,
          2.035,
          3.03,
          4.063,
          5.087
         ],
         "y": [
          0.17263783921428025,
          0.5437328922374759,
          0.1996111241409375,
          0.0628956656621726,
          0.27653482747411035
         ]
        },
        {
         "name": "ADC 2 x1",
         "type": "scatter",
         "x": [
          1.031,
          2.035,
          3.03,
          4.063,
          5.087
         ],
         "y": [
          5.7602586956954,
          0.14106829325491105,
          0.6233368941557692,
          0.43847563041616544,
          0.4632926100894028
         ]
        },
        {
         "name": "ADC 0 x2",
         "type": "scatter",
         "x": [
          6.09,
          7.03,
          8.1,
          9.06,
          10.09
         ],
         "y": [
          0.3619519333785325,
          0.3522378684819359,
          0.28898579544348973,
          0.33488403145665696,
          0.3298981816593557
         ]
        },
        {
         "name": "ADC 1 x2",
         "type": "scatter",
         "x": [
          6.09,
          7.03,
          8.1,
          9.06,
          10.09
         ],
         "y": [
          0.068308202451545,
          0.10614923646016935,
          0.07790623728992435,
          0.12282950088937576,
          0.21400165238922605
         ]
        },
        {
         "name": "ADC 2 x2",
         "type": "scatter",
         "x": [
          6.09,
          7.03,
          8.1,
          9.06,
          10.09
         ],
         "y": [
          0.10285643228778805,
          0.25268893684885985,
          0.23680810017577292,
          0.25655649424842525,
          0.08208827209231155
         ]
        },
        {
         "name": "ADC 0 x4",
         "type": "scatter",
         "x": [
          11.08,
          11.84,
          13.09,
          14.13,
          14.78,
          16.22,
          17.36,
          18.13,
          19.2,
          20.51
         ],
         "y": [
          0.05207710644060297,
          0.28038229453870817,
          0.33475247717848,
          0.3517770162200672,
          0.8556284778849467,
          0.20677555668881414,
          0.21402489909459252,
          0.16008111066935912,
          0.04963157521303829,
          0.06354345039583645
         ]
        },
        {
         "name": "ADC 1 x4",
         "type": "scatter",
         "x": [
          11.08,
          11.84,
          13.09,
          14.13,
          14.78,
          16.22,
          17.36,
          18.13,
          19.2,
          20.51
         ],
         "y": [
          0.25050969917651394,
          0.23975973981919546,
          0.1909231707545365,
          0.7549100706532916,
          0.42463677072312617,
          0.5904735786397949,
          0.627276354339758,
          0.5895343604201111,
          0.2734961251656398,
          0.35162524709567256
         ]
        },
        {
         "name": "ADC 2 x4",
         "type": "scatter",
         "x": [
          11.08,
          11.84,
          13.09,
          14.13,
          14.78,
          16.22,
          17.36,
          18.13,
          19.2,
          20.51
         ],
         "y": [
          0.09416545904294249,
          0.03788910560927024,
          0.025689149628449086,
          0.5699692940629271,
          0.63562633833013,
          0.4124847197951093,
          0.4835955866246997,
          0.4051379591316571,
          0.012777833615288763,
          0.1455444812674134
         ]
        },
        {
         "name": "ADC 0 x8",
         "type": "scatter",
         "x": [
          21.25,
          22.18,
          23.28,
          24.31,
          25.06,
          26.32,
          27.19,
          28.05,
          29.04,
          30.19,
          31.44,
          32.23,
          33,
          34.17,
          35.05,
          36.34,
          37.14,
          38.2,
          39.03,
          40.09
         ],
         "y": [
          0.032866515302383534,
          0.07071997382099425,
          0.07940904836321466,
          0.0015332602916471826,
          0.028165674504590305,
          0.37922191347332196,
          0.3330912519738962,
          0.4283386350542948,
          0.3535049562706582,
          0.3303503787040193,
          0.3402334700991056,
          0.3038448315774224,
          0.3002893388072762,
          0.29844475229798706,
          0.254105071337518,
          0.2683013608718057,
          0.2868414894607383,
          0.2500103602319356,
          0.28665460536878806,
          0.249291388597792
         ]
        },
        {
         "name": "ADC 1 x8",
         "type": "scatter",
         "x": [
          21.25,
          22.18,
          23.28,
          24.31,
          25.06,
          26.32,
          27.19,
          28.05,
          29.04,
          30.19,
          31.44,
          32.23,
          33,
          34.17,
          35.05,
          36.34,
          37.14,
          38.2,
          39.03,
          40.09
         ],
         "y": [
          0.3819368277606493,
          0.3378441339891232,
          0.2997830085929013,
          0.42532714867689736,
          0.3937129060926613,
          0.008609239489523298,
          0.09691982462856091,
          0.004270374988592682,
          0.02938482180936825,
          0.0629679987293352,
          0.09583867619503555,
          0.08073734802830712,
          0.13726311110358988,
          0.1115514237051058,
          0.15376968879698372,
          0.17238813816076826,
          0.10404033935334404,
          0.14195437083839138,
          0.14901487655290896,
          0.14303127007407482
         ]
        },
        {
         "name": "ADC 2 x8",
         "type": "scatter",
         "x": [
          21.25,
          22.18,
          23.28,
          24.31,
          25.06,
          26.32,
          27.19,
          28.05,
          29.04,
          30.19,
          31.44,
          32.23,
          33,
          34.17,
          35.05,
          36.34,
          37.14,
          38.2,
          39.03,
          40.09
         ],
         "y": [
          0.1353219151053007,
          0.14142546684603333,
          0.1895777264508637,
          0.22860899163807605,
          0.11972926198798757,
          0.1709148261306803,
          0.10746695524207407,
          0.183557381793663,
          0.13474637203526557,
          0.12043724662907085,
          0.09549798036655124,
          0.1328754201275717,
          0.06529178328979025,
          0.12118186292411641,
          0.06001798573774332,
          0.047682841270939316,
          0.03399519853075107,
          0.05304266542468301,
          0.06109923241419681,
          0.03192080816309627
         ]
        },
        {
         "name": "ADC 0 x16",
         "type": "scatter",
         "x": [
          41.38,
          42.19,
          43.18,
          44.31,
          45.49,
          46.22,
          47.23,
          48.3,
          49.01,
          50.45,
          51.03,
          52.22,
          53.26,
          54.22,
          55.41,
          56.04,
          57.05,
          58.45,
          59.46,
          60.4,
          61.1,
          62.2,
          63,
          64.5,
          65,
          66.5,
          67.2,
          68.2,
          69.2,
          70.2,
          71.3,
          72,
          73.3,
          73.9,
          75.2,
          76.3,
          76.9,
          77.9,
          79.1,
          80
         ],
         "y": [
          0.254042516344846,
          0.27606821724868436,
          0.21596390192618817,
          0.21072812916956032,
          0.23987938926296548,
          0.24136947664979017,
          0.2293902267669792,
          0.21193460683670834,
          0.2399811642003475,
          0.20316044487258952,
          0.2265366414901857,
          0.21732334388220015,
          0.20371267423413683,
          0.21673408604216976,
          0.21249130432740465,
          0.24000227019619763,
          0.21915457003456085,
          0.21939634469450905,
          0.23215143174894803,
          0.20345476457127226,
          0.06566533769415767,
          0.06000584868378561,
          0.03824059384703289,
          0.20099947852056294,
          0.20110231799107553,
          0.23037850179960523,
          0.20091662892884357,
          0.12589542535214665,
          0.17345907366578742,
          0.26603531693301224,
          0.19847624062816743,
          0.24000556213788432,
          0.24971113627710326,
          0.1473075626600435,
          0.19334446751799078,
          0.20497824996609323,
          0.13671743996595007,
          0.26875039395446243,
          0.18937714464365624,
          0.2061937568542405
         ]
        },
        {
         "name": "ADC 1 x16",
         "type": "scatter",
         "x": [
          41.38,
          42.19,
          43.18,
          44.31,
          45.49,
          46.22,
          47.23,
          48.3,
          49.01,
          50.45,
          51.03,
          52.22,
          53.26,
          54.22,
          55.41,
          56.04,
          57.05,
          58.45,
          59.46,
          60.4,
          61.1,
          62.2,
          63,
          64.5,
          65,
          66.5,
          67.2,
          68.2,
          69.2,
          70.2,
          71.3,
          72,
          73.3,
          73.9,
          75.2,
          76.3,
          76.9,
          77.9,
          79.1,
          80
         ],
         "y": [
          0.14807489775902274,
          0.12882157072240538,
          0.1826581595141679,
          0.18360501301020288,
          0.16311521517861616,
          0.17835939214519214,
          0.18081151416052912,
          0.19834509881314039,
          0.1728560373925903,
          0.21492626030353879,
          0.18679814738176556,
          0.2070373998135254,
          0.18791544162851695,
          0.20878272039926227,
          0.22691468265152384,
          0.17494779916762712,
          0.19347019588720304,
          0.18824580936064586,
          0.16506288326841415,
          0.21732552513333453,
          0.34219665503708474,
          0.35278402937324915,
          0.35814746868116987,
          0.1914186475470731,
          0.20231879494470098,
          0.14201438851145234,
          0.19627226975282852,
          0.25821501818345916,
          0.2141318865929216,
          0.13383959548082477,
          0.22590786251573386,
          0.15819084009163947,
          0.14177837330301776,
          0.25509818456841327,
          0.218379854689877,
          0.21685075842028104,
          0.26048707970698565,
          0.14876019053807862,
          0.2510987427542564,
          0.2140282229373014
         ]
        },
        {
         "name": "ADC 2 x16",
         "type": "scatter",
         "x": [
          41.38,
          42.19,
          43.18,
          44.31,
          45.49,
          46.22,
          47.23,
          48.3,
          49.01,
          50.45,
          51.03,
          52.22,
          53.26,
          54.22,
          55.41,
          56.04,
          57.05,
          58.45,
          59.46,
          60.4,
          61.1,
          62.2,
          63,
          64.5,
          65,
          66.5,
          67.2,
          68.2,
          69.2,
          70.2,
          71.3,
          72,
          73.3,
          73.9,
          75.2,
          76.3,
          76.9,
          77.9,
          79.1,
          80
         ],
         "y": [
          0.017829773482685135,
          0.026613628388491475,
          0.00866094908282473,
          0.0033812751949956173,
          0.0689377821816671,
          0.048298287483007,
          0.0024279288132832803,
          0.028262930662007173,
          0.012642750621363046,
          0.020927828674336898,
          0.010118479475483591,
          0.02163453667861674,
          0.0284629906571057,
          0.005262033521601819,
          0.008257486851931119,
          0.007198319495487918,
          0.012855058881165548,
          0.019913585995708995,
          0.02512506535641679,
          0.047351126868730865,
          0.14601956543056158,
          0.14534266771287685,
          0.17539977346181618,
          0.014060182998398238,
          0.024606746984982938,
          0.03345971560184479,
          0.009486703719284251,
          0.06994015525656892,
          0.012433998355695036,
          0.05505613818834078,
          0.0120532280269996,
          0.06251729226755111,
          0.038215298086804524,
          0.03911957715226563,
          0.01660229831553098,
          0.006188293051027841,
          0.022661898425278944,
          0.10112964963600513,
          0.012051802925916653,
          0.026110832106880366
         ]
        }
       ],
       "layout": {
        "template": {
         "data": {
          "bar": [
           {
            "error_x": {
             "color": "#2a3f5f"
            },
            "error_y": {
             "color": "#2a3f5f"
            },
            "marker": {
             "line": {
              "color": "#E5ECF6",
              "width": 0.5
             },
             "pattern": {
              "fillmode": "overlay",
              "size": 10,
              "solidity": 0.2
             }
            },
            "type": "bar"
           }
          ],
          "barpolar": [
           {
            "marker": {
             "line": {
              "color": "#E5ECF6",
              "width": 0.5
             },
             "pattern": {
              "fillmode": "overlay",
              "size": 10,
              "solidity": 0.2
             }
            },
            "type": "barpolar"
           }
          ],
          "carpet": [
           {
            "aaxis": {
             "endlinecolor": "#2a3f5f",
             "gridcolor": "white",
             "linecolor": "white",
             "minorgridcolor": "white",
             "startlinecolor": "#2a3f5f"
            },
            "baxis": {
             "endlinecolor": "#2a3f5f",
             "gridcolor": "white",
             "linecolor": "white",
             "minorgridcolor": "white",
             "startlinecolor": "#2a3f5f"
            },
            "type": "carpet"
           }
          ],
          "choropleth": [
           {
            "colorbar": {
             "outlinewidth": 0,
             "ticks": ""
            },
            "type": "choropleth"
           }
          ],
          "contour": [
           {
            "colorbar": {
             "outlinewidth": 0,
             "ticks": ""
            },
            "colorscale": [
             [
              0,
              "#0d0887"
             ],
             [
              0.1111111111111111,
              "#46039f"
             ],
             [
              0.2222222222222222,
              "#7201a8"
             ],
             [
              0.3333333333333333,
              "#9c179e"
             ],
             [
              0.4444444444444444,
              "#bd3786"
             ],
             [
              0.5555555555555556,
              "#d8576b"
             ],
             [
              0.6666666666666666,
              "#ed7953"
             ],
             [
              0.7777777777777778,
              "#fb9f3a"
             ],
             [
              0.8888888888888888,
              "#fdca26"
             ],
             [
              1,
              "#f0f921"
             ]
            ],
            "type": "contour"
           }
          ],
          "contourcarpet": [
           {
            "colorbar": {
             "outlinewidth": 0,
             "ticks": ""
            },
            "type": "contourcarpet"
           }
          ],
          "heatmap": [
           {
            "colorbar": {
             "outlinewidth": 0,
             "ticks": ""
            },
            "colorscale": [
             [
              0,
              "#0d0887"
             ],
             [
              0.1111111111111111,
              "#46039f"
             ],
             [
              0.2222222222222222,
              "#7201a8"
             ],
             [
              0.3333333333333333,
              "#9c179e"
             ],
             [
              0.4444444444444444,
              "#bd3786"
             ],
             [
              0.5555555555555556,
              "#d8576b"
             ],
             [
              0.6666666666666666,
              "#ed7953"
             ],
             [
              0.7777777777777778,
              "#fb9f3a"
             ],
             [
              0.8888888888888888,
              "#fdca26"
             ],
             [
              1,
              "#f0f921"
             ]
            ],
            "type": "heatmap"
           }
          ],
          "heatmapgl": [
           {
            "colorbar": {
             "outlinewidth": 0,
             "ticks": ""
            },
            "colorscale": [
             [
              0,
              "#0d0887"
             ],
             [
              0.1111111111111111,
              "#46039f"
             ],
             [
              0.2222222222222222,
              "#7201a8"
             ],
             [
              0.3333333333333333,
              "#9c179e"
             ],
             [
              0.4444444444444444,
              "#bd3786"
             ],
             [
              0.5555555555555556,
              "#d8576b"
             ],
             [
              0.6666666666666666,
              "#ed7953"
             ],
             [
              0.7777777777777778,
              "#fb9f3a"
             ],
             [
              0.8888888888888888,
              "#fdca26"
             ],
             [
              1,
              "#f0f921"
             ]
            ],
            "type": "heatmapgl"
           }
          ],
          "histogram": [
           {
            "marker": {
             "pattern": {
              "fillmode": "overlay",
              "size": 10,
              "solidity": 0.2
             }
            },
            "type": "histogram"
           }
          ],
          "histogram2d": [
           {
            "colorbar": {
             "outlinewidth": 0,
             "ticks": ""
            },
            "colorscale": [
             [
              0,
              "#0d0887"
             ],
             [
              0.1111111111111111,
              "#46039f"
             ],
             [
              0.2222222222222222,
              "#7201a8"
             ],
             [
              0.3333333333333333,
              "#9c179e"
             ],
             [
              0.4444444444444444,
              "#bd3786"
             ],
             [
              0.5555555555555556,
              "#d8576b"
             ],
             [
              0.6666666666666666,
              "#ed7953"
             ],
             [
              0.7777777777777778,
              "#fb9f3a"
             ],
             [
              0.8888888888888888,
              "#fdca26"
             ],
             [
              1,
              "#f0f921"
             ]
            ],
            "type": "histogram2d"
           }
          ],
          "histogram2dcontour": [
           {
            "colorbar": {
             "outlinewidth": 0,
             "ticks": ""
            },
            "colorscale": [
             [
              0,
              "#0d0887"
             ],
             [
              0.1111111111111111,
              "#46039f"
             ],
             [
              0.2222222222222222,
              "#7201a8"
             ],
             [
              0.3333333333333333,
              "#9c179e"
             ],
             [
              0.4444444444444444,
              "#bd3786"
             ],
             [
              0.5555555555555556,
              "#d8576b"
             ],
             [
              0.6666666666666666,
              "#ed7953"
             ],
             [
              0.7777777777777778,
              "#fb9f3a"
             ],
             [
              0.8888888888888888,
              "#fdca26"
             ],
             [
              1,
              "#f0f921"
             ]
            ],
            "type": "histogram2dcontour"
           }
          ],
          "mesh3d": [
           {
            "colorbar": {
             "outlinewidth": 0,
             "ticks": ""
            },
            "type": "mesh3d"
           }
          ],
          "parcoords": [
           {
            "line": {
             "colorbar": {
              "outlinewidth": 0,
              "ticks": ""
             }
            },
            "type": "parcoords"
           }
          ],
          "pie": [
           {
            "automargin": true,
            "type": "pie"
           }
          ],
          "scatter": [
           {
            "marker": {
             "colorbar": {
              "outlinewidth": 0,
              "ticks": ""
             }
            },
            "type": "scatter"
           }
          ],
          "scatter3d": [
           {
            "line": {
             "colorbar": {
              "outlinewidth": 0,
              "ticks": ""
             }
            },
            "marker": {
             "colorbar": {
              "outlinewidth": 0,
              "ticks": ""
             }
            },
            "type": "scatter3d"
           }
          ],
          "scattercarpet": [
           {
            "marker": {
             "colorbar": {
              "outlinewidth": 0,
              "ticks": ""
             }
            },
            "type": "scattercarpet"
           }
          ],
          "scattergeo": [
           {
            "marker": {
             "colorbar": {
              "outlinewidth": 0,
              "ticks": ""
             }
            },
            "type": "scattergeo"
           }
          ],
          "scattergl": [
           {
            "marker": {
             "colorbar": {
              "outlinewidth": 0,
              "ticks": ""
             }
            },
            "type": "scattergl"
           }
          ],
          "scattermapbox": [
           {
            "marker": {
             "colorbar": {
              "outlinewidth": 0,
              "ticks": ""
             }
            },
            "type": "scattermapbox"
           }
          ],
          "scatterpolar": [
           {
            "marker": {
             "colorbar": {
              "outlinewidth": 0,
              "ticks": ""
             }
            },
            "type": "scatterpolar"
           }
          ],
          "scatterpolargl": [
           {
            "marker": {
             "colorbar": {
              "outlinewidth": 0,
              "ticks": ""
             }
            },
            "type": "scatterpolargl"
           }
          ],
          "scatterternary": [
           {
            "marker": {
             "colorbar": {
              "outlinewidth": 0,
              "ticks": ""
             }
            },
            "type": "scatterternary"
           }
          ],
          "surface": [
           {
            "colorbar": {
             "outlinewidth": 0,
             "ticks": ""
            },
            "colorscale": [
             [
              0,
              "#0d0887"
             ],
             [
              0.1111111111111111,
              "#46039f"
             ],
             [
              0.2222222222222222,
              "#7201a8"
             ],
             [
              0.3333333333333333,
              "#9c179e"
             ],
             [
              0.4444444444444444,
              "#bd3786"
             ],
             [
              0.5555555555555556,
              "#d8576b"
             ],
             [
              0.6666666666666666,
              "#ed7953"
             ],
             [
              0.7777777777777778,
              "#fb9f3a"
             ],
             [
              0.8888888888888888,
              "#fdca26"
             ],
             [
              1,
              "#f0f921"
             ]
            ],
            "type": "surface"
           }
          ],
          "table": [
           {
            "cells": {
             "fill": {
              "color": "#EBF0F8"
             },
             "line": {
              "color": "white"
             }
            },
            "header": {
             "fill": {
              "color": "#C8D4E3"
             },
             "line": {
              "color": "white"
             }
            },
            "type": "table"
           }
          ]
         },
         "layout": {
          "annotationdefaults": {
           "arrowcolor": "#2a3f5f",
           "arrowhead": 0,
           "arrowwidth": 1
          },
          "autotypenumbers": "strict",
          "coloraxis": {
           "colorbar": {
            "outlinewidth": 0,
            "ticks": ""
           }
          },
          "colorscale": {
           "diverging": [
            [
             0,
             "#8e0152"
            ],
            [
             0.1,
             "#c51b7d"
            ],
            [
             0.2,
             "#de77ae"
            ],
            [
             0.3,
             "#f1b6da"
            ],
            [
             0.4,
             "#fde0ef"
            ],
            [
             0.5,
             "#f7f7f7"
            ],
            [
             0.6,
             "#e6f5d0"
            ],
            [
             0.7,
             "#b8e186"
            ],
            [
             0.8,
             "#7fbc41"
            ],
            [
             0.9,
             "#4d9221"
            ],
            [
             1,
             "#276419"
            ]
           ],
           "sequential": [
            [
             0,
             "#0d0887"
            ],
            [
             0.1111111111111111,
             "#46039f"
            ],
            [
             0.2222222222222222,
             "#7201a8"
            ],
            [
             0.3333333333333333,
             "#9c179e"
            ],
            [
             0.4444444444444444,
             "#bd3786"
            ],
            [
             0.5555555555555556,
             "#d8576b"
            ],
            [
             0.6666666666666666,
             "#ed7953"
            ],
            [
             0.7777777777777778,
             "#fb9f3a"
            ],
            [
             0.8888888888888888,
             "#fdca26"
            ],
            [
             1,
             "#f0f921"
            ]
           ],
           "sequentialminus": [
            [
             0,
             "#0d0887"
            ],
            [
             0.1111111111111111,
             "#46039f"
            ],
            [
             0.2222222222222222,
             "#7201a8"
            ],
            [
             0.3333333333333333,
             "#9c179e"
            ],
            [
             0.4444444444444444,
             "#bd3786"
            ],
            [
             0.5555555555555556,
             "#d8576b"
            ],
            [
             0.6666666666666666,
             "#ed7953"
            ],
            [
             0.7777777777777778,
             "#fb9f3a"
            ],
            [
             0.8888888888888888,
             "#fdca26"
            ],
            [
             1,
             "#f0f921"
            ]
           ]
          },
          "colorway": [
           "#636efa",
           "#EF553B",
           "#00cc96",
           "#ab63fa",
           "#FFA15A",
           "#19d3f3",
           "#FF6692",
           "#B6E880",
           "#FF97FF",
           "#FECB52"
          ],
          "font": {
           "color": "#2a3f5f"
          },
          "geo": {
           "bgcolor": "white",
           "lakecolor": "white",
           "landcolor": "#E5ECF6",
           "showlakes": true,
           "showland": true,
           "subunitcolor": "white"
          },
          "hoverlabel": {
           "align": "left"
          },
          "hovermode": "closest",
          "mapbox": {
           "style": "light"
          },
          "paper_bgcolor": "white",
          "plot_bgcolor": "#E5ECF6",
          "polar": {
           "angularaxis": {
            "gridcolor": "white",
            "linecolor": "white",
            "ticks": ""
           },
           "bgcolor": "#E5ECF6",
           "radialaxis": {
            "gridcolor": "white",
            "linecolor": "white",
            "ticks": ""
           }
          },
          "scene": {
           "xaxis": {
            "backgroundcolor": "#E5ECF6",
            "gridcolor": "white",
            "gridwidth": 2,
            "linecolor": "white",
            "showbackground": true,
            "ticks": "",
            "zerolinecolor": "white"
           },
           "yaxis": {
            "backgroundcolor": "#E5ECF6",
            "gridcolor": "white",
            "gridwidth": 2,
            "linecolor": "white",
            "showbackground": true,
            "ticks": "",
            "zerolinecolor": "white"
           },
           "zaxis": {
            "backgroundcolor": "#E5ECF6",
            "gridcolor": "white",
            "gridwidth": 2,
            "linecolor": "white",
            "showbackground": true,
            "ticks": "",
            "zerolinecolor": "white"
           }
          },
          "shapedefaults": {
           "line": {
            "color": "#2a3f5f"
           }
          },
          "ternary": {
           "aaxis": {
            "gridcolor": "white",
            "linecolor": "white",
            "ticks": ""
           },
           "baxis": {
            "gridcolor": "white",
            "linecolor": "white",
            "ticks": ""
           },
           "bgcolor": "#E5ECF6",
           "caxis": {
            "gridcolor": "white",
            "linecolor": "white",
            "ticks": ""
           }
          },
          "title": {
           "x": 0.05
          },
          "xaxis": {
           "automargin": true,
           "gridcolor": "white",
           "linecolor": "white",
           "ticks": "",
           "title": {
            "standoff": 15
           },
           "zerolinecolor": "white",
           "zerolinewidth": 2
          },
          "yaxis": {
           "automargin": true,
           "gridcolor": "white",
           "linecolor": "white",
           "ticks": "",
           "title": {
            "standoff": 15
           },
           "zerolinecolor": "white",
           "zerolinewidth": 2
          }
         }
        },
        "title": {
         "text": "Error Pengukuran arus pada setiap gain"
        },
        "xaxis": {
         "title": {
          "text": "Arus (mA)"
         }
        },
        "yaxis": {
         "range": [
          0,
          2
         ],
         "title": {
          "text": "Error (%)"
         }
        }
       }
      }
     },
     "metadata": {},
     "output_type": "display_data"
    }
   ],
   "source": [
    "fig = ply.graph_objects.Figure()\n",
    "# Create and style traces\n",
    "for i, val in enumerate(ADC_Range):\n",
    "\n",
    "    fig.add_trace(ply.graph_objects.Scatter(\n",
    "        x=Vdata[\"V multimeter\"].iloc[val], y=Vdata[\"Error 0\"].iloc[val], name=\"ADC 0 x\"+gain_list[i]))\n",
    "    fig.add_trace(ply.graph_objects.Scatter(\n",
    "        x=Vdata[\"V multimeter\"].iloc[val], y=Vdata[\"Error 1\"].iloc[val], name=\"ADC 1 x\"+gain_list[i]))\n",
    "    fig.add_trace(ply.graph_objects.Scatter(\n",
    "        x = Vdata[\"V multimeter\"].iloc[val], y = Vdata[\"Error 2\"].iloc[val], name = \"ADC 2 x\"+gain_list[i]))\n",
    "\n",
    "fig.update_layout(title='Error Pengukuran arus pada setiap gain',\n",
    "                  xaxis_title='Arus (mA)',\n",
    "                  yaxis_title='Error (%)')\n",
    "fig.update_yaxes(range=[0, 2])"
   ]
  },
  {
   "cell_type": "code",
   "execution_count": 203,
   "metadata": {},
   "outputs": [
    {
     "data": {
      "text/plain": [
       "[<matplotlib.lines.Line2D at 0x207961197f0>]"
      ]
     },
     "execution_count": 203,
     "metadata": {},
     "output_type": "execute_result"
    },
    {
     "data": {
      "image/png": "[encoded data removed]",
      "text/plain": [
       "<Figure size 432x288 with 1 Axes>"
      ]
     },
     "metadata": {
      "needs_background": "light"
     },
     "output_type": "display_data"
    }
   ],
   "source": [
    "plt.plot(Vdata[\"ADC 0 Simple\"],Vdata[\"V multimeter\"])"
   ]
  },
  {
   "cell_type": "code",
   "execution_count": 204,
   "metadata": {},
   "outputs": [
    {
     "data": {
      "text/plain": [
       "[<matplotlib.lines.Line2D at 0x2079618feb0>]"
      ]
     },
     "execution_count": 204,
     "metadata": {},
     "output_type": "execute_result"
    },
    {
     "data": {
      "image/png": "[encoded data removed]",
      "text/plain": [
       "<Figure size 432x288 with 1 Axes>"
      ]
     },
     "metadata": {
      "needs_background": "light"
     },
     "output_type": "display_data"
    }
   ],
   "source": [
    "plt.plot(Vdata[\"ADC 1 Simple\"],Vdata[\"V multimeter\"])"
   ]
  },
  {
   "cell_type": "code",
   "execution_count": 205,
   "metadata": {},
   "outputs": [
    {
     "data": {
      "text/plain": [
       "[<matplotlib.lines.Line2D at 0x207961fa640>]"
      ]
     },
     "execution_count": 205,
     "metadata": {},
     "output_type": "execute_result"
    },
    {
     "data": {
      "image/png": "[encoded data removed]",
      "text/plain": [
       "<Figure size 432x288 with 1 Axes>"
      ]
     },
     "metadata": {
      "needs_background": "light"
     },
     "output_type": "display_data"
    }
   ],
   "source": [
    "plt.plot(Vdata[\"ADC 2 Simple\"],Vdata[\"V multimeter\"])"
   ]
  },
  {
   "cell_type": "code",
   "execution_count": 206,
   "metadata": {},
   "outputs": [
    {
     "data": {
      "text/plain": [
       "[<matplotlib.lines.Line2D at 0x20796268640>]"
      ]
     },
     "execution_count": 206,
     "metadata": {},
     "output_type": "execute_result"
    },
    {
     "data": {
      "image/png": "[encoded data removed]",
      "text/plain": [
       "<Figure size 432x288 with 1 Axes>"
      ]
     },
     "metadata": {
      "needs_background": "light"
     },
     "output_type": "display_data"
    }
   ],
   "source": [
    "plt.plot(Vdata['ADC 0'], Vdata['V multimeter'], 'o', label='original data')\n",
    "plt.plot(Vdata['ADC 0'], res_0.intercept + res_0.slope *\n",
    "         Vdata['ADC 0'], 'r', label='fitted line')\n"
   ]
  },
  {
   "cell_type": "code",
   "execution_count": 207,
   "metadata": {},
   "outputs": [
    {
     "data": {
      "text/plain": [
       "[<matplotlib.lines.Line2D at 0x207962d41c0>]"
      ]
     },
     "execution_count": 207,
     "metadata": {},
     "output_type": "execute_result"
    },
    {
     "data": {
      "image/png": "[encoded data removed]",
      "text/plain": [
       "<Figure size 432x288 with 1 Axes>"
      ]
     },
     "metadata": {
      "needs_background": "light"
     },
     "output_type": "display_data"
    }
   ],
   "source": [
    "plt.plot(Vdata['ADC 1'], Vdata['V multimeter'], 'o', label='original data')\n",
    "plt.plot(Vdata['ADC 1'], res_1.intercept + res_1.slope *\n",
    "         Vdata['ADC 1'], 'r', label='fitted line')\n"
   ]
  },
  {
   "cell_type": "code",
   "execution_count": 208,
   "metadata": {},
   "outputs": [
    {
     "data": {
      "text/plain": [
       "[<matplotlib.lines.Line2D at 0x20796331e80>]"
      ]
     },
     "execution_count": 208,
     "metadata": {},
     "output_type": "execute_result"
    },
    {
     "data": {
      "image/png": "[encoded data removed]",
      "text/plain": [
       "<Figure size 432x288 with 1 Axes>"
      ]
     },
     "metadata": {
      "needs_background": "light"
     },
     "output_type": "display_data"
    }
   ],
   "source": [
    "plt.plot(Vdata['ADC 2'], Vdata['V multimeter'], 'o', label='original data')\n",
    "plt.plot(Vdata['ADC 2'], res_2.intercept + res_2.slope *\n",
    "         Vdata['ADC 2'], 'r', label='fitted line')\n"
   ]
  },
  {
   "cell_type": "code",
   "execution_count": 209,
   "metadata": {},
   "outputs": [],
   "source": [
    "interp_slope = 20.83\n"
   ]
  },
  {
   "cell_type": "code",
   "execution_count": 210,
   "metadata": {},
   "outputs": [],
   "source": [
    "#Vdata[['ADC 0','ADC 1']]=Vdata[['ADC 0','ADC 1']]*interp_slope\n",
    "#Vdata['ADC 2']=Vdata*res_2.slope\n"
   ]
  },
  {
   "cell_type": "code",
   "execution_count": 211,
   "metadata": {},
   "outputs": [],
   "source": [
    "Slope_0 = list()\n",
    "Slope_1 = list()\n",
    "Slope_2 = list()\n",
    "Inter_0 = list()\n",
    "Inter_1 = list()\n",
    "Inter_2 = list()\n",
    "for i in ADC_Range:\n",
    "    data_ADC_0 = stats.linregress(\n",
    "        Vdata['ADC 0'].iloc[i], Vdata['V multimeter'].iloc[i])\n",
    "    data_ADC_1 = stats.linregress(\n",
    "        Vdata['ADC 1'].iloc[i], Vdata['V multimeter'].iloc[i])\n",
    "    data_ADC_2 = stats.linregress(\n",
    "        Vdata['ADC 2'].iloc[i], Vdata['V multimeter'].iloc[i])\n",
    "    Slope_0.append(data_ADC_0.slope)\n",
    "    Slope_1.append(data_ADC_1.slope)\n",
    "    Slope_2.append(data_ADC_2.slope)\n",
    "    Inter_0.append(data_ADC_0.intercept)\n",
    "    Inter_1.append(data_ADC_1.intercept)\n",
    "    Inter_2.append(data_ADC_2.intercept)\n"
   ]
  },
  {
   "cell_type": "code",
   "execution_count": 212,
   "metadata": {},
   "outputs": [
    {
     "ename": "SyntaxError",
     "evalue": "unexpected EOF while parsing (<ipython-input-212-99fc84ff663e>, line 3)",
     "output_type": "error",
     "traceback": [
      "\u001b[1;36m  File \u001b[1;32m\"<ipython-input-212-99fc84ff663e>\"\u001b[1;36m, line \u001b[1;32m3\u001b[0m\n\u001b[1;33m    \u001b[0m\n\u001b[1;37m    ^\u001b[0m\n\u001b[1;31mSyntaxError\u001b[0m\u001b[1;31m:\u001b[0m unexpected EOF while parsing\n"
     ]
    }
   ],
   "source": [
    "for i in ADC_Range:\n",
    "    for j in i:\n",
    "        "
   ]
  },
  {
   "cell_type": "code",
   "execution_count": null,
   "metadata": {},
   "outputs": [
    {
     "name": "stdout",
     "output_type": "stream",
     "text": [
      "21.52971172263368 0.25342564408283685\n",
      "20.89026171203868 0.3657219154952047\n",
      "20.656761849591607 0.5371283689991451\n",
      "20.939306206644712 0.28316400728668256\n",
      "20.86239633870673 0.39429262630227413\n"
     ]
    }
   ],
   "source": [
    "for i in range(len(Slope_0)):\n",
    "    print(Slope_0[i], Inter_0[i])\n"
   ]
  }
 ],
 "metadata": {
  "interpreter": {
   "hash": "b6f25d253e9ef28c30dd30f43d7aceaf3b35d139b818aef12eb4cd0f93e2e018"
  },
  "kernelspec": {
   "display_name": "Python 3.8.8 64-bit ('base': conda)",
   "language": "python",
   "name": "python3"
  },
  "language_info": {
   "codemirror_mode": {
    "name": "ipython",
    "version": 3
   },
   "file_extension": ".py",
   "mimetype": "text/x-python",
   "name": "python",
   "nbconvert_exporter": "python",
   "pygments_lexer": "ipython3",
   "version": "3.8.8"
  },
  "orig_nbformat": 4
 },
 "nbformat": 4,
 "nbformat_minor": 2
}
