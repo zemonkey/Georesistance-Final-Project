{
 "cells": [
  {
   "cell_type": "code",
   "execution_count": 36,
   "metadata": {},
   "outputs": [],
   "source": [
    "import pandas as pd\n",
    "import csv\n",
    "from matplotlib import pyplot as plt\n",
    "import os\n",
    "import numpy as np\n",
    "from scipy import stats\n"
   ]
  },
  {
   "cell_type": "code",
   "execution_count": 37,
   "metadata": {},
   "outputs": [],
   "source": [
    "folder_list=list()\n",
    "current_folder = os.getcwd()\n",
    "for item in os.listdir(current_folder):\n",
    "    if len(item) <= 3:\n",
    "        folder_list.append(item)\n",
    "folder_list.sort(key=lambda x:int(x.replace(\"G\",\"\")))"
   ]
  },
  {
   "cell_type": "code",
   "execution_count": 38,
   "metadata": {},
   "outputs": [],
   "source": [
    "csv_list=list()\n",
    "for folder in folder_list:\n",
    "    folder_path=os.path.join(current_folder,folder)\n",
    "    csv_list.append(os.listdir(folder_path))\n",
    "gain_list=list()\n",
    "for folder in folder_list:\n",
    "    gain_list.append(int(folder.replace(\"G\",\"\")))"
   ]
  },
  {
   "cell_type": "code",
   "execution_count": 39,
   "metadata": {},
   "outputs": [
    {
     "name": "stdout",
     "output_type": "stream",
     "text": [
      "54\n"
     ]
    }
   ],
   "source": [
    "sum=0\n",
    "for csv_file in csv_list:\n",
    "    sum+=len(csv_file)\n",
    "print(sum)"
   ]
  },
  {
   "cell_type": "code",
   "execution_count": 40,
   "metadata": {},
   "outputs": [],
   "source": [
    "V_mm = list()\n",
    "V_adc = list()\n",
    "G = list()\n",
    "G_LSB = list()"
   ]
  },
  {
   "cell_type": "code",
   "execution_count": 41,
   "metadata": {},
   "outputs": [],
   "source": [
    "for i in range(len(csv_list)):\n",
    "    for csv_file in csv_list[i]:\n",
    "\n",
    "        G.append(gain_list[i])\n",
    "        G_LSB.append(4096/2**15/gain_list[i])\n",
    "        splitted_I = csv_file.replace(\".csv\", \"\").split(\" \")\n",
    "        V_mm.append(float(splitted_I[0]) +\n",
    "                float(splitted_I[1])/(10**len(splitted_I[1])))\n",
    "\n",
    "        folder_path=os.path.join(current_folder,folder_list[i])\n",
    "        with open(os.path.join(folder_path,csv_file), \"r\") as f:\n",
    "            csv_reader = csv.reader(f, delimiter=',')\n",
    "            V_adc_temp = list()\n",
    "            for row in csv_reader:\n",
    "                # cek kalo list kosong atau engga\n",
    "                if row:\n",
    "                    V_adc_temp.append(float(row[0]))\n",
    "        V_adc.append(np.average(V_adc_temp))"
   ]
  },
  {
   "cell_type": "code",
   "execution_count": 42,
   "metadata": {},
   "outputs": [],
   "source": [
    "Vdata = pd.DataFrame([V_mm, V_adc, G, G_LSB]).T\n",
    "Vdata.columns = ['V multimeter', 'V ADC', 'G', 'G LSB']\n",
    "Vdata=Vdata.sort_values([\"G\",\"V multimeter\"]).reset_index(drop=True)\n",
    "#Vdata = Vdata.sort_values(['G','V ADC'])\n",
    "#Vdata['V ADC'] = Vdata['V ADC']*3/6.2/1000"
   ]
  },
  {
   "cell_type": "code",
   "execution_count": 43,
   "metadata": {},
   "outputs": [],
   "source": [
    "Vdata['V ADC (mV)'] = Vdata['V ADC'].multiply(Vdata['G LSB'], axis=\"index\")"
   ]
  },
  {
   "cell_type": "markdown",
   "metadata": {},
   "source": [
    "\\begin{equation*}\n",
    "  V_{adc}=I_{in}R_{shunt}\\frac{1}{3}A_v\n",
    "\\end{equation*}\n",
    "\\begin{equation*}\n",
    "    I_{in}=\\frac{3V_{adc}}{R_{shunt}A_v}\n",
    "\\end{equation*}\n"
   ]
  },
  {
   "cell_type": "code",
   "execution_count": 44,
   "metadata": {},
   "outputs": [],
   "source": [
    "Slope_I = list()\n",
    "Inter_I = list()\n",
    "for gain in gain_list:\n",
    "    reg_result= stats.linregress(Vdata['V ADC (mV)'].loc[Vdata['G']==gain], Vdata['V multimeter'].loc[Vdata['G']==gain])\n",
    "    Slope_I.append(reg_result.slope)\n",
    "    Inter_I.append(reg_result.intercept)\n"
   ]
  },
  {
   "cell_type": "code",
   "execution_count": 45,
   "metadata": {},
   "outputs": [],
   "source": [
    "Slope_arr= list()\n",
    "Inter_arr= list()\n",
    "#reg_pred = list()\n",
    "for i in range(len(csv_list)):\n",
    "    for j in csv_list[i]:\n",
    "        Slope_arr.append(Slope_I[i])\n",
    "        Inter_arr.append(Inter_I[i])"
   ]
  },
  {
   "cell_type": "code",
   "execution_count": 46,
   "metadata": {},
   "outputs": [],
   "source": [
    "Vdata['V pred']=Vdata['V ADC (mV)'].multiply(Slope_arr)+Inter_arr"
   ]
  },
  {
   "cell_type": "code",
   "execution_count": 47,
   "metadata": {},
   "outputs": [],
   "source": [
    "E_arr=list()\n",
    "Diff_arr=list()\n",
    "for i in range(len(Vdata)):\n",
    "    E_arr.append(abs(Vdata['V pred'][i]-Vdata['V multimeter'][i])/Vdata['V multimeter'][i]*100)\n",
    "    Diff_arr.append(abs(Vdata['V pred'][i]-Vdata['V multimeter'][i]))\n",
    "Vdata['Error']=E_arr\n",
    "Vdata['Diff']=Diff_arr"
   ]
  },
  {
   "cell_type": "code",
   "execution_count": 48,
   "metadata": {},
   "outputs": [
    {
     "name": "stdout",
     "output_type": "stream",
     "text": [
      "0.24956538060559091\n",
      "0.31169541287164454\n",
      "0.19210243396807833\n",
      "0.06253280565341186\n",
      "4.401352549222193\n"
     ]
    }
   ],
   "source": [
    "for i in gain_list:\n",
    "    print(np.average(Vdata[\"Error\"].loc[Vdata['G']==i]))"
   ]
  },
  {
   "cell_type": "code",
   "execution_count": 67,
   "metadata": {},
   "outputs": [
    {
     "data": {
      "text/plain": [
       "[1, 2, 4, 8, 16]"
      ]
     },
     "execution_count": 67,
     "metadata": {},
     "output_type": "execute_result"
    }
   ],
   "source": [
    "gain_list"
   ]
  },
  {
   "cell_type": "code",
   "execution_count": 66,
   "metadata": {},
   "outputs": [
    {
     "data": {
      "text/plain": [
       "[0.125, 0.0625, 0.03125, 0.015625, 0.0078125]"
      ]
     },
     "execution_count": 66,
     "metadata": {},
     "output_type": "execute_result"
    }
   ],
   "source": [
    "gain_LSB_list"
   ]
  },
  {
   "cell_type": "code",
   "execution_count": 65,
   "metadata": {},
   "outputs": [
    {
     "data": {
      "text/plain": [
       "[0.020780802192451212,\n",
       " 0.02084110018034695,\n",
       " 0.021027857135915068,\n",
       " 0.021044122249240838,\n",
       " 0.021282329552675307]"
      ]
     },
     "execution_count": 65,
     "metadata": {},
     "output_type": "execute_result"
    }
   ],
   "source": [
    "Slope_I"
   ]
  },
  {
   "cell_type": "code",
   "execution_count": 68,
   "metadata": {},
   "outputs": [
    {
     "data": {
      "text/plain": [
       "85.27974783982003"
      ]
     },
     "execution_count": 68,
     "metadata": {},
     "output_type": "execute_result"
    }
   ],
   "source": [
    "32768*0.125*Slope_I[0]+Inter_I[0]"
   ]
  },
  {
   "cell_type": "code",
   "execution_count": 61,
   "metadata": {},
   "outputs": [
    {
     "data": {
      "text/plain": [
       "[0.125, 0.0625, 0.03125, 0.015625, 0.0078125]"
      ]
     },
     "execution_count": 61,
     "metadata": {},
     "output_type": "execute_result"
    }
   ],
   "source": [
    "gain_LSB_list"
   ]
  },
  {
   "cell_type": "code",
   "execution_count": 62,
   "metadata": {},
   "outputs": [
    {
     "data": {
      "text/plain": [
       "[0.020780802192451212,\n",
       " 0.02084110018034695,\n",
       " 0.021027857135915068,\n",
       " 0.021044122249240838,\n",
       " 0.021282329552675307]"
      ]
     },
     "execution_count": 62,
     "metadata": {},
     "output_type": "execute_result"
    }
   ],
   "source": [
    "Slope_I"
   ]
  },
  {
   "cell_type": "code",
   "execution_count": 64,
   "metadata": {},
   "outputs": [
    {
     "data": {
      "text/plain": [
       "array([0.16158206, 0.10947509, 0.06196756, 0.0535543 , 0.01093328])"
      ]
     },
     "execution_count": 64,
     "metadata": {},
     "output_type": "execute_result"
    }
   ],
   "source": [
    "np.array(Inter_I)"
   ]
  },
  {
   "cell_type": "code",
   "execution_count": 59,
   "metadata": {},
   "outputs": [],
   "source": [
    "gain_LSB_list=list()\n",
    "for gain in gain_list:\n",
    "    gain_LSB_list.append(4096/2**15/gain)"
   ]
  },
  {
   "cell_type": "code",
   "execution_count": 52,
   "metadata": {},
   "outputs": [
    {
     "data": {
      "text/html": [
       "<div>\n",
       "<style scoped>\n",
       "    .dataframe tbody tr th:only-of-type {\n",
       "        vertical-align: middle;\n",
       "    }\n",
       "\n",
       "    .dataframe tbody tr th {\n",
       "        vertical-align: top;\n",
       "    }\n",
       "\n",
       "    .dataframe thead th {\n",
       "        text-align: right;\n",
       "    }\n",
       "</style>\n",
       "<table border=\"1\" class=\"dataframe\">\n",
       "  <thead>\n",
       "    <tr style=\"text-align: right;\">\n",
       "      <th></th>\n",
       "      <th>V multimeter</th>\n",
       "      <th>V ADC</th>\n",
       "      <th>G</th>\n",
       "      <th>G LSB</th>\n",
       "      <th>V ADC (mV)</th>\n",
       "      <th>V pred</th>\n",
       "      <th>Error</th>\n",
       "      <th>Diff</th>\n",
       "    </tr>\n",
       "  </thead>\n",
       "  <tbody>\n",
       "    <tr>\n",
       "      <th>0</th>\n",
       "      <td>6.470</td>\n",
       "      <td>2458.7</td>\n",
       "      <td>1.0</td>\n",
       "      <td>0.125000</td>\n",
       "      <td>307.337500</td>\n",
       "      <td>6.548302</td>\n",
       "      <td>1.210230</td>\n",
       "      <td>0.078302</td>\n",
       "    </tr>\n",
       "    <tr>\n",
       "      <th>1</th>\n",
       "      <td>10.510</td>\n",
       "      <td>4004.0</td>\n",
       "      <td>1.0</td>\n",
       "      <td>0.125000</td>\n",
       "      <td>500.500000</td>\n",
       "      <td>10.562374</td>\n",
       "      <td>0.498321</td>\n",
       "      <td>0.052374</td>\n",
       "    </tr>\n",
       "    <tr>\n",
       "      <th>2</th>\n",
       "      <td>15.750</td>\n",
       "      <td>6003.9</td>\n",
       "      <td>1.0</td>\n",
       "      <td>0.125000</td>\n",
       "      <td>750.487500</td>\n",
       "      <td>15.757314</td>\n",
       "      <td>0.046440</td>\n",
       "      <td>0.007314</td>\n",
       "    </tr>\n",
       "    <tr>\n",
       "      <th>3</th>\n",
       "      <td>20.680</td>\n",
       "      <td>7897.5</td>\n",
       "      <td>1.0</td>\n",
       "      <td>0.125000</td>\n",
       "      <td>987.187500</td>\n",
       "      <td>20.676130</td>\n",
       "      <td>0.018713</td>\n",
       "      <td>0.003870</td>\n",
       "    </tr>\n",
       "    <tr>\n",
       "      <th>4</th>\n",
       "      <td>25.770</td>\n",
       "      <td>9830.8</td>\n",
       "      <td>1.0</td>\n",
       "      <td>0.125000</td>\n",
       "      <td>1228.850000</td>\n",
       "      <td>25.698071</td>\n",
       "      <td>0.279120</td>\n",
       "      <td>0.071929</td>\n",
       "    </tr>\n",
       "    <tr>\n",
       "      <th>5</th>\n",
       "      <td>31.470</td>\n",
       "      <td>11979.0</td>\n",
       "      <td>1.0</td>\n",
       "      <td>0.125000</td>\n",
       "      <td>1497.375000</td>\n",
       "      <td>31.278236</td>\n",
       "      <td>0.609356</td>\n",
       "      <td>0.191764</td>\n",
       "    </tr>\n",
       "    <tr>\n",
       "      <th>6</th>\n",
       "      <td>35.400</td>\n",
       "      <td>13525.2</td>\n",
       "      <td>1.0</td>\n",
       "      <td>0.125000</td>\n",
       "      <td>1690.650000</td>\n",
       "      <td>35.294645</td>\n",
       "      <td>0.297612</td>\n",
       "      <td>0.105355</td>\n",
       "    </tr>\n",
       "    <tr>\n",
       "      <th>7</th>\n",
       "      <td>40.240</td>\n",
       "      <td>15453.6</td>\n",
       "      <td>1.0</td>\n",
       "      <td>0.125000</td>\n",
       "      <td>1931.700000</td>\n",
       "      <td>40.303858</td>\n",
       "      <td>0.158692</td>\n",
       "      <td>0.063858</td>\n",
       "    </tr>\n",
       "    <tr>\n",
       "      <th>8</th>\n",
       "      <td>45.470</td>\n",
       "      <td>17460.7</td>\n",
       "      <td>1.0</td>\n",
       "      <td>0.125000</td>\n",
       "      <td>2182.587500</td>\n",
       "      <td>45.517501</td>\n",
       "      <td>0.104467</td>\n",
       "      <td>0.047501</td>\n",
       "    </tr>\n",
       "    <tr>\n",
       "      <th>9</th>\n",
       "      <td>50.560</td>\n",
       "      <td>19424.3</td>\n",
       "      <td>1.0</td>\n",
       "      <td>0.125000</td>\n",
       "      <td>2428.037500</td>\n",
       "      <td>50.618149</td>\n",
       "      <td>0.115010</td>\n",
       "      <td>0.058149</td>\n",
       "    </tr>\n",
       "    <tr>\n",
       "      <th>10</th>\n",
       "      <td>55.510</td>\n",
       "      <td>21315.9</td>\n",
       "      <td>1.0</td>\n",
       "      <td>0.125000</td>\n",
       "      <td>2664.487500</td>\n",
       "      <td>55.531770</td>\n",
       "      <td>0.039218</td>\n",
       "      <td>0.021770</td>\n",
       "    </tr>\n",
       "    <tr>\n",
       "      <th>11</th>\n",
       "      <td>61.400</td>\n",
       "      <td>23614.7</td>\n",
       "      <td>1.0</td>\n",
       "      <td>0.125000</td>\n",
       "      <td>2951.837500</td>\n",
       "      <td>61.503133</td>\n",
       "      <td>0.167969</td>\n",
       "      <td>0.103133</td>\n",
       "    </tr>\n",
       "    <tr>\n",
       "      <th>12</th>\n",
       "      <td>65.500</td>\n",
       "      <td>25169.2</td>\n",
       "      <td>1.0</td>\n",
       "      <td>0.125000</td>\n",
       "      <td>3146.150000</td>\n",
       "      <td>65.541103</td>\n",
       "      <td>0.062752</td>\n",
       "      <td>0.041103</td>\n",
       "    </tr>\n",
       "    <tr>\n",
       "      <th>13</th>\n",
       "      <td>70.400</td>\n",
       "      <td>27031.4</td>\n",
       "      <td>1.0</td>\n",
       "      <td>0.125000</td>\n",
       "      <td>3378.925000</td>\n",
       "      <td>70.378354</td>\n",
       "      <td>0.030747</td>\n",
       "      <td>0.021646</td>\n",
       "    </tr>\n",
       "    <tr>\n",
       "      <th>14</th>\n",
       "      <td>75.300</td>\n",
       "      <td>28895.7</td>\n",
       "      <td>1.0</td>\n",
       "      <td>0.125000</td>\n",
       "      <td>3611.962500</td>\n",
       "      <td>75.221060</td>\n",
       "      <td>0.104834</td>\n",
       "      <td>0.078940</td>\n",
       "    </tr>\n",
       "    <tr>\n",
       "      <th>15</th>\n",
       "      <td>5.200</td>\n",
       "      <td>3942.7</td>\n",
       "      <td>2.0</td>\n",
       "      <td>0.062500</td>\n",
       "      <td>246.418750</td>\n",
       "      <td>5.245113</td>\n",
       "      <td>0.867557</td>\n",
       "      <td>0.045113</td>\n",
       "    </tr>\n",
       "    <tr>\n",
       "      <th>16</th>\n",
       "      <td>8.250</td>\n",
       "      <td>6273.9</td>\n",
       "      <td>2.0</td>\n",
       "      <td>0.062500</td>\n",
       "      <td>392.118750</td>\n",
       "      <td>8.281661</td>\n",
       "      <td>0.383773</td>\n",
       "      <td>0.031661</td>\n",
       "    </tr>\n",
       "    <tr>\n",
       "      <th>17</th>\n",
       "      <td>12.180</td>\n",
       "      <td>9279.7</td>\n",
       "      <td>2.0</td>\n",
       "      <td>0.062500</td>\n",
       "      <td>579.981250</td>\n",
       "      <td>12.196922</td>\n",
       "      <td>0.138936</td>\n",
       "      <td>0.016922</td>\n",
       "    </tr>\n",
       "    <tr>\n",
       "      <th>18</th>\n",
       "      <td>16.060</td>\n",
       "      <td>12245.3</td>\n",
       "      <td>2.0</td>\n",
       "      <td>0.062500</td>\n",
       "      <td>765.331250</td>\n",
       "      <td>16.059820</td>\n",
       "      <td>0.001119</td>\n",
       "      <td>0.000180</td>\n",
       "    </tr>\n",
       "    <tr>\n",
       "      <th>19</th>\n",
       "      <td>20.180</td>\n",
       "      <td>15407.9</td>\n",
       "      <td>2.0</td>\n",
       "      <td>0.062500</td>\n",
       "      <td>962.993750</td>\n",
       "      <td>20.179324</td>\n",
       "      <td>0.003348</td>\n",
       "      <td>0.000676</td>\n",
       "    </tr>\n",
       "    <tr>\n",
       "      <th>20</th>\n",
       "      <td>24.010</td>\n",
       "      <td>18318.8</td>\n",
       "      <td>2.0</td>\n",
       "      <td>0.062500</td>\n",
       "      <td>1144.925000</td>\n",
       "      <td>23.970972</td>\n",
       "      <td>0.162550</td>\n",
       "      <td>0.039028</td>\n",
       "    </tr>\n",
       "    <tr>\n",
       "      <th>21</th>\n",
       "      <td>28.210</td>\n",
       "      <td>21478.8</td>\n",
       "      <td>2.0</td>\n",
       "      <td>0.062500</td>\n",
       "      <td>1342.425000</td>\n",
       "      <td>28.087089</td>\n",
       "      <td>0.435700</td>\n",
       "      <td>0.122911</td>\n",
       "    </tr>\n",
       "    <tr>\n",
       "      <th>22</th>\n",
       "      <td>32.100</td>\n",
       "      <td>24433.5</td>\n",
       "      <td>2.0</td>\n",
       "      <td>0.062500</td>\n",
       "      <td>1527.093750</td>\n",
       "      <td>31.935789</td>\n",
       "      <td>0.511561</td>\n",
       "      <td>0.164211</td>\n",
       "    </tr>\n",
       "    <tr>\n",
       "      <th>23</th>\n",
       "      <td>36.000</td>\n",
       "      <td>27639.4</td>\n",
       "      <td>2.0</td>\n",
       "      <td>0.062500</td>\n",
       "      <td>1727.462500</td>\n",
       "      <td>36.111694</td>\n",
       "      <td>0.310261</td>\n",
       "      <td>0.111694</td>\n",
       "    </tr>\n",
       "    <tr>\n",
       "      <th>24</th>\n",
       "      <td>40.250</td>\n",
       "      <td>30909.8</td>\n",
       "      <td>2.0</td>\n",
       "      <td>0.062500</td>\n",
       "      <td>1931.862500</td>\n",
       "      <td>40.371615</td>\n",
       "      <td>0.302149</td>\n",
       "      <td>0.121615</td>\n",
       "    </tr>\n",
       "    <tr>\n",
       "      <th>25</th>\n",
       "      <td>4.084</td>\n",
       "      <td>6140.2</td>\n",
       "      <td>4.0</td>\n",
       "      <td>0.031250</td>\n",
       "      <td>191.881250</td>\n",
       "      <td>4.096819</td>\n",
       "      <td>0.313885</td>\n",
       "      <td>0.012819</td>\n",
       "    </tr>\n",
       "    <tr>\n",
       "      <th>26</th>\n",
       "      <td>6.060</td>\n",
       "      <td>9146.2</td>\n",
       "      <td>4.0</td>\n",
       "      <td>0.031250</td>\n",
       "      <td>285.818750</td>\n",
       "      <td>6.072123</td>\n",
       "      <td>0.200056</td>\n",
       "      <td>0.012123</td>\n",
       "    </tr>\n",
       "    <tr>\n",
       "      <th>27</th>\n",
       "      <td>8.040</td>\n",
       "      <td>12138.2</td>\n",
       "      <td>4.0</td>\n",
       "      <td>0.031250</td>\n",
       "      <td>379.318750</td>\n",
       "      <td>8.038228</td>\n",
       "      <td>0.022039</td>\n",
       "      <td>0.001772</td>\n",
       "    </tr>\n",
       "    <tr>\n",
       "      <th>28</th>\n",
       "      <td>10.550</td>\n",
       "      <td>15976.2</td>\n",
       "      <td>4.0</td>\n",
       "      <td>0.031250</td>\n",
       "      <td>499.256250</td>\n",
       "      <td>10.560257</td>\n",
       "      <td>0.097220</td>\n",
       "      <td>0.010257</td>\n",
       "    </tr>\n",
       "    <tr>\n",
       "      <th>29</th>\n",
       "      <td>12.290</td>\n",
       "      <td>18607.5</td>\n",
       "      <td>4.0</td>\n",
       "      <td>0.031250</td>\n",
       "      <td>581.484375</td>\n",
       "      <td>12.289338</td>\n",
       "      <td>0.005387</td>\n",
       "      <td>0.000662</td>\n",
       "    </tr>\n",
       "    <tr>\n",
       "      <th>30</th>\n",
       "      <td>14.150</td>\n",
       "      <td>21384.2</td>\n",
       "      <td>4.0</td>\n",
       "      <td>0.031250</td>\n",
       "      <td>668.256250</td>\n",
       "      <td>14.113965</td>\n",
       "      <td>0.254668</td>\n",
       "      <td>0.036035</td>\n",
       "    </tr>\n",
       "    <tr>\n",
       "      <th>31</th>\n",
       "      <td>16.080</td>\n",
       "      <td>24267.1</td>\n",
       "      <td>4.0</td>\n",
       "      <td>0.031250</td>\n",
       "      <td>758.346875</td>\n",
       "      <td>16.008377</td>\n",
       "      <td>0.445415</td>\n",
       "      <td>0.071623</td>\n",
       "    </tr>\n",
       "    <tr>\n",
       "      <th>32</th>\n",
       "      <td>18.310</td>\n",
       "      <td>27824.0</td>\n",
       "      <td>4.0</td>\n",
       "      <td>0.031250</td>\n",
       "      <td>869.500000</td>\n",
       "      <td>18.345689</td>\n",
       "      <td>0.194917</td>\n",
       "      <td>0.035689</td>\n",
       "    </tr>\n",
       "    <tr>\n",
       "      <th>33</th>\n",
       "      <td>20.070</td>\n",
       "      <td>30507.7</td>\n",
       "      <td>4.0</td>\n",
       "      <td>0.031250</td>\n",
       "      <td>953.365625</td>\n",
       "      <td>20.109204</td>\n",
       "      <td>0.195335</td>\n",
       "      <td>0.039204</td>\n",
       "    </tr>\n",
       "    <tr>\n",
       "      <th>34</th>\n",
       "      <td>3.202</td>\n",
       "      <td>9591.4</td>\n",
       "      <td>8.0</td>\n",
       "      <td>0.015625</td>\n",
       "      <td>149.865625</td>\n",
       "      <td>3.207345</td>\n",
       "      <td>0.166922</td>\n",
       "      <td>0.005345</td>\n",
       "    </tr>\n",
       "    <tr>\n",
       "      <th>35</th>\n",
       "      <td>4.091</td>\n",
       "      <td>12275.5</td>\n",
       "      <td>8.0</td>\n",
       "      <td>0.015625</td>\n",
       "      <td>191.804688</td>\n",
       "      <td>4.089916</td>\n",
       "      <td>0.026507</td>\n",
       "      <td>0.001084</td>\n",
       "    </tr>\n",
       "    <tr>\n",
       "      <th>36</th>\n",
       "      <td>5.040</td>\n",
       "      <td>15159.8</td>\n",
       "      <td>8.0</td>\n",
       "      <td>0.015625</td>\n",
       "      <td>236.871875</td>\n",
       "      <td>5.038315</td>\n",
       "      <td>0.033433</td>\n",
       "      <td>0.001685</td>\n",
       "    </tr>\n",
       "    <tr>\n",
       "      <th>37</th>\n",
       "      <td>6.020</td>\n",
       "      <td>18153.0</td>\n",
       "      <td>8.0</td>\n",
       "      <td>0.015625</td>\n",
       "      <td>283.640625</td>\n",
       "      <td>6.022522</td>\n",
       "      <td>0.041898</td>\n",
       "      <td>0.002522</td>\n",
       "    </tr>\n",
       "    <tr>\n",
       "      <th>38</th>\n",
       "      <td>7.100</td>\n",
       "      <td>21417.4</td>\n",
       "      <td>8.0</td>\n",
       "      <td>0.015625</td>\n",
       "      <td>334.646875</td>\n",
       "      <td>7.095904</td>\n",
       "      <td>0.057689</td>\n",
       "      <td>0.004096</td>\n",
       "    </tr>\n",
       "    <tr>\n",
       "      <th>39</th>\n",
       "      <td>8.050</td>\n",
       "      <td>24301.9</td>\n",
       "      <td>8.0</td>\n",
       "      <td>0.015625</td>\n",
       "      <td>379.717188</td>\n",
       "      <td>8.044369</td>\n",
       "      <td>0.069948</td>\n",
       "      <td>0.005631</td>\n",
       "    </tr>\n",
       "    <tr>\n",
       "      <th>40</th>\n",
       "      <td>9.020</td>\n",
       "      <td>27251.3</td>\n",
       "      <td>8.0</td>\n",
       "      <td>0.015625</td>\n",
       "      <td>425.801562</td>\n",
       "      <td>9.014174</td>\n",
       "      <td>0.064585</td>\n",
       "      <td>0.005826</td>\n",
       "    </tr>\n",
       "    <tr>\n",
       "      <th>41</th>\n",
       "      <td>10.070</td>\n",
       "      <td>30480.6</td>\n",
       "      <td>8.0</td>\n",
       "      <td>0.015625</td>\n",
       "      <td>476.259375</td>\n",
       "      <td>10.076015</td>\n",
       "      <td>0.059730</td>\n",
       "      <td>0.006015</td>\n",
       "    </tr>\n",
       "    <tr>\n",
       "      <th>42</th>\n",
       "      <td>10.550</td>\n",
       "      <td>31935.6</td>\n",
       "      <td>8.0</td>\n",
       "      <td>0.015625</td>\n",
       "      <td>498.993750</td>\n",
       "      <td>10.554440</td>\n",
       "      <td>0.042083</td>\n",
       "      <td>0.004440</td>\n",
       "    </tr>\n",
       "    <tr>\n",
       "      <th>43</th>\n",
       "      <td>0.511</td>\n",
       "      <td>2634.2</td>\n",
       "      <td>16.0</td>\n",
       "      <td>0.007812</td>\n",
       "      <td>20.579687</td>\n",
       "      <td>0.448917</td>\n",
       "      <td>12.149320</td>\n",
       "      <td>0.062083</td>\n",
       "    </tr>\n",
       "    <tr>\n",
       "      <th>44</th>\n",
       "      <td>0.575</td>\n",
       "      <td>4350.6</td>\n",
       "      <td>16.0</td>\n",
       "      <td>0.007812</td>\n",
       "      <td>33.989063</td>\n",
       "      <td>0.734300</td>\n",
       "      <td>27.704298</td>\n",
       "      <td>0.159300</td>\n",
       "    </tr>\n",
       "    <tr>\n",
       "      <th>45</th>\n",
       "      <td>1.067</td>\n",
       "      <td>6068.7</td>\n",
       "      <td>16.0</td>\n",
       "      <td>0.007812</td>\n",
       "      <td>47.411719</td>\n",
       "      <td>1.019965</td>\n",
       "      <td>4.408144</td>\n",
       "      <td>0.047035</td>\n",
       "    </tr>\n",
       "    <tr>\n",
       "      <th>46</th>\n",
       "      <td>1.535</td>\n",
       "      <td>8946.6</td>\n",
       "      <td>16.0</td>\n",
       "      <td>0.007812</td>\n",
       "      <td>69.895313</td>\n",
       "      <td>1.498468</td>\n",
       "      <td>2.379912</td>\n",
       "      <td>0.036532</td>\n",
       "    </tr>\n",
       "    <tr>\n",
       "      <th>47</th>\n",
       "      <td>2.064</td>\n",
       "      <td>12221.6</td>\n",
       "      <td>16.0</td>\n",
       "      <td>0.007812</td>\n",
       "      <td>95.481250</td>\n",
       "      <td>2.042997</td>\n",
       "      <td>1.017601</td>\n",
       "      <td>0.021003</td>\n",
       "    </tr>\n",
       "    <tr>\n",
       "      <th>48</th>\n",
       "      <td>2.549</td>\n",
       "      <td>15221.5</td>\n",
       "      <td>16.0</td>\n",
       "      <td>0.007812</td>\n",
       "      <td>118.917969</td>\n",
       "      <td>2.541785</td>\n",
       "      <td>0.283065</td>\n",
       "      <td>0.007215</td>\n",
       "    </tr>\n",
       "    <tr>\n",
       "      <th>49</th>\n",
       "      <td>3.062</td>\n",
       "      <td>18337.8</td>\n",
       "      <td>16.0</td>\n",
       "      <td>0.007812</td>\n",
       "      <td>143.264062</td>\n",
       "      <td>3.059926</td>\n",
       "      <td>0.067725</td>\n",
       "      <td>0.002074</td>\n",
       "    </tr>\n",
       "    <tr>\n",
       "      <th>50</th>\n",
       "      <td>3.508</td>\n",
       "      <td>21026.0</td>\n",
       "      <td>16.0</td>\n",
       "      <td>0.007812</td>\n",
       "      <td>164.265625</td>\n",
       "      <td>3.506888</td>\n",
       "      <td>0.031686</td>\n",
       "      <td>0.001112</td>\n",
       "    </tr>\n",
       "    <tr>\n",
       "      <th>51</th>\n",
       "      <td>4.059</td>\n",
       "      <td>24360.5</td>\n",
       "      <td>16.0</td>\n",
       "      <td>0.007812</td>\n",
       "      <td>190.316406</td>\n",
       "      <td>4.061310</td>\n",
       "      <td>0.056905</td>\n",
       "      <td>0.002310</td>\n",
       "    </tr>\n",
       "    <tr>\n",
       "      <th>52</th>\n",
       "      <td>4.571</td>\n",
       "      <td>27456.0</td>\n",
       "      <td>16.0</td>\n",
       "      <td>0.007812</td>\n",
       "      <td>214.500000</td>\n",
       "      <td>4.575993</td>\n",
       "      <td>0.109231</td>\n",
       "      <td>0.004993</td>\n",
       "    </tr>\n",
       "    <tr>\n",
       "      <th>53</th>\n",
       "      <td>5.049</td>\n",
       "      <td>30363.7</td>\n",
       "      <td>16.0</td>\n",
       "      <td>0.007812</td>\n",
       "      <td>237.216406</td>\n",
       "      <td>5.059451</td>\n",
       "      <td>0.206992</td>\n",
       "      <td>0.010451</td>\n",
       "    </tr>\n",
       "  </tbody>\n",
       "</table>\n",
       "</div>"
      ],
      "text/plain": [
       "    V multimeter    V ADC     G     G LSB   V ADC (mV)     V pred      Error  \\\n",
       "0          6.470   2458.7   1.0  0.125000   307.337500   6.548302   1.210230   \n",
       "1         10.510   4004.0   1.0  0.125000   500.500000  10.562374   0.498321   \n",
       "2         15.750   6003.9   1.0  0.125000   750.487500  15.757314   0.046440   \n",
       "3         20.680   7897.5   1.0  0.125000   987.187500  20.676130   0.018713   \n",
       "4         25.770   9830.8   1.0  0.125000  1228.850000  25.698071   0.279120   \n",
       "5         31.470  11979.0   1.0  0.125000  1497.375000  31.278236   0.609356   \n",
       "6         35.400  13525.2   1.0  0.125000  1690.650000  35.294645   0.297612   \n",
       "7         40.240  15453.6   1.0  0.125000  1931.700000  40.303858   0.158692   \n",
       "8         45.470  17460.7   1.0  0.125000  2182.587500  45.517501   0.104467   \n",
       "9         50.560  19424.3   1.0  0.125000  2428.037500  50.618149   0.115010   \n",
       "10        55.510  21315.9   1.0  0.125000  2664.487500  55.531770   0.039218   \n",
       "11        61.400  23614.7   1.0  0.125000  2951.837500  61.503133   0.167969   \n",
       "12        65.500  25169.2   1.0  0.125000  3146.150000  65.541103   0.062752   \n",
       "13        70.400  27031.4   1.0  0.125000  3378.925000  70.378354   0.030747   \n",
       "14        75.300  28895.7   1.0  0.125000  3611.962500  75.221060   0.104834   \n",
       "15         5.200   3942.7   2.0  0.062500   246.418750   5.245113   0.867557   \n",
       "16         8.250   6273.9   2.0  0.062500   392.118750   8.281661   0.383773   \n",
       "17        12.180   9279.7   2.0  0.062500   579.981250  12.196922   0.138936   \n",
       "18        16.060  12245.3   2.0  0.062500   765.331250  16.059820   0.001119   \n",
       "19        20.180  15407.9   2.0  0.062500   962.993750  20.179324   0.003348   \n",
       "20        24.010  18318.8   2.0  0.062500  1144.925000  23.970972   0.162550   \n",
       "21        28.210  21478.8   2.0  0.062500  1342.425000  28.087089   0.435700   \n",
       "22        32.100  24433.5   2.0  0.062500  1527.093750  31.935789   0.511561   \n",
       "23        36.000  27639.4   2.0  0.062500  1727.462500  36.111694   0.310261   \n",
       "24        40.250  30909.8   2.0  0.062500  1931.862500  40.371615   0.302149   \n",
       "25         4.084   6140.2   4.0  0.031250   191.881250   4.096819   0.313885   \n",
       "26         6.060   9146.2   4.0  0.031250   285.818750   6.072123   0.200056   \n",
       "27         8.040  12138.2   4.0  0.031250   379.318750   8.038228   0.022039   \n",
       "28        10.550  15976.2   4.0  0.031250   499.256250  10.560257   0.097220   \n",
       "29        12.290  18607.5   4.0  0.031250   581.484375  12.289338   0.005387   \n",
       "30        14.150  21384.2   4.0  0.031250   668.256250  14.113965   0.254668   \n",
       "31        16.080  24267.1   4.0  0.031250   758.346875  16.008377   0.445415   \n",
       "32        18.310  27824.0   4.0  0.031250   869.500000  18.345689   0.194917   \n",
       "33        20.070  30507.7   4.0  0.031250   953.365625  20.109204   0.195335   \n",
       "34         3.202   9591.4   8.0  0.015625   149.865625   3.207345   0.166922   \n",
       "35         4.091  12275.5   8.0  0.015625   191.804688   4.089916   0.026507   \n",
       "36         5.040  15159.8   8.0  0.015625   236.871875   5.038315   0.033433   \n",
       "37         6.020  18153.0   8.0  0.015625   283.640625   6.022522   0.041898   \n",
       "38         7.100  21417.4   8.0  0.015625   334.646875   7.095904   0.057689   \n",
       "39         8.050  24301.9   8.0  0.015625   379.717188   8.044369   0.069948   \n",
       "40         9.020  27251.3   8.0  0.015625   425.801562   9.014174   0.064585   \n",
       "41        10.070  30480.6   8.0  0.015625   476.259375  10.076015   0.059730   \n",
       "42        10.550  31935.6   8.0  0.015625   498.993750  10.554440   0.042083   \n",
       "43         0.511   2634.2  16.0  0.007812    20.579687   0.448917  12.149320   \n",
       "44         0.575   4350.6  16.0  0.007812    33.989063   0.734300  27.704298   \n",
       "45         1.067   6068.7  16.0  0.007812    47.411719   1.019965   4.408144   \n",
       "46         1.535   8946.6  16.0  0.007812    69.895313   1.498468   2.379912   \n",
       "47         2.064  12221.6  16.0  0.007812    95.481250   2.042997   1.017601   \n",
       "48         2.549  15221.5  16.0  0.007812   118.917969   2.541785   0.283065   \n",
       "49         3.062  18337.8  16.0  0.007812   143.264062   3.059926   0.067725   \n",
       "50         3.508  21026.0  16.0  0.007812   164.265625   3.506888   0.031686   \n",
       "51         4.059  24360.5  16.0  0.007812   190.316406   4.061310   0.056905   \n",
       "52         4.571  27456.0  16.0  0.007812   214.500000   4.575993   0.109231   \n",
       "53         5.049  30363.7  16.0  0.007812   237.216406   5.059451   0.206992   \n",
       "\n",
       "        Diff  \n",
       "0   0.078302  \n",
       "1   0.052374  \n",
       "2   0.007314  \n",
       "3   0.003870  \n",
       "4   0.071929  \n",
       "5   0.191764  \n",
       "6   0.105355  \n",
       "7   0.063858  \n",
       "8   0.047501  \n",
       "9   0.058149  \n",
       "10  0.021770  \n",
       "11  0.103133  \n",
       "12  0.041103  \n",
       "13  0.021646  \n",
       "14  0.078940  \n",
       "15  0.045113  \n",
       "16  0.031661  \n",
       "17  0.016922  \n",
       "18  0.000180  \n",
       "19  0.000676  \n",
       "20  0.039028  \n",
       "21  0.122911  \n",
       "22  0.164211  \n",
       "23  0.111694  \n",
       "24  0.121615  \n",
       "25  0.012819  \n",
       "26  0.012123  \n",
       "27  0.001772  \n",
       "28  0.010257  \n",
       "29  0.000662  \n",
       "30  0.036035  \n",
       "31  0.071623  \n",
       "32  0.035689  \n",
       "33  0.039204  \n",
       "34  0.005345  \n",
       "35  0.001084  \n",
       "36  0.001685  \n",
       "37  0.002522  \n",
       "38  0.004096  \n",
       "39  0.005631  \n",
       "40  0.005826  \n",
       "41  0.006015  \n",
       "42  0.004440  \n",
       "43  0.062083  \n",
       "44  0.159300  \n",
       "45  0.047035  \n",
       "46  0.036532  \n",
       "47  0.021003  \n",
       "48  0.007215  \n",
       "49  0.002074  \n",
       "50  0.001112  \n",
       "51  0.002310  \n",
       "52  0.004993  \n",
       "53  0.010451  "
      ]
     },
     "execution_count": 52,
     "metadata": {},
     "output_type": "execute_result"
    }
   ],
   "source": [
    "Vdata['V ADC'].iloc[0]*Vdata['G LSB'].iloc[0]*Slope_I[0]+Inter_I[0]"
   ]
  },
  {
   "cell_type": "code",
   "execution_count": 49,
   "metadata": {},
   "outputs": [],
   "source": [
    "import plotly as ply"
   ]
  },
  {
   "cell_type": "code",
   "execution_count": 50,
   "metadata": {},
   "outputs": [
    {
     "data": {
      "application/vnd.plotly.v1+json": {
       "config": {
        "plotlyServerURL": "https://plot.ly"
       },
       "data": [
        {
         "name": "16x",
         "type": "scatter",
         "x": [
          0.511,
          0.575,
          1.067,
          1.5350000000000001,
          2.064,
          2.549,
          3.062,
          3.508,
          4.059,
          4.571,
          5.049
         ],
         "y": [
          12.149320364616779,
          27.704297527341538,
          4.408143901875287,
          2.3799116428038207,
          1.0176012561959853,
          0.28306464719578955,
          0.0677246031741266,
          0.03168623440947914,
          0.056904620942835056,
          0.10923147056639008,
          0.2069917723220881
         ]
        },
        {
         "name": "8x",
         "type": "scatter",
         "x": [
          3.202,
          4.091,
          5.04,
          6.02,
          7.1,
          8.05,
          9.02,
          10.07,
          10.55
         ],
         "y": [
          0.16692175150746932,
          0.02650714368562259,
          0.03343262041112362,
          0.041898477997723886,
          0.057689452805581035,
          0.06994764084112325,
          0.06458496461030967,
          0.05972999872313997,
          0.04208320029861343
         ]
        },
        {
         "name": "4x",
         "type": "scatter",
         "x": [
          4.084,
          6.06,
          8.04,
          10.55,
          12.29,
          14.15,
          16.08,
          18.31,
          20.07
         ],
         "y": [
          0.3138852558674419,
          0.20005616426812295,
          0.022039231807109396,
          0.09721953555943344,
          0.005387094746248541,
          0.25466772458539205,
          0.4454147465393853,
          0.19491721172570725,
          0.1953349406138641
         ]
        },
        {
         "name": "2x",
         "type": "scatter",
         "x": [
          5.2,
          8.25,
          12.18,
          16.06,
          20.18,
          24.01,
          28.21,
          32.1,
          36,
          40.25
         ],
         "y": [
          0.8675566567569651,
          0.38377263548984397,
          0.13893616632465758,
          0.0011186582462732152,
          0.0033483256517336715,
          0.16255012465962482,
          0.4357001039073147,
          0.5115609980772775,
          0.3102614204946816,
          0.302149039108073
         ]
        },
        {
         "name": "1x",
         "type": "scatter",
         "x": [
          6.47,
          10.51,
          15.75,
          20.68,
          25.77,
          31.47,
          35.4,
          40.24,
          45.47,
          50.56,
          55.51,
          61.4,
          65.5,
          70.4,
          75.3
         ],
         "y": [
          1.210229572833606,
          0.4983211880275175,
          0.04644028537834104,
          0.018712650385439282,
          0.27911977596611587,
          0.6093557595758031,
          0.29761218585450205,
          0.15869198483564273,
          0.10446704366939871,
          0.11501001363453209,
          0.03921769284581538,
          0.16796946465727608,
          0.06275248445838437,
          0.03074700615329268,
          0.10483360080819683
         ]
        }
       ],
       "layout": {
        "template": {
         "data": {
          "bar": [
           {
            "error_x": {
             "color": "#2a3f5f"
            },
            "error_y": {
             "color": "#2a3f5f"
            },
            "marker": {
             "line": {
              "color": "#E5ECF6",
              "width": 0.5
             },
             "pattern": {
              "fillmode": "overlay",
              "size": 10,
              "solidity": 0.2
             }
            },
            "type": "bar"
           }
          ],
          "barpolar": [
           {
            "marker": {
             "line": {
              "color": "#E5ECF6",
              "width": 0.5
             },
             "pattern": {
              "fillmode": "overlay",
              "size": 10,
              "solidity": 0.2
             }
            },
            "type": "barpolar"
           }
          ],
          "carpet": [
           {
            "aaxis": {
             "endlinecolor": "#2a3f5f",
             "gridcolor": "white",
             "linecolor": "white",
             "minorgridcolor": "white",
             "startlinecolor": "#2a3f5f"
            },
            "baxis": {
             "endlinecolor": "#2a3f5f",
             "gridcolor": "white",
             "linecolor": "white",
             "minorgridcolor": "white",
             "startlinecolor": "#2a3f5f"
            },
            "type": "carpet"
           }
          ],
          "choropleth": [
           {
            "colorbar": {
             "outlinewidth": 0,
             "ticks": ""
            },
            "type": "choropleth"
           }
          ],
          "contour": [
           {
            "colorbar": {
             "outlinewidth": 0,
             "ticks": ""
            },
            "colorscale": [
             [
              0,
              "#0d0887"
             ],
             [
              0.1111111111111111,
              "#46039f"
             ],
             [
              0.2222222222222222,
              "#7201a8"
             ],
             [
              0.3333333333333333,
              "#9c179e"
             ],
             [
              0.4444444444444444,
              "#bd3786"
             ],
             [
              0.5555555555555556,
              "#d8576b"
             ],
             [
              0.6666666666666666,
              "#ed7953"
             ],
             [
              0.7777777777777778,
              "#fb9f3a"
             ],
             [
              0.8888888888888888,
              "#fdca26"
             ],
             [
              1,
              "#f0f921"
             ]
            ],
            "type": "contour"
           }
          ],
          "contourcarpet": [
           {
            "colorbar": {
             "outlinewidth": 0,
             "ticks": ""
            },
            "type": "contourcarpet"
           }
          ],
          "heatmap": [
           {
            "colorbar": {
             "outlinewidth": 0,
             "ticks": ""
            },
            "colorscale": [
             [
              0,
              "#0d0887"
             ],
             [
              0.1111111111111111,
              "#46039f"
             ],
             [
              0.2222222222222222,
              "#7201a8"
             ],
             [
              0.3333333333333333,
              "#9c179e"
             ],
             [
              0.4444444444444444,
              "#bd3786"
             ],
             [
              0.5555555555555556,
              "#d8576b"
             ],
             [
              0.6666666666666666,
              "#ed7953"
             ],
             [
              0.7777777777777778,
              "#fb9f3a"
             ],
             [
              0.8888888888888888,
              "#fdca26"
             ],
             [
              1,
              "#f0f921"
             ]
            ],
            "type": "heatmap"
           }
          ],
          "heatmapgl": [
           {
            "colorbar": {
             "outlinewidth": 0,
             "ticks": ""
            },
            "colorscale": [
             [
              0,
              "#0d0887"
             ],
             [
              0.1111111111111111,
              "#46039f"
             ],
             [
              0.2222222222222222,
              "#7201a8"
             ],
             [
              0.3333333333333333,
              "#9c179e"
             ],
             [
              0.4444444444444444,
              "#bd3786"
             ],
             [
              0.5555555555555556,
              "#d8576b"
             ],
             [
              0.6666666666666666,
              "#ed7953"
             ],
             [
              0.7777777777777778,
              "#fb9f3a"
             ],
             [
              0.8888888888888888,
              "#fdca26"
             ],
             [
              1,
              "#f0f921"
             ]
            ],
            "type": "heatmapgl"
           }
          ],
          "histogram": [
           {
            "marker": {
             "pattern": {
              "fillmode": "overlay",
              "size": 10,
              "solidity": 0.2
             }
            },
            "type": "histogram"
           }
          ],
          "histogram2d": [
           {
            "colorbar": {
             "outlinewidth": 0,
             "ticks": ""
            },
            "colorscale": [
             [
              0,
              "#0d0887"
             ],
             [
              0.1111111111111111,
              "#46039f"
             ],
             [
              0.2222222222222222,
              "#7201a8"
             ],
             [
              0.3333333333333333,
              "#9c179e"
             ],
             [
              0.4444444444444444,
              "#bd3786"
             ],
             [
              0.5555555555555556,
              "#d8576b"
             ],
             [
              0.6666666666666666,
              "#ed7953"
             ],
             [
              0.7777777777777778,
              "#fb9f3a"
             ],
             [
              0.8888888888888888,
              "#fdca26"
             ],
             [
              1,
              "#f0f921"
             ]
            ],
            "type": "histogram2d"
           }
          ],
          "histogram2dcontour": [
           {
            "colorbar": {
             "outlinewidth": 0,
             "ticks": ""
            },
            "colorscale": [
             [
              0,
              "#0d0887"
             ],
             [
              0.1111111111111111,
              "#46039f"
             ],
             [
              0.2222222222222222,
              "#7201a8"
             ],
             [
              0.3333333333333333,
              "#9c179e"
             ],
             [
              0.4444444444444444,
              "#bd3786"
             ],
             [
              0.5555555555555556,
              "#d8576b"
             ],
             [
              0.6666666666666666,
              "#ed7953"
             ],
             [
              0.7777777777777778,
              "#fb9f3a"
             ],
             [
              0.8888888888888888,
              "#fdca26"
             ],
             [
              1,
              "#f0f921"
             ]
            ],
            "type": "histogram2dcontour"
           }
          ],
          "mesh3d": [
           {
            "colorbar": {
             "outlinewidth": 0,
             "ticks": ""
            },
            "type": "mesh3d"
           }
          ],
          "parcoords": [
           {
            "line": {
             "colorbar": {
              "outlinewidth": 0,
              "ticks": ""
             }
            },
            "type": "parcoords"
           }
          ],
          "pie": [
           {
            "automargin": true,
            "type": "pie"
           }
          ],
          "scatter": [
           {
            "marker": {
             "colorbar": {
              "outlinewidth": 0,
              "ticks": ""
             }
            },
            "type": "scatter"
           }
          ],
          "scatter3d": [
           {
            "line": {
             "colorbar": {
              "outlinewidth": 0,
              "ticks": ""
             }
            },
            "marker": {
             "colorbar": {
              "outlinewidth": 0,
              "ticks": ""
             }
            },
            "type": "scatter3d"
           }
          ],
          "scattercarpet": [
           {
            "marker": {
             "colorbar": {
              "outlinewidth": 0,
              "ticks": ""
             }
            },
            "type": "scattercarpet"
           }
          ],
          "scattergeo": [
           {
            "marker": {
             "colorbar": {
              "outlinewidth": 0,
              "ticks": ""
             }
            },
            "type": "scattergeo"
           }
          ],
          "scattergl": [
           {
            "marker": {
             "colorbar": {
              "outlinewidth": 0,
              "ticks": ""
             }
            },
            "type": "scattergl"
           }
          ],
          "scattermapbox": [
           {
            "marker": {
             "colorbar": {
              "outlinewidth": 0,
              "ticks": ""
             }
            },
            "type": "scattermapbox"
           }
          ],
          "scatterpolar": [
           {
            "marker": {
             "colorbar": {
              "outlinewidth": 0,
              "ticks": ""
             }
            },
            "type": "scatterpolar"
           }
          ],
          "scatterpolargl": [
           {
            "marker": {
             "colorbar": {
              "outlinewidth": 0,
              "ticks": ""
             }
            },
            "type": "scatterpolargl"
           }
          ],
          "scatterternary": [
           {
            "marker": {
             "colorbar": {
              "outlinewidth": 0,
              "ticks": ""
             }
            },
            "type": "scatterternary"
           }
          ],
          "surface": [
           {
            "colorbar": {
             "outlinewidth": 0,
             "ticks": ""
            },
            "colorscale": [
             [
              0,
              "#0d0887"
             ],
             [
              0.1111111111111111,
              "#46039f"
             ],
             [
              0.2222222222222222,
              "#7201a8"
             ],
             [
              0.3333333333333333,
              "#9c179e"
             ],
             [
              0.4444444444444444,
              "#bd3786"
             ],
             [
              0.5555555555555556,
              "#d8576b"
             ],
             [
              0.6666666666666666,
              "#ed7953"
             ],
             [
              0.7777777777777778,
              "#fb9f3a"
             ],
             [
              0.8888888888888888,
              "#fdca26"
             ],
             [
              1,
              "#f0f921"
             ]
            ],
            "type": "surface"
           }
          ],
          "table": [
           {
            "cells": {
             "fill": {
              "color": "#EBF0F8"
             },
             "line": {
              "color": "white"
             }
            },
            "header": {
             "fill": {
              "color": "#C8D4E3"
             },
             "line": {
              "color": "white"
             }
            },
            "type": "table"
           }
          ]
         },
         "layout": {
          "annotationdefaults": {
           "arrowcolor": "#2a3f5f",
           "arrowhead": 0,
           "arrowwidth": 1
          },
          "autotypenumbers": "strict",
          "coloraxis": {
           "colorbar": {
            "outlinewidth": 0,
            "ticks": ""
           }
          },
          "colorscale": {
           "diverging": [
            [
             0,
             "#8e0152"
            ],
            [
             0.1,
             "#c51b7d"
            ],
            [
             0.2,
             "#de77ae"
            ],
            [
             0.3,
             "#f1b6da"
            ],
            [
             0.4,
             "#fde0ef"
            ],
            [
             0.5,
             "#f7f7f7"
            ],
            [
             0.6,
             "#e6f5d0"
            ],
            [
             0.7,
             "#b8e186"
            ],
            [
             0.8,
             "#7fbc41"
            ],
            [
             0.9,
             "#4d9221"
            ],
            [
             1,
             "#276419"
            ]
           ],
           "sequential": [
            [
             0,
             "#0d0887"
            ],
            [
             0.1111111111111111,
             "#46039f"
            ],
            [
             0.2222222222222222,
             "#7201a8"
            ],
            [
             0.3333333333333333,
             "#9c179e"
            ],
            [
             0.4444444444444444,
             "#bd3786"
            ],
            [
             0.5555555555555556,
             "#d8576b"
            ],
            [
             0.6666666666666666,
             "#ed7953"
            ],
            [
             0.7777777777777778,
             "#fb9f3a"
            ],
            [
             0.8888888888888888,
             "#fdca26"
            ],
            [
             1,
             "#f0f921"
            ]
           ],
           "sequentialminus": [
            [
             0,
             "#0d0887"
            ],
            [
             0.1111111111111111,
             "#46039f"
            ],
            [
             0.2222222222222222,
             "#7201a8"
            ],
            [
             0.3333333333333333,
             "#9c179e"
            ],
            [
             0.4444444444444444,
             "#bd3786"
            ],
            [
             0.5555555555555556,
             "#d8576b"
            ],
            [
             0.6666666666666666,
             "#ed7953"
            ],
            [
             0.7777777777777778,
             "#fb9f3a"
            ],
            [
             0.8888888888888888,
             "#fdca26"
            ],
            [
             1,
             "#f0f921"
            ]
           ]
          },
          "colorway": [
           "#636efa",
           "#EF553B",
           "#00cc96",
           "#ab63fa",
           "#FFA15A",
           "#19d3f3",
           "#FF6692",
           "#B6E880",
           "#FF97FF",
           "#FECB52"
          ],
          "font": {
           "color": "#2a3f5f"
          },
          "geo": {
           "bgcolor": "white",
           "lakecolor": "white",
           "landcolor": "#E5ECF6",
           "showlakes": true,
           "showland": true,
           "subunitcolor": "white"
          },
          "hoverlabel": {
           "align": "left"
          },
          "hovermode": "closest",
          "mapbox": {
           "style": "light"
          },
          "paper_bgcolor": "white",
          "plot_bgcolor": "#E5ECF6",
          "polar": {
           "angularaxis": {
            "gridcolor": "white",
            "linecolor": "white",
            "ticks": ""
           },
           "bgcolor": "#E5ECF6",
           "radialaxis": {
            "gridcolor": "white",
            "linecolor": "white",
            "ticks": ""
           }
          },
          "scene": {
           "xaxis": {
            "backgroundcolor": "#E5ECF6",
            "gridcolor": "white",
            "gridwidth": 2,
            "linecolor": "white",
            "showbackground": true,
            "ticks": "",
            "zerolinecolor": "white"
           },
           "yaxis": {
            "backgroundcolor": "#E5ECF6",
            "gridcolor": "white",
            "gridwidth": 2,
            "linecolor": "white",
            "showbackground": true,
            "ticks": "",
            "zerolinecolor": "white"
           },
           "zaxis": {
            "backgroundcolor": "#E5ECF6",
            "gridcolor": "white",
            "gridwidth": 2,
            "linecolor": "white",
            "showbackground": true,
            "ticks": "",
            "zerolinecolor": "white"
           }
          },
          "shapedefaults": {
           "line": {
            "color": "#2a3f5f"
           }
          },
          "ternary": {
           "aaxis": {
            "gridcolor": "white",
            "linecolor": "white",
            "ticks": ""
           },
           "baxis": {
            "gridcolor": "white",
            "linecolor": "white",
            "ticks": ""
           },
           "bgcolor": "#E5ECF6",
           "caxis": {
            "gridcolor": "white",
            "linecolor": "white",
            "ticks": ""
           }
          },
          "title": {
           "x": 0.05
          },
          "xaxis": {
           "automargin": true,
           "gridcolor": "white",
           "linecolor": "white",
           "ticks": "",
           "title": {
            "standoff": 15
           },
           "zerolinecolor": "white",
           "zerolinewidth": 2
          },
          "yaxis": {
           "automargin": true,
           "gridcolor": "white",
           "linecolor": "white",
           "ticks": "",
           "title": {
            "standoff": 15
           },
           "zerolinecolor": "white",
           "zerolinewidth": 2
          }
         }
        },
        "title": {
         "text": "Error Pengukuran arus pada setiap gain"
        },
        "xaxis": {
         "title": {
          "text": "Arus (mA)"
         }
        },
        "yaxis": {
         "title": {
          "text": "Error (%)"
         }
        }
       }
      }
     },
     "metadata": {},
     "output_type": "display_data"
    }
   ],
   "source": [
    "fig = ply.graph_objects.Figure()\n",
    "# Create and style traces\n",
    "fig.add_trace(ply.graph_objects.Scatter(\n",
    "    x=Vdata[\"V multimeter\"].loc[Vdata['G'] == 16.0], y=Vdata[\"Error\"].loc[Vdata['G'] == 16.0],name=\"16x\"))\n",
    "fig.add_trace(ply.graph_objects.Scatter(\n",
    "    x=Vdata[\"V multimeter\"].loc[Vdata['G'] == 8.0], y=Vdata[\"Error\"].loc[Vdata['G'] == 8.0],name=\"8x\"))\n",
    "fig.add_trace(ply.graph_objects.Scatter(\n",
    "    x=Vdata[\"V multimeter\"].loc[Vdata['G'] == 4.0], y=Vdata[\"Error\"].loc[Vdata['G'] == 4.0],name=\"4x\"))\n",
    "fig.add_trace(ply.graph_objects.Scatter(\n",
    "    x=Vdata[\"V multimeter\"].loc[Vdata['G'] == 2.0], y=Vdata[\"Error\"].loc[Vdata['G'] == 2.0],name=\"2x\"))\n",
    "fig.add_trace(ply.graph_objects.Scatter(\n",
    "    x=Vdata[\"V multimeter\"].loc[Vdata['G'] == 1.0], y=Vdata[\"Error\"].loc[Vdata['G'] == 1.0],name=\"1x\"))\n",
    "fig.update_layout(title='Error Pengukuran arus pada setiap gain',\n",
    "                  xaxis_title='Arus (mA)',\n",
    "                  yaxis_title='Error (%)')\n"
   ]
  },
  {
   "cell_type": "code",
   "execution_count": 51,
   "metadata": {},
   "outputs": [
    {
     "data": {
      "application/vnd.plotly.v1+json": {
       "config": {
        "plotlyServerURL": "https://plot.ly"
       },
       "data": [
        {
         "name": "16x",
         "type": "scatter",
         "x": [
          0.511,
          0.575,
          1.067,
          1.5350000000000001,
          2.064,
          2.549,
          3.062,
          3.508,
          4.059,
          4.571,
          5.049
         ],
         "y": [
          0.06208302706319174,
          0.15929971078221383,
          0.047034895433009316,
          0.03653164371703865,
          0.021003289927885138,
          0.0072153178570206755,
          0.0020737273491917563,
          0.0011115531030845283,
          0.002309758564069675,
          0.00499297051958969,
          0.010451014584542229
         ]
        },
        {
         "name": "8x",
         "type": "scatter",
         "x": [
          3.202,
          4.091,
          5.04,
          6.02,
          7.1,
          8.05,
          9.02,
          10.07,
          10.55
         ],
         "y": [
          0.0053448344832691674,
          0.0010844072481788203,
          0.0016850040687206302,
          0.0025222883754629777,
          0.004095951149196253,
          0.0056307850877104215,
          0.005825563807849932,
          0.006014810871420195,
          0.004439777631503716
         ]
        },
        {
         "name": "4x",
         "type": "scatter",
         "x": [
          4.084,
          6.06,
          8.04,
          10.55,
          12.29,
          14.15,
          16.08,
          18.31,
          20.07
         ],
         "y": [
          0.012819073849626328,
          0.012123403554648249,
          0.0017719542372915953,
          0.010256661001520229,
          0.0006620739443139456,
          0.03603548302883297,
          0.07162269124353315,
          0.035689341466977,
          0.03920372258120253
         ]
        },
        {
         "name": "2x",
         "type": "scatter",
         "x": [
          5.2,
          8.25,
          12.18,
          16.06,
          20.18,
          24.01,
          28.21,
          32.1,
          36,
          40.25
         ],
         "y": [
          0.04511294615136219,
          0.03166124242791213,
          0.016922425058343293,
          0.00017965651435147834,
          0.0006756921165198548,
          0.039028284930775925,
          0.12291099931225347,
          0.16421108038280607,
          0.11169411137808538,
          0.12161498824099937
         ]
        },
        {
         "name": "1x",
         "type": "scatter",
         "x": [
          6.47,
          10.51,
          15.75,
          20.68,
          25.77,
          31.47,
          35.4,
          40.24,
          45.47,
          50.56,
          55.51,
          61.4,
          65.5,
          70.4,
          75.3
         ],
         "y": [
          0.0783018533623343,
          0.052373556861692094,
          0.007314344947088713,
          0.0038697760997088437,
          0.07192916626646806,
          0.19176425753850523,
          0.10535471379249373,
          0.06385765469786264,
          0.04750116475647559,
          0.05814906289361943,
          0.02176974129871212,
          0.10313325129956752,
          0.04110287732024176,
          0.02164589233191805,
          0.0789397014085722
         ]
        }
       ],
       "layout": {
        "template": {
         "data": {
          "bar": [
           {
            "error_x": {
             "color": "#2a3f5f"
            },
            "error_y": {
             "color": "#2a3f5f"
            },
            "marker": {
             "line": {
              "color": "#E5ECF6",
              "width": 0.5
             },
             "pattern": {
              "fillmode": "overlay",
              "size": 10,
              "solidity": 0.2
             }
            },
            "type": "bar"
           }
          ],
          "barpolar": [
           {
            "marker": {
             "line": {
              "color": "#E5ECF6",
              "width": 0.5
             },
             "pattern": {
              "fillmode": "overlay",
              "size": 10,
              "solidity": 0.2
             }
            },
            "type": "barpolar"
           }
          ],
          "carpet": [
           {
            "aaxis": {
             "endlinecolor": "#2a3f5f",
             "gridcolor": "white",
             "linecolor": "white",
             "minorgridcolor": "white",
             "startlinecolor": "#2a3f5f"
            },
            "baxis": {
             "endlinecolor": "#2a3f5f",
             "gridcolor": "white",
             "linecolor": "white",
             "minorgridcolor": "white",
             "startlinecolor": "#2a3f5f"
            },
            "type": "carpet"
           }
          ],
          "choropleth": [
           {
            "colorbar": {
             "outlinewidth": 0,
             "ticks": ""
            },
            "type": "choropleth"
           }
          ],
          "contour": [
           {
            "colorbar": {
             "outlinewidth": 0,
             "ticks": ""
            },
            "colorscale": [
             [
              0,
              "#0d0887"
             ],
             [
              0.1111111111111111,
              "#46039f"
             ],
             [
              0.2222222222222222,
              "#7201a8"
             ],
             [
              0.3333333333333333,
              "#9c179e"
             ],
             [
              0.4444444444444444,
              "#bd3786"
             ],
             [
              0.5555555555555556,
              "#d8576b"
             ],
             [
              0.6666666666666666,
              "#ed7953"
             ],
             [
              0.7777777777777778,
              "#fb9f3a"
             ],
             [
              0.8888888888888888,
              "#fdca26"
             ],
             [
              1,
              "#f0f921"
             ]
            ],
            "type": "contour"
           }
          ],
          "contourcarpet": [
           {
            "colorbar": {
             "outlinewidth": 0,
             "ticks": ""
            },
            "type": "contourcarpet"
           }
          ],
          "heatmap": [
           {
            "colorbar": {
             "outlinewidth": 0,
             "ticks": ""
            },
            "colorscale": [
             [
              0,
              "#0d0887"
             ],
             [
              0.1111111111111111,
              "#46039f"
             ],
             [
              0.2222222222222222,
              "#7201a8"
             ],
             [
              0.3333333333333333,
              "#9c179e"
             ],
             [
              0.4444444444444444,
              "#bd3786"
             ],
             [
              0.5555555555555556,
              "#d8576b"
             ],
             [
              0.6666666666666666,
              "#ed7953"
             ],
             [
              0.7777777777777778,
              "#fb9f3a"
             ],
             [
              0.8888888888888888,
              "#fdca26"
             ],
             [
              1,
              "#f0f921"
             ]
            ],
            "type": "heatmap"
           }
          ],
          "heatmapgl": [
           {
            "colorbar": {
             "outlinewidth": 0,
             "ticks": ""
            },
            "colorscale": [
             [
              0,
              "#0d0887"
             ],
             [
              0.1111111111111111,
              "#46039f"
             ],
             [
              0.2222222222222222,
              "#7201a8"
             ],
             [
              0.3333333333333333,
              "#9c179e"
             ],
             [
              0.4444444444444444,
              "#bd3786"
             ],
             [
              0.5555555555555556,
              "#d8576b"
             ],
             [
              0.6666666666666666,
              "#ed7953"
             ],
             [
              0.7777777777777778,
              "#fb9f3a"
             ],
             [
              0.8888888888888888,
              "#fdca26"
             ],
             [
              1,
              "#f0f921"
             ]
            ],
            "type": "heatmapgl"
           }
          ],
          "histogram": [
           {
            "marker": {
             "pattern": {
              "fillmode": "overlay",
              "size": 10,
              "solidity": 0.2
             }
            },
            "type": "histogram"
           }
          ],
          "histogram2d": [
           {
            "colorbar": {
             "outlinewidth": 0,
             "ticks": ""
            },
            "colorscale": [
             [
              0,
              "#0d0887"
             ],
             [
              0.1111111111111111,
              "#46039f"
             ],
             [
              0.2222222222222222,
              "#7201a8"
             ],
             [
              0.3333333333333333,
              "#9c179e"
             ],
             [
              0.4444444444444444,
              "#bd3786"
             ],
             [
              0.5555555555555556,
              "#d8576b"
             ],
             [
              0.6666666666666666,
              "#ed7953"
             ],
             [
              0.7777777777777778,
              "#fb9f3a"
             ],
             [
              0.8888888888888888,
              "#fdca26"
             ],
             [
              1,
              "#f0f921"
             ]
            ],
            "type": "histogram2d"
           }
          ],
          "histogram2dcontour": [
           {
            "colorbar": {
             "outlinewidth": 0,
             "ticks": ""
            },
            "colorscale": [
             [
              0,
              "#0d0887"
             ],
             [
              0.1111111111111111,
              "#46039f"
             ],
             [
              0.2222222222222222,
              "#7201a8"
             ],
             [
              0.3333333333333333,
              "#9c179e"
             ],
             [
              0.4444444444444444,
              "#bd3786"
             ],
             [
              0.5555555555555556,
              "#d8576b"
             ],
             [
              0.6666666666666666,
              "#ed7953"
             ],
             [
              0.7777777777777778,
              "#fb9f3a"
             ],
             [
              0.8888888888888888,
              "#fdca26"
             ],
             [
              1,
              "#f0f921"
             ]
            ],
            "type": "histogram2dcontour"
           }
          ],
          "mesh3d": [
           {
            "colorbar": {
             "outlinewidth": 0,
             "ticks": ""
            },
            "type": "mesh3d"
           }
          ],
          "parcoords": [
           {
            "line": {
             "colorbar": {
              "outlinewidth": 0,
              "ticks": ""
             }
            },
            "type": "parcoords"
           }
          ],
          "pie": [
           {
            "automargin": true,
            "type": "pie"
           }
          ],
          "scatter": [
           {
            "marker": {
             "colorbar": {
              "outlinewidth": 0,
              "ticks": ""
             }
            },
            "type": "scatter"
           }
          ],
          "scatter3d": [
           {
            "line": {
             "colorbar": {
              "outlinewidth": 0,
              "ticks": ""
             }
            },
            "marker": {
             "colorbar": {
              "outlinewidth": 0,
              "ticks": ""
             }
            },
            "type": "scatter3d"
           }
          ],
          "scattercarpet": [
           {
            "marker": {
             "colorbar": {
              "outlinewidth": 0,
              "ticks": ""
             }
            },
            "type": "scattercarpet"
           }
          ],
          "scattergeo": [
           {
            "marker": {
             "colorbar": {
              "outlinewidth": 0,
              "ticks": ""
             }
            },
            "type": "scattergeo"
           }
          ],
          "scattergl": [
           {
            "marker": {
             "colorbar": {
              "outlinewidth": 0,
              "ticks": ""
             }
            },
            "type": "scattergl"
           }
          ],
          "scattermapbox": [
           {
            "marker": {
             "colorbar": {
              "outlinewidth": 0,
              "ticks": ""
             }
            },
            "type": "scattermapbox"
           }
          ],
          "scatterpolar": [
           {
            "marker": {
             "colorbar": {
              "outlinewidth": 0,
              "ticks": ""
             }
            },
            "type": "scatterpolar"
           }
          ],
          "scatterpolargl": [
           {
            "marker": {
             "colorbar": {
              "outlinewidth": 0,
              "ticks": ""
             }
            },
            "type": "scatterpolargl"
           }
          ],
          "scatterternary": [
           {
            "marker": {
             "colorbar": {
              "outlinewidth": 0,
              "ticks": ""
             }
            },
            "type": "scatterternary"
           }
          ],
          "surface": [
           {
            "colorbar": {
             "outlinewidth": 0,
             "ticks": ""
            },
            "colorscale": [
             [
              0,
              "#0d0887"
             ],
             [
              0.1111111111111111,
              "#46039f"
             ],
             [
              0.2222222222222222,
              "#7201a8"
             ],
             [
              0.3333333333333333,
              "#9c179e"
             ],
             [
              0.4444444444444444,
              "#bd3786"
             ],
             [
              0.5555555555555556,
              "#d8576b"
             ],
             [
              0.6666666666666666,
              "#ed7953"
             ],
             [
              0.7777777777777778,
              "#fb9f3a"
             ],
             [
              0.8888888888888888,
              "#fdca26"
             ],
             [
              1,
              "#f0f921"
             ]
            ],
            "type": "surface"
           }
          ],
          "table": [
           {
            "cells": {
             "fill": {
              "color": "#EBF0F8"
             },
             "line": {
              "color": "white"
             }
            },
            "header": {
             "fill": {
              "color": "#C8D4E3"
             },
             "line": {
              "color": "white"
             }
            },
            "type": "table"
           }
          ]
         },
         "layout": {
          "annotationdefaults": {
           "arrowcolor": "#2a3f5f",
           "arrowhead": 0,
           "arrowwidth": 1
          },
          "autotypenumbers": "strict",
          "coloraxis": {
           "colorbar": {
            "outlinewidth": 0,
            "ticks": ""
           }
          },
          "colorscale": {
           "diverging": [
            [
             0,
             "#8e0152"
            ],
            [
             0.1,
             "#c51b7d"
            ],
            [
             0.2,
             "#de77ae"
            ],
            [
             0.3,
             "#f1b6da"
            ],
            [
             0.4,
             "#fde0ef"
            ],
            [
             0.5,
             "#f7f7f7"
            ],
            [
             0.6,
             "#e6f5d0"
            ],
            [
             0.7,
             "#b8e186"
            ],
            [
             0.8,
             "#7fbc41"
            ],
            [
             0.9,
             "#4d9221"
            ],
            [
             1,
             "#276419"
            ]
           ],
           "sequential": [
            [
             0,
             "#0d0887"
            ],
            [
             0.1111111111111111,
             "#46039f"
            ],
            [
             0.2222222222222222,
             "#7201a8"
            ],
            [
             0.3333333333333333,
             "#9c179e"
            ],
            [
             0.4444444444444444,
             "#bd3786"
            ],
            [
             0.5555555555555556,
             "#d8576b"
            ],
            [
             0.6666666666666666,
             "#ed7953"
            ],
            [
             0.7777777777777778,
             "#fb9f3a"
            ],
            [
             0.8888888888888888,
             "#fdca26"
            ],
            [
             1,
             "#f0f921"
            ]
           ],
           "sequentialminus": [
            [
             0,
             "#0d0887"
            ],
            [
             0.1111111111111111,
             "#46039f"
            ],
            [
             0.2222222222222222,
             "#7201a8"
            ],
            [
             0.3333333333333333,
             "#9c179e"
            ],
            [
             0.4444444444444444,
             "#bd3786"
            ],
            [
             0.5555555555555556,
             "#d8576b"
            ],
            [
             0.6666666666666666,
             "#ed7953"
            ],
            [
             0.7777777777777778,
             "#fb9f3a"
            ],
            [
             0.8888888888888888,
             "#fdca26"
            ],
            [
             1,
             "#f0f921"
            ]
           ]
          },
          "colorway": [
           "#636efa",
           "#EF553B",
           "#00cc96",
           "#ab63fa",
           "#FFA15A",
           "#19d3f3",
           "#FF6692",
           "#B6E880",
           "#FF97FF",
           "#FECB52"
          ],
          "font": {
           "color": "#2a3f5f"
          },
          "geo": {
           "bgcolor": "white",
           "lakecolor": "white",
           "landcolor": "#E5ECF6",
           "showlakes": true,
           "showland": true,
           "subunitcolor": "white"
          },
          "hoverlabel": {
           "align": "left"
          },
          "hovermode": "closest",
          "mapbox": {
           "style": "light"
          },
          "paper_bgcolor": "white",
          "plot_bgcolor": "#E5ECF6",
          "polar": {
           "angularaxis": {
            "gridcolor": "white",
            "linecolor": "white",
            "ticks": ""
           },
           "bgcolor": "#E5ECF6",
           "radialaxis": {
            "gridcolor": "white",
            "linecolor": "white",
            "ticks": ""
           }
          },
          "scene": {
           "xaxis": {
            "backgroundcolor": "#E5ECF6",
            "gridcolor": "white",
            "gridwidth": 2,
            "linecolor": "white",
            "showbackground": true,
            "ticks": "",
            "zerolinecolor": "white"
           },
           "yaxis": {
            "backgroundcolor": "#E5ECF6",
            "gridcolor": "white",
            "gridwidth": 2,
            "linecolor": "white",
            "showbackground": true,
            "ticks": "",
            "zerolinecolor": "white"
           },
           "zaxis": {
            "backgroundcolor": "#E5ECF6",
            "gridcolor": "white",
            "gridwidth": 2,
            "linecolor": "white",
            "showbackground": true,
            "ticks": "",
            "zerolinecolor": "white"
           }
          },
          "shapedefaults": {
           "line": {
            "color": "#2a3f5f"
           }
          },
          "ternary": {
           "aaxis": {
            "gridcolor": "white",
            "linecolor": "white",
            "ticks": ""
           },
           "baxis": {
            "gridcolor": "white",
            "linecolor": "white",
            "ticks": ""
           },
           "bgcolor": "#E5ECF6",
           "caxis": {
            "gridcolor": "white",
            "linecolor": "white",
            "ticks": ""
           }
          },
          "title": {
           "x": 0.05
          },
          "xaxis": {
           "automargin": true,
           "gridcolor": "white",
           "linecolor": "white",
           "ticks": "",
           "title": {
            "standoff": 15
           },
           "zerolinecolor": "white",
           "zerolinewidth": 2
          },
          "yaxis": {
           "automargin": true,
           "gridcolor": "white",
           "linecolor": "white",
           "ticks": "",
           "title": {
            "standoff": 15
           },
           "zerolinecolor": "white",
           "zerolinewidth": 2
          }
         }
        },
        "title": {
         "text": "Error Pengukuran arus pada setiap gain"
        },
        "xaxis": {
         "title": {
          "text": "Arus (mA)"
         }
        },
        "yaxis": {
         "title": {
          "text": "Error (%)"
         }
        }
       }
      }
     },
     "metadata": {},
     "output_type": "display_data"
    }
   ],
   "source": [
    "fig = ply.graph_objects.Figure()\n",
    "# Create and style traces\n",
    "fig.add_trace(ply.graph_objects.Scatter(\n",
    "    x=Vdata[\"V multimeter\"].loc[Vdata['G'] == 16.0], y=Vdata[\"Diff\"].loc[Vdata['G'] == 16.0],name=\"16x\"))\n",
    "fig.add_trace(ply.graph_objects.Scatter(\n",
    "    x=Vdata[\"V multimeter\"].loc[Vdata['G'] == 8.0], y=Vdata[\"Diff\"].loc[Vdata['G'] == 8.0],name=\"8x\"))\n",
    "fig.add_trace(ply.graph_objects.Scatter(\n",
    "    x=Vdata[\"V multimeter\"].loc[Vdata['G'] == 4.0], y=Vdata[\"Diff\"].loc[Vdata['G'] == 4.0],name=\"4x\"))\n",
    "fig.add_trace(ply.graph_objects.Scatter(\n",
    "    x=Vdata[\"V multimeter\"].loc[Vdata['G'] == 2.0], y=Vdata[\"Diff\"].loc[Vdata['G'] == 2.0],name=\"2x\"))\n",
    "fig.add_trace(ply.graph_objects.Scatter(\n",
    "    x=Vdata[\"V multimeter\"].loc[Vdata['G'] == 1.0], y=Vdata[\"Diff\"].loc[Vdata['G'] == 1.0],name=\"1x\"))\n",
    "fig.update_layout(title='Error Pengukuran arus pada setiap gain',\n",
    "                  xaxis_title='Arus (mA)',\n",
    "                  yaxis_title='Error (%)')\n"
   ]
  }
 ],
 "metadata": {
  "interpreter": {
   "hash": "b6f25d253e9ef28c30dd30f43d7aceaf3b35d139b818aef12eb4cd0f93e2e018"
  },
  "kernelspec": {
   "display_name": "Python 3.8.8 64-bit ('base': conda)",
   "language": "python",
   "name": "python3"
  },
  "language_info": {
   "codemirror_mode": {
    "name": "ipython",
    "version": 3
   },
   "file_extension": ".py",
   "mimetype": "text/x-python",
   "name": "python",
   "nbconvert_exporter": "python",
   "pygments_lexer": "ipython3",
   "version": "3.8.8"
  },
  "orig_nbformat": 4
 },
 "nbformat": 4,
 "nbformat_minor": 2
}
