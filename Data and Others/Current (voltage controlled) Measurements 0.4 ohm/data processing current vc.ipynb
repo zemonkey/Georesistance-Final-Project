{
 "cells": [
  {
   "cell_type": "code",
   "execution_count": 46,
   "metadata": {},
   "outputs": [],
   "source": [
    "import pandas as pd\n",
    "import csv\n",
    "from matplotlib import pyplot as plt\n",
    "import os\n",
    "import numpy as np\n",
    "from scipy import stats\n"
   ]
  },
  {
   "cell_type": "code",
   "execution_count": 47,
   "metadata": {},
   "outputs": [],
   "source": [
    "R=0.4"
   ]
  },
  {
   "cell_type": "code",
   "execution_count": 48,
   "metadata": {},
   "outputs": [],
   "source": [
    "folder_list=list()\n",
    "current_folder = os.getcwd()\n",
    "for item in os.listdir(current_folder):\n",
    "    if len(item) <= 3:\n",
    "        folder_list.append(item)"
   ]
  },
  {
   "cell_type": "code",
   "execution_count": 49,
   "metadata": {},
   "outputs": [],
   "source": [
    "csv_list=list()\n",
    "for folder in folder_list:\n",
    "    folder_path=os.path.join(current_folder,folder)\n",
    "    csv_list.append(os.listdir(folder_path))\n",
    "gain_list=list()\n",
    "for folder in folder_list:\n",
    "    gain_list.append(int(folder.replace(\"G\",\"\")))"
   ]
  },
  {
   "cell_type": "code",
   "execution_count": 50,
   "metadata": {},
   "outputs": [
    {
     "name": "stdout",
     "output_type": "stream",
     "text": [
      "82\n"
     ]
    }
   ],
   "source": [
    "sum=0\n",
    "for csv_file in csv_list:\n",
    "    sum+=len(csv_file)\n",
    "print(sum)"
   ]
  },
  {
   "cell_type": "code",
   "execution_count": 51,
   "metadata": {},
   "outputs": [],
   "source": [
    "I_mm = list()\n",
    "I_adc = list()\n",
    "G = list()\n",
    "G_LSB = list()"
   ]
  },
  {
   "cell_type": "code",
   "execution_count": 52,
   "metadata": {},
   "outputs": [],
   "source": [
    "for i in range(len(csv_list)):\n",
    "    for csv_file in csv_list[i]:\n",
    "\n",
    "        G.append(gain_list[i])\n",
    "        G_LSB.append(4096/2**15/gain_list[i])\n",
    "        splitted_I = csv_file.replace(\".csv\", \"\").split(\" \")\n",
    "        if len(splitted_I) == 2:\n",
    "            I_mm.append(float(splitted_I[0]) +\n",
    "                float(splitted_I[1])/(10**len(splitted_I[1])))\n",
    "        else:\n",
    "            I_mm.append(float(splitted_I[0]))\n",
    "\n",
    "        folder_path=os.path.join(current_folder,folder_list[i])\n",
    "        with open(os.path.join(folder_path,csv_file), \"r\") as f:\n",
    "            csv_reader = csv.reader(f, delimiter=',')\n",
    "            I_adc_temp = list()\n",
    "            for row in csv_reader:\n",
    "                # cek kalo list kosong atau engga\n",
    "                if row:\n",
    "                    I_adc_temp.append(float(row[0]))\n",
    "        I_adc.append(np.average(I_adc_temp))"
   ]
  },
  {
   "cell_type": "code",
   "execution_count": 53,
   "metadata": {},
   "outputs": [],
   "source": [
    "Idata = pd.DataFrame([I_mm, I_adc, G, G_LSB]).T\n",
    "Idata.columns = ['I multimeter', 'I ADC', 'G', 'G LSB']\n",
    "#Idata = Idata.sort_values(['G','I ADC'])\n",
    "#Idata['I ADC'] = Idata['I ADC']*3/6.2/1000"
   ]
  },
  {
   "cell_type": "code",
   "execution_count": 54,
   "metadata": {},
   "outputs": [],
   "source": [
    "Idata['I ADC'] = Idata['I ADC'].multiply(Idata['G LSB'], axis=\"index\")"
   ]
  },
  {
   "cell_type": "markdown",
   "metadata": {},
   "source": [
    "\\begin{equation*}\n",
    "  V_{adc}=I_{in}R_{shunt}\\frac{1}{3}A_v\n",
    "\\end{equation*}\n",
    "\\begin{equation*}\n",
    "    I_{in}=\\frac{3V_{adc}}{R_{shunt}A_v}\n",
    "\\end{equation*}\n"
   ]
  },
  {
   "cell_type": "code",
   "execution_count": 55,
   "metadata": {},
   "outputs": [],
   "source": [
    "Slope_I = list()\n",
    "Inter_I = list()\n",
    "for gain in gain_list:\n",
    "    reg_result= stats.linregress(Idata['I ADC'].loc[Idata['G']==gain], Idata['I multimeter'].loc[Idata['G']==gain])\n",
    "    Slope_I.append(reg_result.slope)\n",
    "    Inter_I.append(reg_result.intercept)\n"
   ]
  },
  {
   "cell_type": "code",
   "execution_count": 56,
   "metadata": {},
   "outputs": [],
   "source": [
    "Slope_arr= list()\n",
    "Inter_arr= list()\n",
    "#reg_pred = list()\n",
    "for i in range(len(csv_list)):\n",
    "    for j in csv_list[i]:\n",
    "        Slope_arr.append(Slope_I[i])\n",
    "        Inter_arr.append(Inter_I[i])"
   ]
  },
  {
   "cell_type": "code",
   "execution_count": 57,
   "metadata": {},
   "outputs": [],
   "source": [
    "Idata['I pred']=Idata['I ADC'].multiply(Slope_arr)+Inter_arr"
   ]
  },
  {
   "cell_type": "code",
   "execution_count": 58,
   "metadata": {},
   "outputs": [
    {
     "data": {
      "text/html": [
       "<div>\n",
       "<style scoped>\n",
       "    .dataframe tbody tr th:only-of-type {\n",
       "        vertical-align: middle;\n",
       "    }\n",
       "\n",
       "    .dataframe tbody tr th {\n",
       "        vertical-align: top;\n",
       "    }\n",
       "\n",
       "    .dataframe thead th {\n",
       "        text-align: right;\n",
       "    }\n",
       "</style>\n",
       "<table border=\"1\" class=\"dataframe\">\n",
       "  <thead>\n",
       "    <tr style=\"text-align: right;\">\n",
       "      <th></th>\n",
       "      <th>I multimeter</th>\n",
       "      <th>I ADC</th>\n",
       "      <th>G</th>\n",
       "      <th>G LSB</th>\n",
       "      <th>I pred</th>\n",
       "    </tr>\n",
       "  </thead>\n",
       "  <tbody>\n",
       "    <tr>\n",
       "      <th>74</th>\n",
       "      <td>20.26</td>\n",
       "      <td>189.989531</td>\n",
       "      <td>8.0</td>\n",
       "      <td>0.015625</td>\n",
       "      <td>18.657084</td>\n",
       "    </tr>\n",
       "    <tr>\n",
       "      <th>75</th>\n",
       "      <td>33.35</td>\n",
       "      <td>223.979688</td>\n",
       "      <td>8.0</td>\n",
       "      <td>0.015625</td>\n",
       "      <td>34.223774</td>\n",
       "    </tr>\n",
       "    <tr>\n",
       "      <th>76</th>\n",
       "      <td>44.14</td>\n",
       "      <td>245.700156</td>\n",
       "      <td>8.0</td>\n",
       "      <td>0.015625</td>\n",
       "      <td>44.171237</td>\n",
       "    </tr>\n",
       "    <tr>\n",
       "      <th>77</th>\n",
       "      <td>54.51</td>\n",
       "      <td>269.173906</td>\n",
       "      <td>8.0</td>\n",
       "      <td>0.015625</td>\n",
       "      <td>54.921661</td>\n",
       "    </tr>\n",
       "    <tr>\n",
       "      <th>78</th>\n",
       "      <td>61.70</td>\n",
       "      <td>279.697500</td>\n",
       "      <td>8.0</td>\n",
       "      <td>0.015625</td>\n",
       "      <td>59.741219</td>\n",
       "    </tr>\n",
       "    <tr>\n",
       "      <th>79</th>\n",
       "      <td>71.30</td>\n",
       "      <td>306.770000</td>\n",
       "      <td>8.0</td>\n",
       "      <td>0.015625</td>\n",
       "      <td>72.139786</td>\n",
       "    </tr>\n",
       "    <tr>\n",
       "      <th>80</th>\n",
       "      <td>81.00</td>\n",
       "      <td>327.749375</td>\n",
       "      <td>8.0</td>\n",
       "      <td>0.015625</td>\n",
       "      <td>81.747845</td>\n",
       "    </tr>\n",
       "    <tr>\n",
       "      <th>81</th>\n",
       "      <td>91.40</td>\n",
       "      <td>349.285000</td>\n",
       "      <td>8.0</td>\n",
       "      <td>0.015625</td>\n",
       "      <td>91.610654</td>\n",
       "    </tr>\n",
       "    <tr>\n",
       "      <th>67</th>\n",
       "      <td>101.30</td>\n",
       "      <td>369.239844</td>\n",
       "      <td>8.0</td>\n",
       "      <td>0.015625</td>\n",
       "      <td>100.749502</td>\n",
       "    </tr>\n",
       "    <tr>\n",
       "      <th>68</th>\n",
       "      <td>112.00</td>\n",
       "      <td>397.879219</td>\n",
       "      <td>8.0</td>\n",
       "      <td>0.015625</td>\n",
       "      <td>113.865661</td>\n",
       "    </tr>\n",
       "    <tr>\n",
       "      <th>69</th>\n",
       "      <td>119.70</td>\n",
       "      <td>410.646094</td>\n",
       "      <td>8.0</td>\n",
       "      <td>0.015625</td>\n",
       "      <td>119.712588</td>\n",
       "    </tr>\n",
       "    <tr>\n",
       "      <th>70</th>\n",
       "      <td>131.60</td>\n",
       "      <td>440.735000</td>\n",
       "      <td>8.0</td>\n",
       "      <td>0.015625</td>\n",
       "      <td>133.492598</td>\n",
       "    </tr>\n",
       "    <tr>\n",
       "      <th>71</th>\n",
       "      <td>142.00</td>\n",
       "      <td>464.298828</td>\n",
       "      <td>8.0</td>\n",
       "      <td>0.015625</td>\n",
       "      <td>144.284276</td>\n",
       "    </tr>\n",
       "    <tr>\n",
       "      <th>72</th>\n",
       "      <td>152.80</td>\n",
       "      <td>479.232188</td>\n",
       "      <td>8.0</td>\n",
       "      <td>0.015625</td>\n",
       "      <td>151.123403</td>\n",
       "    </tr>\n",
       "    <tr>\n",
       "      <th>73</th>\n",
       "      <td>161.70</td>\n",
       "      <td>494.943281</td>\n",
       "      <td>8.0</td>\n",
       "      <td>0.015625</td>\n",
       "      <td>158.318713</td>\n",
       "    </tr>\n",
       "  </tbody>\n",
       "</table>\n",
       "</div>"
      ],
      "text/plain": [
       "    I multimeter       I ADC    G     G LSB      I pred\n",
       "74         20.26  189.989531  8.0  0.015625   18.657084\n",
       "75         33.35  223.979688  8.0  0.015625   34.223774\n",
       "76         44.14  245.700156  8.0  0.015625   44.171237\n",
       "77         54.51  269.173906  8.0  0.015625   54.921661\n",
       "78         61.70  279.697500  8.0  0.015625   59.741219\n",
       "79         71.30  306.770000  8.0  0.015625   72.139786\n",
       "80         81.00  327.749375  8.0  0.015625   81.747845\n",
       "81         91.40  349.285000  8.0  0.015625   91.610654\n",
       "67        101.30  369.239844  8.0  0.015625  100.749502\n",
       "68        112.00  397.879219  8.0  0.015625  113.865661\n",
       "69        119.70  410.646094  8.0  0.015625  119.712588\n",
       "70        131.60  440.735000  8.0  0.015625  133.492598\n",
       "71        142.00  464.298828  8.0  0.015625  144.284276\n",
       "72        152.80  479.232188  8.0  0.015625  151.123403\n",
       "73        161.70  494.943281  8.0  0.015625  158.318713"
      ]
     },
     "execution_count": 58,
     "metadata": {},
     "output_type": "execute_result"
    }
   ],
   "source": [
    "Idata.loc[Idata['G']==8.0].sort_values(['G','I ADC'][::-1])"
   ]
  },
  {
   "cell_type": "code",
   "execution_count": 59,
   "metadata": {},
   "outputs": [
    {
     "data": {
      "text/plain": [
       "0     45.482739\n",
       "1     46.063404\n",
       "2     46.488100\n",
       "3     46.856376\n",
       "4     47.315548\n",
       "        ...    \n",
       "77     5.841074\n",
       "78     6.069436\n",
       "79     6.656909\n",
       "80     7.112161\n",
       "81     7.579484\n",
       "Name: I ADC, Length: 82, dtype: float64"
      ]
     },
     "execution_count": 59,
     "metadata": {},
     "output_type": "execute_result"
    }
   ],
   "source": [
    "Idata['I ADC']*0.0217"
   ]
  },
  {
   "cell_type": "code",
   "execution_count": 60,
   "metadata": {},
   "outputs": [
    {
     "ename": "NameError",
     "evalue": "name 'tes' is not defined",
     "output_type": "error",
     "traceback": [
      "\u001b[1;31m---------------------------------------------------------------------------\u001b[0m",
      "\u001b[1;31mNameError\u001b[0m                                 Traceback (most recent call last)",
      "\u001b[1;32m<ipython-input-60-889c0fd0d097>\u001b[0m in \u001b[0;36m<module>\u001b[1;34m\u001b[0m\n\u001b[1;32m----> 1\u001b[1;33m \u001b[0mIdata\u001b[0m\u001b[1;33m[\u001b[0m\u001b[1;34m'I interp'\u001b[0m\u001b[1;33m]\u001b[0m\u001b[1;33m=\u001b[0m\u001b[0mIdata\u001b[0m\u001b[1;33m[\u001b[0m\u001b[1;34m'I ADC'\u001b[0m\u001b[1;33m]\u001b[0m\u001b[1;33m*\u001b[0m\u001b[0mtes\u001b[0m\u001b[1;33m.\u001b[0m\u001b[0mslope\u001b[0m\u001b[1;33m+\u001b[0m\u001b[0mtes\u001b[0m\u001b[1;33m.\u001b[0m\u001b[0mintercept\u001b[0m\u001b[1;33m\u001b[0m\u001b[1;33m\u001b[0m\u001b[0m\n\u001b[0m",
      "\u001b[1;31mNameError\u001b[0m: name 'tes' is not defined"
     ]
    }
   ],
   "source": [
    "Idata['I interp']=Idata['I ADC']*tes.slope+tes.intercept"
   ]
  },
  {
   "cell_type": "code",
   "execution_count": null,
   "metadata": {},
   "outputs": [],
   "source": [
    "data_I"
   ]
  },
  {
   "cell_type": "code",
   "execution_count": null,
   "metadata": {},
   "outputs": [],
   "source": [
    "for i in range(len(Slope_0)):\n",
    "    print(Slope_0[i], Inter_0[i])\n"
   ]
  },
  {
   "cell_type": "code",
   "execution_count": null,
   "metadata": {},
   "outputs": [],
   "source": [
    "res_0 = stats.linregress(Vdata['ADC 0'], Vdata['V multimeter'])\n",
    "res_1 = stats.linregress(Vdata['ADC 1'], Vdata['V multimeter'])\n",
    "res_2 = stats.linregress(Vdata['ADC 2'], Vdata['V multimeter'])\n"
   ]
  },
  {
   "cell_type": "code",
   "execution_count": null,
   "metadata": {},
   "outputs": [],
   "source": [
    "plt.plot(Vdata['ADC 0'], Vdata['V multimeter'], 'o', label='original data')\n",
    "plt.plot(Vdata['ADC 0'], res_0.intercept + res_0.slope *\n",
    "         Vdata['ADC 0'], 'r', label='fitted line')\n"
   ]
  },
  {
   "cell_type": "code",
   "execution_count": null,
   "metadata": {},
   "outputs": [],
   "source": [
    "plt.plot(Vdata['ADC 1'], Vdata['V multimeter'], 'o', label='original data')\n",
    "plt.plot(Vdata['ADC 1'], res_1.intercept + res_1.slope *\n",
    "         Vdata['ADC 1'], 'r', label='fitted line')\n"
   ]
  },
  {
   "cell_type": "code",
   "execution_count": null,
   "metadata": {},
   "outputs": [],
   "source": [
    "plt.plot(Vdata['ADC 2'], Vdata['V multimeter'], 'o', label='original data')\n",
    "plt.plot(Vdata['ADC 2'], res_2.intercept + res_2.slope *\n",
    "         Vdata['ADC 2'], 'r', label='fitted line')\n"
   ]
  },
  {
   "cell_type": "code",
   "execution_count": null,
   "metadata": {},
   "outputs": [],
   "source": [
    "interp_slope = 20.83\n"
   ]
  }
 ],
 "metadata": {
  "interpreter": {
   "hash": "b6f25d253e9ef28c30dd30f43d7aceaf3b35d139b818aef12eb4cd0f93e2e018"
  },
  "kernelspec": {
   "display_name": "Python 3.8.8 64-bit ('base': conda)",
   "language": "python",
   "name": "python3"
  },
  "language_info": {
   "codemirror_mode": {
    "name": "ipython",
    "version": 3
   },
   "file_extension": ".py",
   "mimetype": "text/x-python",
   "name": "python",
   "nbconvert_exporter": "python",
   "pygments_lexer": "ipython3",
   "version": "3.8.8"
  },
  "orig_nbformat": 4
 },
 "nbformat": 4,
 "nbformat_minor": 2
}
