{
 "cells": [
  {
   "cell_type": "code",
   "execution_count": 21,
   "metadata": {},
   "outputs": [],
   "source": [
    "import pandas as pd\n",
    "import csv\n",
    "from matplotlib import pyplot as plt\n",
    "import os\n",
    "import numpy as np\n",
    "from scipy import stats\n"
   ]
  },
  {
   "cell_type": "code",
   "execution_count": 22,
   "metadata": {},
   "outputs": [],
   "source": [
    "R=0.4"
   ]
  },
  {
   "cell_type": "code",
   "execution_count": 23,
   "metadata": {},
   "outputs": [],
   "source": [
    "folder_list=list()\n",
    "current_folder = os.getcwd()\n",
    "for item in os.listdir(current_folder):\n",
    "    if len(item) <= 3:\n",
    "        folder_list.append(item)\n",
    "folder_list.sort(key=lambda x:int(x.replace(\"G\",\"\")))"
   ]
  },
  {
   "cell_type": "code",
   "execution_count": 24,
   "metadata": {},
   "outputs": [],
   "source": [
    "csv_list=list()\n",
    "for folder in folder_list:\n",
    "    folder_path=os.path.join(current_folder,folder)\n",
    "    csv_list.append(os.listdir(folder_path))\n",
    "gain_list=list()\n",
    "for folder in folder_list:\n",
    "    gain_list.append(int(folder.replace(\"G\",\"\")))"
   ]
  },
  {
   "cell_type": "code",
   "execution_count": 25,
   "metadata": {},
   "outputs": [
    {
     "name": "stdout",
     "output_type": "stream",
     "text": [
      "82\n"
     ]
    }
   ],
   "source": [
    "sum=0\n",
    "for csv_file in csv_list:\n",
    "    sum+=len(csv_file)\n",
    "print(sum)"
   ]
  },
  {
   "cell_type": "code",
   "execution_count": 26,
   "metadata": {},
   "outputs": [],
   "source": [
    "I_mm = list()\n",
    "I_adc = list()\n",
    "G = list()\n",
    "G_LSB = list()"
   ]
  },
  {
   "cell_type": "code",
   "execution_count": 27,
   "metadata": {},
   "outputs": [],
   "source": [
    "for i in range(len(csv_list)):\n",
    "    for csv_file in csv_list[i]:\n",
    "\n",
    "        G.append(gain_list[i])\n",
    "        G_LSB.append(4096/2**15/gain_list[i])\n",
    "        splitted_I = csv_file.replace(\".csv\", \"\").split(\" \")\n",
    "        if len(splitted_I) == 2:\n",
    "            I_mm.append(float(splitted_I[0]) +\n",
    "                float(splitted_I[1])/(10**len(splitted_I[1])))\n",
    "        else:\n",
    "            I_mm.append(float(splitted_I[0]))\n",
    "\n",
    "        folder_path=os.path.join(current_folder,folder_list[i])\n",
    "        with open(os.path.join(folder_path,csv_file), \"r\") as f:\n",
    "            csv_reader = csv.reader(f, delimiter=',')\n",
    "            I_adc_temp = list()\n",
    "            for row in csv_reader:\n",
    "                # cek kalo list kosong atau engga\n",
    "                if row:\n",
    "                    I_adc_temp.append(float(row[0]))\n",
    "        I_adc.append(np.average(I_adc_temp))"
   ]
  },
  {
   "cell_type": "code",
   "execution_count": 28,
   "metadata": {},
   "outputs": [],
   "source": [
    "Idata = pd.DataFrame([I_mm, I_adc, G, G_LSB]).T\n",
    "Idata.columns = ['I multimeter', 'I ADC', 'G', 'G LSB']\n",
    "Idata=Idata.sort_values([\"G\",\"I multimeter\"]).reset_index(drop=True)\n",
    "#Idata = Idata.sort_values(['G','I ADC'])\n",
    "#Idata['I ADC'] = Idata['I ADC']*3/6.2/1000"
   ]
  },
  {
   "cell_type": "code",
   "execution_count": 29,
   "metadata": {},
   "outputs": [],
   "source": [
    "Idata['I ADC'] = Idata['I ADC'].multiply(Idata['G LSB'], axis=\"index\")"
   ]
  },
  {
   "cell_type": "markdown",
   "metadata": {},
   "source": [
    "\\begin{equation*}\n",
    "  V_{adc}=I_{in}R_{shunt}\\frac{1}{3}A_v\n",
    "\\end{equation*}\n",
    "\\begin{equation*}\n",
    "    I_{in}=\\frac{3V_{adc}}{R_{shunt}A_v}\n",
    "\\end{equation*}\n"
   ]
  },
  {
   "cell_type": "code",
   "execution_count": 30,
   "metadata": {},
   "outputs": [],
   "source": [
    "Slope_I = list()\n",
    "Inter_I = list()\n",
    "for gain in gain_list:\n",
    "    reg_result= stats.linregress(Idata['I ADC'].loc[Idata['G']==gain], Idata['I multimeter'].loc[Idata['G']==gain])\n",
    "    Slope_I.append(reg_result.slope)\n",
    "    Inter_I.append(reg_result.intercept)\n"
   ]
  },
  {
   "cell_type": "code",
   "execution_count": 31,
   "metadata": {},
   "outputs": [
    {
     "data": {
      "text/plain": [
       "67     20.26\n",
       "68     33.35\n",
       "69     44.14\n",
       "70     54.51\n",
       "71     61.70\n",
       "72     71.30\n",
       "73     81.00\n",
       "74     91.40\n",
       "75    101.30\n",
       "76    112.00\n",
       "77    119.70\n",
       "78    131.60\n",
       "79    142.00\n",
       "80    152.80\n",
       "81    161.70\n",
       "Name: I multimeter, dtype: float64"
      ]
     },
     "execution_count": 31,
     "metadata": {},
     "output_type": "execute_result"
    }
   ],
   "source": [
    "Idata['I multimeter'].loc[Idata['G']==gain]"
   ]
  },
  {
   "cell_type": "code",
   "execution_count": 33,
   "metadata": {},
   "outputs": [],
   "source": [
    "Slope_arr= list()\n",
    "Inter_arr= list()\n",
    "#reg_pred = list()\n",
    "for i in range(len(csv_list)):\n",
    "    for j in csv_list[i]:\n",
    "        Slope_arr.append(Slope_I[i])\n",
    "        Inter_arr.append(Inter_I[i])"
   ]
  },
  {
   "cell_type": "code",
   "execution_count": 35,
   "metadata": {},
   "outputs": [],
   "source": [
    "Idata['I pred']=Idata['I ADC'].multiply(Slope_arr)+Inter_arr"
   ]
  },
  {
   "cell_type": "code",
   "execution_count": 36,
   "metadata": {},
   "outputs": [],
   "source": [
    "E_arr=list()\n",
    "for i in range(len(Idata)):\n",
    "    E_arr.append(abs(Idata['I pred'][i]-Idata['I multimeter'][i])/Idata['I multimeter'][i]*100)\n",
    "Idata['Error']=E_arr"
   ]
  },
  {
   "cell_type": "code",
   "execution_count": 42,
   "metadata": {},
   "outputs": [
    {
     "name": "stdout",
     "output_type": "stream",
     "text": [
      "12.28273775912119\n",
      "5.137404840812986\n",
      "0.7829953148035598\n",
      "1.687920115794753\n"
     ]
    }
   ],
   "source": [
    "for i in gain_list:\n",
    "    print(np.average(Idata[\"Error\"].loc[Idata['G']==i]))\n"
   ]
  },
  {
   "cell_type": "code",
   "execution_count": 45,
   "metadata": {},
   "outputs": [
    {
     "data": {
      "text/plain": [
       "[-294.5419692528976, -35.71868100754, 8.127347522120658, -68.35364366115296]"
      ]
     },
     "execution_count": 45,
     "metadata": {},
     "output_type": "execute_result"
    }
   ],
   "source": [
    "Inter_I"
   ]
  },
  {
   "cell_type": "code",
   "execution_count": 37,
   "metadata": {},
   "outputs": [],
   "source": [
    "import plotly as ply"
   ]
  },
  {
   "cell_type": "code",
   "execution_count": 39,
   "metadata": {},
   "outputs": [
    {
     "data": {
      "application/vnd.plotly.v1+json": {
       "config": {
        "plotlyServerURL": "https://plot.ly"
       },
       "data": [
        {
         "name": "1x",
         "type": "scatter",
         "x": [
          401,
          440,
          485,
          526,
          561,
          602,
          641,
          685,
          721,
          763,
          801,
          804,
          813,
          843,
          848,
          883,
          926,
          965,
          1003,
          1047,
          1091,
          1121,
          1162
         ],
         "y": [
          13.948066661452005,
          0.736751032393489,
          4.302764129045818,
          12.391424266204492,
          16.695316580188983,
          18.66435624753979,
          17.407362755456944,
          12.40792879349745,
          10.41276027446348,
          6.848962423022675,
          1.0975155818184705,
          33.21505649983415,
          3.86396527562489,
          27.101815946421322,
          2.0563651919345904,
          4.4732770087656,
          7.3101715597151475,
          9.648563204605573,
          11.766169495007958,
          14.035912016242143,
          16.493321310469323,
          17.876132122984238,
          19.749010083098874
         ]
        },
        {
         "name": "8x",
         "type": "scatter",
         "x": [
          20.26,
          33.35,
          44.14,
          54.51,
          61.7,
          71.3,
          81,
          91.4,
          101.3,
          112,
          119.7,
          131.6,
          142,
          152.8,
          161.7
         ],
         "y": [
          7.911729474464894,
          2.620012068507562,
          0.07076747187426274,
          0.755202691396109,
          3.1746857632898653,
          1.1778201777054682,
          0.9232654987421979,
          0.2304745191206557,
          0.5434335504451041,
          1.6657683347274626,
          0.010516600123949888,
          1.4381445584890586,
          1.6086451563942672,
          1.0972495174311891,
          2.0910863542092457
         ]
        },
        {
         "name": "4x",
         "type": "scatter",
         "x": [
          174.5,
          183.5,
          192.6,
          205.4,
          211.9,
          220.3,
          232.9,
          242.2,
          252.6,
          261.9,
          273.7,
          281.4,
          292.8,
          301.5,
          314.5,
          323.8,
          324.7,
          333.8,
          344.4,
          354.3,
          363.4
         ],
         "y": [
          0.9132577023237372,
          1.386894169565896,
          0.18192865351357004,
          0.27379704433647756,
          1.9011336086118702,
          0.05782338987719941,
          0.46163903573357795,
          0.172662230827631,
          1.9504861356053942,
          1.9321968642846081,
          1.3817416752221563,
          0.5774759072093791,
          0.5968762416819219,
          0.4331858443691725,
          1.4532642454156304,
          0.4279258810172962,
          0.2233618373784015,
          1.1889138906429608,
          0.2192188811663812,
          0.4023399057661592,
          0.30677846632533834
         ]
        },
        {
         "name": "2x",
         "type": "scatter",
         "x": [
          301.7,
          322.2,
          345.7,
          363,
          404.7,
          423.5,
          424.4,
          441,
          460.4,
          482.1,
          503.2,
          533,
          552,
          576,
          608,
          625,
          656,
          676,
          705,
          730,
          750,
          775,
          803
         ],
         "y": [
          10.540347548438511,
          8.556530878630372,
          8.698494021452925,
          3.2038014411839586,
          1.797576601075255,
          1.6060141234181893,
          1.6830373394986424,
          2.508314411530749,
          4.724074482913916,
          6.1522367252153405,
          7.290821824144291,
          6.370940631922675,
          7.73217116133309,
          7.758747884092207,
          5.601976669075944,
          4.576713970955079,
          2.0124985103142787,
          0.6012041087156937,
          1.5054769597445525,
          3.5257170645680826,
          5.12079986837801,
          7.070275093418566,
          9.52254001867836
         ]
        }
       ],
       "layout": {
        "template": {
         "data": {
          "bar": [
           {
            "error_x": {
             "color": "#2a3f5f"
            },
            "error_y": {
             "color": "#2a3f5f"
            },
            "marker": {
             "line": {
              "color": "#E5ECF6",
              "width": 0.5
             },
             "pattern": {
              "fillmode": "overlay",
              "size": 10,
              "solidity": 0.2
             }
            },
            "type": "bar"
           }
          ],
          "barpolar": [
           {
            "marker": {
             "line": {
              "color": "#E5ECF6",
              "width": 0.5
             },
             "pattern": {
              "fillmode": "overlay",
              "size": 10,
              "solidity": 0.2
             }
            },
            "type": "barpolar"
           }
          ],
          "carpet": [
           {
            "aaxis": {
             "endlinecolor": "#2a3f5f",
             "gridcolor": "white",
             "linecolor": "white",
             "minorgridcolor": "white",
             "startlinecolor": "#2a3f5f"
            },
            "baxis": {
             "endlinecolor": "#2a3f5f",
             "gridcolor": "white",
             "linecolor": "white",
             "minorgridcolor": "white",
             "startlinecolor": "#2a3f5f"
            },
            "type": "carpet"
           }
          ],
          "choropleth": [
           {
            "colorbar": {
             "outlinewidth": 0,
             "ticks": ""
            },
            "type": "choropleth"
           }
          ],
          "contour": [
           {
            "colorbar": {
             "outlinewidth": 0,
             "ticks": ""
            },
            "colorscale": [
             [
              0,
              "#0d0887"
             ],
             [
              0.1111111111111111,
              "#46039f"
             ],
             [
              0.2222222222222222,
              "#7201a8"
             ],
             [
              0.3333333333333333,
              "#9c179e"
             ],
             [
              0.4444444444444444,
              "#bd3786"
             ],
             [
              0.5555555555555556,
              "#d8576b"
             ],
             [
              0.6666666666666666,
              "#ed7953"
             ],
             [
              0.7777777777777778,
              "#fb9f3a"
             ],
             [
              0.8888888888888888,
              "#fdca26"
             ],
             [
              1,
              "#f0f921"
             ]
            ],
            "type": "contour"
           }
          ],
          "contourcarpet": [
           {
            "colorbar": {
             "outlinewidth": 0,
             "ticks": ""
            },
            "type": "contourcarpet"
           }
          ],
          "heatmap": [
           {
            "colorbar": {
             "outlinewidth": 0,
             "ticks": ""
            },
            "colorscale": [
             [
              0,
              "#0d0887"
             ],
             [
              0.1111111111111111,
              "#46039f"
             ],
             [
              0.2222222222222222,
              "#7201a8"
             ],
             [
              0.3333333333333333,
              "#9c179e"
             ],
             [
              0.4444444444444444,
              "#bd3786"
             ],
             [
              0.5555555555555556,
              "#d8576b"
             ],
             [
              0.6666666666666666,
              "#ed7953"
             ],
             [
              0.7777777777777778,
              "#fb9f3a"
             ],
             [
              0.8888888888888888,
              "#fdca26"
             ],
             [
              1,
              "#f0f921"
             ]
            ],
            "type": "heatmap"
           }
          ],
          "heatmapgl": [
           {
            "colorbar": {
             "outlinewidth": 0,
             "ticks": ""
            },
            "colorscale": [
             [
              0,
              "#0d0887"
             ],
             [
              0.1111111111111111,
              "#46039f"
             ],
             [
              0.2222222222222222,
              "#7201a8"
             ],
             [
              0.3333333333333333,
              "#9c179e"
             ],
             [
              0.4444444444444444,
              "#bd3786"
             ],
             [
              0.5555555555555556,
              "#d8576b"
             ],
             [
              0.6666666666666666,
              "#ed7953"
             ],
             [
              0.7777777777777778,
              "#fb9f3a"
             ],
             [
              0.8888888888888888,
              "#fdca26"
             ],
             [
              1,
              "#f0f921"
             ]
            ],
            "type": "heatmapgl"
           }
          ],
          "histogram": [
           {
            "marker": {
             "pattern": {
              "fillmode": "overlay",
              "size": 10,
              "solidity": 0.2
             }
            },
            "type": "histogram"
           }
          ],
          "histogram2d": [
           {
            "colorbar": {
             "outlinewidth": 0,
             "ticks": ""
            },
            "colorscale": [
             [
              0,
              "#0d0887"
             ],
             [
              0.1111111111111111,
              "#46039f"
             ],
             [
              0.2222222222222222,
              "#7201a8"
             ],
             [
              0.3333333333333333,
              "#9c179e"
             ],
             [
              0.4444444444444444,
              "#bd3786"
             ],
             [
              0.5555555555555556,
              "#d8576b"
             ],
             [
              0.6666666666666666,
              "#ed7953"
             ],
             [
              0.7777777777777778,
              "#fb9f3a"
             ],
             [
              0.8888888888888888,
              "#fdca26"
             ],
             [
              1,
              "#f0f921"
             ]
            ],
            "type": "histogram2d"
           }
          ],
          "histogram2dcontour": [
           {
            "colorbar": {
             "outlinewidth": 0,
             "ticks": ""
            },
            "colorscale": [
             [
              0,
              "#0d0887"
             ],
             [
              0.1111111111111111,
              "#46039f"
             ],
             [
              0.2222222222222222,
              "#7201a8"
             ],
             [
              0.3333333333333333,
              "#9c179e"
             ],
             [
              0.4444444444444444,
              "#bd3786"
             ],
             [
              0.5555555555555556,
              "#d8576b"
             ],
             [
              0.6666666666666666,
              "#ed7953"
             ],
             [
              0.7777777777777778,
              "#fb9f3a"
             ],
             [
              0.8888888888888888,
              "#fdca26"
             ],
             [
              1,
              "#f0f921"
             ]
            ],
            "type": "histogram2dcontour"
           }
          ],
          "mesh3d": [
           {
            "colorbar": {
             "outlinewidth": 0,
             "ticks": ""
            },
            "type": "mesh3d"
           }
          ],
          "parcoords": [
           {
            "line": {
             "colorbar": {
              "outlinewidth": 0,
              "ticks": ""
             }
            },
            "type": "parcoords"
           }
          ],
          "pie": [
           {
            "automargin": true,
            "type": "pie"
           }
          ],
          "scatter": [
           {
            "marker": {
             "colorbar": {
              "outlinewidth": 0,
              "ticks": ""
             }
            },
            "type": "scatter"
           }
          ],
          "scatter3d": [
           {
            "line": {
             "colorbar": {
              "outlinewidth": 0,
              "ticks": ""
             }
            },
            "marker": {
             "colorbar": {
              "outlinewidth": 0,
              "ticks": ""
             }
            },
            "type": "scatter3d"
           }
          ],
          "scattercarpet": [
           {
            "marker": {
             "colorbar": {
              "outlinewidth": 0,
              "ticks": ""
             }
            },
            "type": "scattercarpet"
           }
          ],
          "scattergeo": [
           {
            "marker": {
             "colorbar": {
              "outlinewidth": 0,
              "ticks": ""
             }
            },
            "type": "scattergeo"
           }
          ],
          "scattergl": [
           {
            "marker": {
             "colorbar": {
              "outlinewidth": 0,
              "ticks": ""
             }
            },
            "type": "scattergl"
           }
          ],
          "scattermapbox": [
           {
            "marker": {
             "colorbar": {
              "outlinewidth": 0,
              "ticks": ""
             }
            },
            "type": "scattermapbox"
           }
          ],
          "scatterpolar": [
           {
            "marker": {
             "colorbar": {
              "outlinewidth": 0,
              "ticks": ""
             }
            },
            "type": "scatterpolar"
           }
          ],
          "scatterpolargl": [
           {
            "marker": {
             "colorbar": {
              "outlinewidth": 0,
              "ticks": ""
             }
            },
            "type": "scatterpolargl"
           }
          ],
          "scatterternary": [
           {
            "marker": {
             "colorbar": {
              "outlinewidth": 0,
              "ticks": ""
             }
            },
            "type": "scatterternary"
           }
          ],
          "surface": [
           {
            "colorbar": {
             "outlinewidth": 0,
             "ticks": ""
            },
            "colorscale": [
             [
              0,
              "#0d0887"
             ],
             [
              0.1111111111111111,
              "#46039f"
             ],
             [
              0.2222222222222222,
              "#7201a8"
             ],
             [
              0.3333333333333333,
              "#9c179e"
             ],
             [
              0.4444444444444444,
              "#bd3786"
             ],
             [
              0.5555555555555556,
              "#d8576b"
             ],
             [
              0.6666666666666666,
              "#ed7953"
             ],
             [
              0.7777777777777778,
              "#fb9f3a"
             ],
             [
              0.8888888888888888,
              "#fdca26"
             ],
             [
              1,
              "#f0f921"
             ]
            ],
            "type": "surface"
           }
          ],
          "table": [
           {
            "cells": {
             "fill": {
              "color": "#EBF0F8"
             },
             "line": {
              "color": "white"
             }
            },
            "header": {
             "fill": {
              "color": "#C8D4E3"
             },
             "line": {
              "color": "white"
             }
            },
            "type": "table"
           }
          ]
         },
         "layout": {
          "annotationdefaults": {
           "arrowcolor": "#2a3f5f",
           "arrowhead": 0,
           "arrowwidth": 1
          },
          "autotypenumbers": "strict",
          "coloraxis": {
           "colorbar": {
            "outlinewidth": 0,
            "ticks": ""
           }
          },
          "colorscale": {
           "diverging": [
            [
             0,
             "#8e0152"
            ],
            [
             0.1,
             "#c51b7d"
            ],
            [
             0.2,
             "#de77ae"
            ],
            [
             0.3,
             "#f1b6da"
            ],
            [
             0.4,
             "#fde0ef"
            ],
            [
             0.5,
             "#f7f7f7"
            ],
            [
             0.6,
             "#e6f5d0"
            ],
            [
             0.7,
             "#b8e186"
            ],
            [
             0.8,
             "#7fbc41"
            ],
            [
             0.9,
             "#4d9221"
            ],
            [
             1,
             "#276419"
            ]
           ],
           "sequential": [
            [
             0,
             "#0d0887"
            ],
            [
             0.1111111111111111,
             "#46039f"
            ],
            [
             0.2222222222222222,
             "#7201a8"
            ],
            [
             0.3333333333333333,
             "#9c179e"
            ],
            [
             0.4444444444444444,
             "#bd3786"
            ],
            [
             0.5555555555555556,
             "#d8576b"
            ],
            [
             0.6666666666666666,
             "#ed7953"
            ],
            [
             0.7777777777777778,
             "#fb9f3a"
            ],
            [
             0.8888888888888888,
             "#fdca26"
            ],
            [
             1,
             "#f0f921"
            ]
           ],
           "sequentialminus": [
            [
             0,
             "#0d0887"
            ],
            [
             0.1111111111111111,
             "#46039f"
            ],
            [
             0.2222222222222222,
             "#7201a8"
            ],
            [
             0.3333333333333333,
             "#9c179e"
            ],
            [
             0.4444444444444444,
             "#bd3786"
            ],
            [
             0.5555555555555556,
             "#d8576b"
            ],
            [
             0.6666666666666666,
             "#ed7953"
            ],
            [
             0.7777777777777778,
             "#fb9f3a"
            ],
            [
             0.8888888888888888,
             "#fdca26"
            ],
            [
             1,
             "#f0f921"
            ]
           ]
          },
          "colorway": [
           "#636efa",
           "#EF553B",
           "#00cc96",
           "#ab63fa",
           "#FFA15A",
           "#19d3f3",
           "#FF6692",
           "#B6E880",
           "#FF97FF",
           "#FECB52"
          ],
          "font": {
           "color": "#2a3f5f"
          },
          "geo": {
           "bgcolor": "white",
           "lakecolor": "white",
           "landcolor": "#E5ECF6",
           "showlakes": true,
           "showland": true,
           "subunitcolor": "white"
          },
          "hoverlabel": {
           "align": "left"
          },
          "hovermode": "closest",
          "mapbox": {
           "style": "light"
          },
          "paper_bgcolor": "white",
          "plot_bgcolor": "#E5ECF6",
          "polar": {
           "angularaxis": {
            "gridcolor": "white",
            "linecolor": "white",
            "ticks": ""
           },
           "bgcolor": "#E5ECF6",
           "radialaxis": {
            "gridcolor": "white",
            "linecolor": "white",
            "ticks": ""
           }
          },
          "scene": {
           "xaxis": {
            "backgroundcolor": "#E5ECF6",
            "gridcolor": "white",
            "gridwidth": 2,
            "linecolor": "white",
            "showbackground": true,
            "ticks": "",
            "zerolinecolor": "white"
           },
           "yaxis": {
            "backgroundcolor": "#E5ECF6",
            "gridcolor": "white",
            "gridwidth": 2,
            "linecolor": "white",
            "showbackground": true,
            "ticks": "",
            "zerolinecolor": "white"
           },
           "zaxis": {
            "backgroundcolor": "#E5ECF6",
            "gridcolor": "white",
            "gridwidth": 2,
            "linecolor": "white",
            "showbackground": true,
            "ticks": "",
            "zerolinecolor": "white"
           }
          },
          "shapedefaults": {
           "line": {
            "color": "#2a3f5f"
           }
          },
          "ternary": {
           "aaxis": {
            "gridcolor": "white",
            "linecolor": "white",
            "ticks": ""
           },
           "baxis": {
            "gridcolor": "white",
            "linecolor": "white",
            "ticks": ""
           },
           "bgcolor": "#E5ECF6",
           "caxis": {
            "gridcolor": "white",
            "linecolor": "white",
            "ticks": ""
           }
          },
          "title": {
           "x": 0.05
          },
          "xaxis": {
           "automargin": true,
           "gridcolor": "white",
           "linecolor": "white",
           "ticks": "",
           "title": {
            "standoff": 15
           },
           "zerolinecolor": "white",
           "zerolinewidth": 2
          },
          "yaxis": {
           "automargin": true,
           "gridcolor": "white",
           "linecolor": "white",
           "ticks": "",
           "title": {
            "standoff": 15
           },
           "zerolinecolor": "white",
           "zerolinewidth": 2
          }
         }
        },
        "title": {
         "text": "Error Pengukuran arus pada setiap gain"
        },
        "xaxis": {
         "title": {
          "text": "Arus (mA)"
         }
        },
        "yaxis": {
         "title": {
          "text": "Error (%)"
         }
        }
       }
      }
     },
     "metadata": {},
     "output_type": "display_data"
    }
   ],
   "source": [
    "fig = ply.graph_objects.Figure()\n",
    "# Create and style traces\n",
    "fig.add_trace(ply.graph_objects.Scatter(\n",
    "    x=Idata[\"I multimeter\"].loc[Idata['G'] == 1.0], y=Idata[\"Error\"].loc[Idata['G'] == 1.0], name=\"1x\"))\n",
    "fig.add_trace(ply.graph_objects.Scatter(\n",
    "    x=Idata[\"I multimeter\"].loc[Idata['G'] == 8.0], y=Idata[\"Error\"].loc[Idata['G'] == 8.0], name=\"8x\"))\n",
    "fig.add_trace(ply.graph_objects.Scatter(\n",
    "    x=Idata[\"I multimeter\"].loc[Idata['G'] == 4.0], y=Idata[\"Error\"].loc[Idata['G'] == 4.0], name=\"4x\"))\n",
    "fig.add_trace(ply.graph_objects.Scatter(\n",
    "    x=Idata[\"I multimeter\"].loc[Idata['G'] == 2.0], y=Idata[\"Error\"].loc[Idata['G'] == 2.0], name=\"2x\"))\n",
    "fig.update_layout(title='Error Pengukuran arus pada setiap gain',\n",
    "                  xaxis_title='Arus (mA)',\n",
    "                  yaxis_title='Error (%)')\n"
   ]
  },
  {
   "cell_type": "code",
   "execution_count": 4,
   "metadata": {},
   "outputs": [
    {
     "data": {
      "text/plain": [
       "857.9849293706679"
      ]
     },
     "execution_count": 4,
     "metadata": {},
     "output_type": "execute_result"
    }
   ],
   "source": [
    "(2**15*0.5627572747185379*0.0625-294.5419692528976)"
   ]
  }
 ],
 "metadata": {
  "interpreter": {
   "hash": "b6f25d253e9ef28c30dd30f43d7aceaf3b35d139b818aef12eb4cd0f93e2e018"
  },
  "kernelspec": {
   "display_name": "Python 3.8.8 64-bit ('base': conda)",
   "language": "python",
   "name": "python3"
  },
  "language_info": {
   "codemirror_mode": {
    "name": "ipython",
    "version": 3
   },
   "file_extension": ".py",
   "mimetype": "text/x-python",
   "name": "python",
   "nbconvert_exporter": "python",
   "pygments_lexer": "ipython3",
   "version": "3.8.8"
  },
  "orig_nbformat": 4
 },
 "nbformat": 4,
 "nbformat_minor": 2
}
