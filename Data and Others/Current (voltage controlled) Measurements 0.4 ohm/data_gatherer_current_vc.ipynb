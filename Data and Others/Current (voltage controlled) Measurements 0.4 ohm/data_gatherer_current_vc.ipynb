{
 "cells": [
  {
   "cell_type": "code",
   "execution_count": 1,
   "metadata": {},
   "outputs": [],
   "source": [
    "import serial\n",
    "import time\n",
    "import csv"
   ]
  },
  {
   "cell_type": "code",
   "execution_count": 158,
   "metadata": {},
   "outputs": [
    {
     "name": "stdout",
     "output_type": "stream",
     "text": [
      "17439.6\n",
      "17438.5\n",
      "17434.6\n",
      "17434.7\n",
      "17437.4\n",
      "17444.4\n",
      "17443.9\n",
      "17446.1\n",
      "17455.1\n",
      "17460.9\n"
     ]
    }
   ],
   "source": [
    "ser = serial.Serial('COM4')\n",
    "filename = \"1162\"\n",
    "\n",
    "ser.flushInput()\n",
    "counter = 0\n",
    "\n",
    "while counter < 10:\n",
    "    counter += 1\n",
    "    try:\n",
    "        ser_bytes = ser.readline()\n",
    "        decoded_bytes = float(ser_bytes[0:len(ser_bytes)-2].decode(\"utf-8\"))\n",
    "        print(decoded_bytes)\n",
    "        with open(filename+\".csv\",\"a\") as f:\n",
    "            writer = csv.writer(f,delimiter=\",\")\n",
    "            writer.writerow([decoded_bytes])\n",
    "    except Exception as e:\n",
    "        print(\"Keyboard Interrupt\")\n",
    "        print(e)\n",
    "        break\n",
    "\n",
    "ser.close()"
   ]
  }
 ],
 "metadata": {
  "interpreter": {
   "hash": "b6f25d253e9ef28c30dd30f43d7aceaf3b35d139b818aef12eb4cd0f93e2e018"
  },
  "kernelspec": {
   "display_name": "Python 3.8.8 64-bit ('base': conda)",
   "language": "python",
   "name": "python3"
  },
  "language_info": {
   "codemirror_mode": {
    "name": "ipython",
    "version": 3
   },
   "file_extension": ".py",
   "mimetype": "text/x-python",
   "name": "python",
   "nbconvert_exporter": "python",
   "pygments_lexer": "ipython3",
   "version": "3.8.8"
  },
  "orig_nbformat": 4
 },
 "nbformat": 4,
 "nbformat_minor": 2
}
