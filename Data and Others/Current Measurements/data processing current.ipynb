{
 "cells": [
  {
   "cell_type": "code",
   "execution_count": 28,
   "metadata": {},
   "outputs": [],
   "source": [
    "import pandas as pd\n",
    "import csv\n",
    "from matplotlib import pyplot as plt\n",
    "import os\n",
    "import numpy as np\n",
    "from scipy import stats\n"
   ]
  },
  {
   "cell_type": "code",
   "execution_count": 29,
   "metadata": {},
   "outputs": [],
   "source": [
    "current_folder = os.getcwd()\n",
    "csv_list = os.listdir(current_folder)\n",
    "to_remove = list()\n",
    "for i in range(len(csv_list)):\n",
    "    if csv_list[i][-3:] != 'csv':\n",
    "        to_remove.append(i)\n",
    "temp = list()\n",
    "for i in range(len(csv_list)):\n",
    "    if i not in to_remove:\n",
    "        temp.append(csv_list[i])\n",
    "csv_list = temp\n"
   ]
  },
  {
   "cell_type": "code",
   "execution_count": 30,
   "metadata": {},
   "outputs": [],
   "source": [
    "I_mm = list()\n",
    "I_adc = list()\n",
    "Resistance = list()\n"
   ]
  },
  {
   "cell_type": "code",
   "execution_count": 31,
   "metadata": {},
   "outputs": [],
   "source": [
    "for i in csv_list:\n",
    "    with open(i, \"r\") as f:\n",
    "        csv_reader = csv.reader(f, delimiter=',')\n",
    "        I_adc_temp = list()\n",
    "        for row in csv_reader:\n",
    "            # cek kalo list kosong atau engga\n",
    "            if row:\n",
    "                I_adc_temp.append(float(row[0]))\n",
    "    I_adc.append(np.average(I_adc_temp))\n",
    "\n",
    "    splitted_title = i.replace(\".csv\", \"\").split(',')\n",
    "    I_splitted = splitted_title[0].split(' ')\n",
    "    I_mm.append(float(I_splitted[0]) +\n",
    "                    float(I_splitted[1])/(10**len(I_splitted[1])))\n",
    "    R_temp = splitted_title[1]\n",
    "    if \" \" in R_temp:\n",
    "        R_temp_splitted = R_temp.split(\" \")\n",
    "        before_comma = float(R_temp_splitted[0])\n",
    "        if  R_temp_splitted[1][-1] == \"k\":\n",
    "            before_comma=before_comma*1000\n",
    "            R_temp_splitted[1]=R_temp_splitted[1].replace(\"k\",\"\")\n",
    "            after_comma= float(R_temp_splitted[1])*100\n",
    "        Resistance.append(before_comma+after_comma)\n",
    "    else:\n",
    "        if R_temp[-1] == \"k\":\n",
    "            R_temp=R_temp.replace(\"k\",\"\")\n",
    "            Resistance.append(float(R_temp)*1000)\n",
    "        else:\n",
    "            Resistance.append(float(R_temp))"
   ]
  },
  {
   "cell_type": "code",
   "execution_count": 32,
   "metadata": {},
   "outputs": [],
   "source": [
    "Idata = pd.DataFrame([I_mm, I_adc, Resistance]).T\n",
    "Idata.columns = ['I multimeter', 'I ADC', 'Resistance']\n"
   ]
  },
  {
   "cell_type": "code",
   "execution_count": 33,
   "metadata": {},
   "outputs": [],
   "source": [
    "Idata = Idata.sort_values('I multimeter',ascending=False)\n",
    "#Idata['I ADC'] = Idata['I ADC']*3/6.2/1000\n"
   ]
  },
  {
   "cell_type": "code",
   "execution_count": 35,
   "metadata": {},
   "outputs": [],
   "source": [
    "# SIX POINT TWO OHM (6.2 Ohm)\n",
    "# Gain 2x: 100-150 ohm \n",
    "# Gain 4x: 180-220 ohm\n",
    "# Gain 8x: 330-470 ohm\n",
    "# Gain 16x: the fucking rest\n",
    "\n",
    "ADC_Range = [list(range(0, 2)), list(range(2, 4)), list(\n",
    "    range(4, 6)), list(range(6, len(Idata)))]\n",
    "ADC_multiplier = [0.0078125, 0.015625, 0.03125, 0.0625][::-1]\n",
    "multiplier = list()\n",
    "for i in range(len(ADC_Range)):\n",
    "    for j in ADC_Range[i]:\n",
    "        multiplier.append(ADC_multiplier[i])\n"
   ]
  },
  {
   "cell_type": "code",
   "execution_count": 36,
   "metadata": {},
   "outputs": [],
   "source": [
    "Idata['I ADC'] = Idata['I ADC'].multiply(multiplier, axis=\"index\")\n"
   ]
  },
  {
   "cell_type": "code",
   "execution_count": 37,
   "metadata": {},
   "outputs": [
    {
     "data": {
      "text/html": [
       "<div>\n",
       "<style scoped>\n",
       "    .dataframe tbody tr th:only-of-type {\n",
       "        vertical-align: middle;\n",
       "    }\n",
       "\n",
       "    .dataframe tbody tr th {\n",
       "        vertical-align: top;\n",
       "    }\n",
       "\n",
       "    .dataframe thead th {\n",
       "        text-align: right;\n",
       "    }\n",
       "</style>\n",
       "<table border=\"1\" class=\"dataframe\">\n",
       "  <thead>\n",
       "    <tr style=\"text-align: right;\">\n",
       "      <th></th>\n",
       "      <th>I multimeter</th>\n",
       "      <th>I ADC</th>\n",
       "      <th>Resistance</th>\n",
       "    </tr>\n",
       "  </thead>\n",
       "  <tbody>\n",
       "    <tr>\n",
       "      <th>16</th>\n",
       "      <td>42.9000</td>\n",
       "      <td>1920.421875</td>\n",
       "      <td>100.0</td>\n",
       "    </tr>\n",
       "    <tr>\n",
       "      <th>14</th>\n",
       "      <td>30.1200</td>\n",
       "      <td>1237.032500</td>\n",
       "      <td>150.0</td>\n",
       "    </tr>\n",
       "    <tr>\n",
       "      <th>13</th>\n",
       "      <td>25.3000</td>\n",
       "      <td>886.457187</td>\n",
       "      <td>180.0</td>\n",
       "    </tr>\n",
       "    <tr>\n",
       "      <th>12</th>\n",
       "      <td>21.0200</td>\n",
       "      <td>694.296250</td>\n",
       "      <td>220.0</td>\n",
       "    </tr>\n",
       "    <tr>\n",
       "      <th>10</th>\n",
       "      <td>14.3100</td>\n",
       "      <td>495.594375</td>\n",
       "      <td>330.0</td>\n",
       "    </tr>\n",
       "    <tr>\n",
       "      <th>9</th>\n",
       "      <td>10.1400</td>\n",
       "      <td>373.264844</td>\n",
       "      <td>470.0</td>\n",
       "    </tr>\n",
       "    <tr>\n",
       "      <th>15</th>\n",
       "      <td>4.3900</td>\n",
       "      <td>241.577734</td>\n",
       "      <td>1000.0</td>\n",
       "    </tr>\n",
       "    <tr>\n",
       "      <th>11</th>\n",
       "      <td>2.1100</td>\n",
       "      <td>174.234375</td>\n",
       "      <td>2200.0</td>\n",
       "    </tr>\n",
       "    <tr>\n",
       "      <th>8</th>\n",
       "      <td>1.4300</td>\n",
       "      <td>152.938672</td>\n",
       "      <td>3300.0</td>\n",
       "    </tr>\n",
       "    <tr>\n",
       "      <th>7</th>\n",
       "      <td>1.0150</td>\n",
       "      <td>139.776797</td>\n",
       "      <td>4700.0</td>\n",
       "    </tr>\n",
       "    <tr>\n",
       "      <th>6</th>\n",
       "      <td>0.7070</td>\n",
       "      <td>140.351562</td>\n",
       "      <td>6800.0</td>\n",
       "    </tr>\n",
       "    <tr>\n",
       "      <th>5</th>\n",
       "      <td>0.4836</td>\n",
       "      <td>127.066172</td>\n",
       "      <td>10000.0</td>\n",
       "    </tr>\n",
       "    <tr>\n",
       "      <th>4</th>\n",
       "      <td>0.3210</td>\n",
       "      <td>121.124375</td>\n",
       "      <td>15000.0</td>\n",
       "    </tr>\n",
       "    <tr>\n",
       "      <th>3</th>\n",
       "      <td>0.2211</td>\n",
       "      <td>116.775508</td>\n",
       "      <td>22000.0</td>\n",
       "    </tr>\n",
       "    <tr>\n",
       "      <th>2</th>\n",
       "      <td>0.1466</td>\n",
       "      <td>113.928320</td>\n",
       "      <td>33000.0</td>\n",
       "    </tr>\n",
       "    <tr>\n",
       "      <th>1</th>\n",
       "      <td>0.1028</td>\n",
       "      <td>116.729141</td>\n",
       "      <td>47000.0</td>\n",
       "    </tr>\n",
       "    <tr>\n",
       "      <th>0</th>\n",
       "      <td>0.0711</td>\n",
       "      <td>115.478203</td>\n",
       "      <td>68000.0</td>\n",
       "    </tr>\n",
       "  </tbody>\n",
       "</table>\n",
       "</div>"
      ],
      "text/plain": [
       "    I multimeter        I ADC  Resistance\n",
       "16       42.9000  1920.421875       100.0\n",
       "14       30.1200  1237.032500       150.0\n",
       "13       25.3000   886.457187       180.0\n",
       "12       21.0200   694.296250       220.0\n",
       "10       14.3100   495.594375       330.0\n",
       "9        10.1400   373.264844       470.0\n",
       "15        4.3900   241.577734      1000.0\n",
       "11        2.1100   174.234375      2200.0\n",
       "8         1.4300   152.938672      3300.0\n",
       "7         1.0150   139.776797      4700.0\n",
       "6         0.7070   140.351562      6800.0\n",
       "5         0.4836   127.066172     10000.0\n",
       "4         0.3210   121.124375     15000.0\n",
       "3         0.2211   116.775508     22000.0\n",
       "2         0.1466   113.928320     33000.0\n",
       "1         0.1028   116.729141     47000.0\n",
       "0         0.0711   115.478203     68000.0"
      ]
     },
     "execution_count": 37,
     "metadata": {},
     "output_type": "execute_result"
    }
   ],
   "source": [
    "Idata"
   ]
  },
  {
   "cell_type": "code",
   "execution_count": 38,
   "metadata": {},
   "outputs": [
    {
     "data": {
      "text/html": [
       "<div>\n",
       "<style scoped>\n",
       "    .dataframe tbody tr th:only-of-type {\n",
       "        vertical-align: middle;\n",
       "    }\n",
       "\n",
       "    .dataframe tbody tr th {\n",
       "        vertical-align: top;\n",
       "    }\n",
       "\n",
       "    .dataframe thead th {\n",
       "        text-align: right;\n",
       "    }\n",
       "</style>\n",
       "<table border=\"1\" class=\"dataframe\">\n",
       "  <thead>\n",
       "    <tr style=\"text-align: right;\">\n",
       "      <th></th>\n",
       "      <th>I multimeter</th>\n",
       "      <th>I ADC</th>\n",
       "      <th>Resistance</th>\n",
       "    </tr>\n",
       "  </thead>\n",
       "  <tbody>\n",
       "    <tr>\n",
       "      <th>15</th>\n",
       "      <td>4.3900</td>\n",
       "      <td>241.577734</td>\n",
       "      <td>1000.0</td>\n",
       "    </tr>\n",
       "    <tr>\n",
       "      <th>11</th>\n",
       "      <td>2.1100</td>\n",
       "      <td>174.234375</td>\n",
       "      <td>2200.0</td>\n",
       "    </tr>\n",
       "    <tr>\n",
       "      <th>8</th>\n",
       "      <td>1.4300</td>\n",
       "      <td>152.938672</td>\n",
       "      <td>3300.0</td>\n",
       "    </tr>\n",
       "    <tr>\n",
       "      <th>7</th>\n",
       "      <td>1.0150</td>\n",
       "      <td>139.776797</td>\n",
       "      <td>4700.0</td>\n",
       "    </tr>\n",
       "    <tr>\n",
       "      <th>6</th>\n",
       "      <td>0.7070</td>\n",
       "      <td>140.351562</td>\n",
       "      <td>6800.0</td>\n",
       "    </tr>\n",
       "    <tr>\n",
       "      <th>5</th>\n",
       "      <td>0.4836</td>\n",
       "      <td>127.066172</td>\n",
       "      <td>10000.0</td>\n",
       "    </tr>\n",
       "  </tbody>\n",
       "</table>\n",
       "</div>"
      ],
      "text/plain": [
       "    I multimeter       I ADC  Resistance\n",
       "15        4.3900  241.577734      1000.0\n",
       "11        2.1100  174.234375      2200.0\n",
       "8         1.4300  152.938672      3300.0\n",
       "7         1.0150  139.776797      4700.0\n",
       "6         0.7070  140.351562      6800.0\n",
       "5         0.4836  127.066172     10000.0"
      ]
     },
     "execution_count": 38,
     "metadata": {},
     "output_type": "execute_result"
    }
   ],
   "source": [
    "Idata.iloc[6:12]"
   ]
  },
  {
   "cell_type": "code",
   "execution_count": 44,
   "metadata": {},
   "outputs": [],
   "source": [
    "tes=stats.linregress(\n",
    "        Idata['I ADC'], Idata['I multimeter'])"
   ]
  },
  {
   "cell_type": "code",
   "execution_count": 47,
   "metadata": {},
   "outputs": [
    {
     "data": {
      "text/html": [
       "<div>\n",
       "<style scoped>\n",
       "    .dataframe tbody tr th:only-of-type {\n",
       "        vertical-align: middle;\n",
       "    }\n",
       "\n",
       "    .dataframe tbody tr th {\n",
       "        vertical-align: top;\n",
       "    }\n",
       "\n",
       "    .dataframe thead th {\n",
       "        text-align: right;\n",
       "    }\n",
       "</style>\n",
       "<table border=\"1\" class=\"dataframe\">\n",
       "  <thead>\n",
       "    <tr style=\"text-align: right;\">\n",
       "      <th></th>\n",
       "      <th>I multimeter</th>\n",
       "      <th>I ADC</th>\n",
       "      <th>Resistance</th>\n",
       "      <th>I interp</th>\n",
       "    </tr>\n",
       "  </thead>\n",
       "  <tbody>\n",
       "    <tr>\n",
       "      <th>16</th>\n",
       "      <td>42.9000</td>\n",
       "      <td>1920.421875</td>\n",
       "      <td>100.0</td>\n",
       "      <td>47.385539</td>\n",
       "    </tr>\n",
       "    <tr>\n",
       "      <th>14</th>\n",
       "      <td>30.1200</td>\n",
       "      <td>1237.032500</td>\n",
       "      <td>150.0</td>\n",
       "      <td>29.931678</td>\n",
       "    </tr>\n",
       "    <tr>\n",
       "      <th>13</th>\n",
       "      <td>25.3000</td>\n",
       "      <td>886.457187</td>\n",
       "      <td>180.0</td>\n",
       "      <td>20.977935</td>\n",
       "    </tr>\n",
       "    <tr>\n",
       "      <th>12</th>\n",
       "      <td>21.0200</td>\n",
       "      <td>694.296250</td>\n",
       "      <td>220.0</td>\n",
       "      <td>16.070117</td>\n",
       "    </tr>\n",
       "    <tr>\n",
       "      <th>10</th>\n",
       "      <td>14.3100</td>\n",
       "      <td>495.594375</td>\n",
       "      <td>330.0</td>\n",
       "      <td>10.995244</td>\n",
       "    </tr>\n",
       "    <tr>\n",
       "      <th>9</th>\n",
       "      <td>10.1400</td>\n",
       "      <td>373.264844</td>\n",
       "      <td>470.0</td>\n",
       "      <td>7.870930</td>\n",
       "    </tr>\n",
       "    <tr>\n",
       "      <th>15</th>\n",
       "      <td>4.3900</td>\n",
       "      <td>241.577734</td>\n",
       "      <td>1000.0</td>\n",
       "      <td>4.507623</td>\n",
       "    </tr>\n",
       "    <tr>\n",
       "      <th>11</th>\n",
       "      <td>2.1100</td>\n",
       "      <td>174.234375</td>\n",
       "      <td>2200.0</td>\n",
       "      <td>2.787664</td>\n",
       "    </tr>\n",
       "    <tr>\n",
       "      <th>8</th>\n",
       "      <td>1.4300</td>\n",
       "      <td>152.938672</td>\n",
       "      <td>3300.0</td>\n",
       "      <td>2.243769</td>\n",
       "    </tr>\n",
       "    <tr>\n",
       "      <th>7</th>\n",
       "      <td>1.0150</td>\n",
       "      <td>139.776797</td>\n",
       "      <td>4700.0</td>\n",
       "      <td>1.907612</td>\n",
       "    </tr>\n",
       "    <tr>\n",
       "      <th>6</th>\n",
       "      <td>0.7070</td>\n",
       "      <td>140.351562</td>\n",
       "      <td>6800.0</td>\n",
       "      <td>1.922292</td>\n",
       "    </tr>\n",
       "    <tr>\n",
       "      <th>5</th>\n",
       "      <td>0.4836</td>\n",
       "      <td>127.066172</td>\n",
       "      <td>10000.0</td>\n",
       "      <td>1.582981</td>\n",
       "    </tr>\n",
       "    <tr>\n",
       "      <th>4</th>\n",
       "      <td>0.3210</td>\n",
       "      <td>121.124375</td>\n",
       "      <td>15000.0</td>\n",
       "      <td>1.431227</td>\n",
       "    </tr>\n",
       "    <tr>\n",
       "      <th>3</th>\n",
       "      <td>0.2211</td>\n",
       "      <td>116.775508</td>\n",
       "      <td>22000.0</td>\n",
       "      <td>1.320156</td>\n",
       "    </tr>\n",
       "    <tr>\n",
       "      <th>2</th>\n",
       "      <td>0.1466</td>\n",
       "      <td>113.928320</td>\n",
       "      <td>33000.0</td>\n",
       "      <td>1.247439</td>\n",
       "    </tr>\n",
       "    <tr>\n",
       "      <th>1</th>\n",
       "      <td>0.1028</td>\n",
       "      <td>116.729141</td>\n",
       "      <td>47000.0</td>\n",
       "      <td>1.318972</td>\n",
       "    </tr>\n",
       "    <tr>\n",
       "      <th>0</th>\n",
       "      <td>0.0711</td>\n",
       "      <td>115.478203</td>\n",
       "      <td>68000.0</td>\n",
       "      <td>1.287023</td>\n",
       "    </tr>\n",
       "  </tbody>\n",
       "</table>\n",
       "</div>"
      ],
      "text/plain": [
       "    I multimeter        I ADC  Resistance   I interp\n",
       "16       42.9000  1920.421875       100.0  47.385539\n",
       "14       30.1200  1237.032500       150.0  29.931678\n",
       "13       25.3000   886.457187       180.0  20.977935\n",
       "12       21.0200   694.296250       220.0  16.070117\n",
       "10       14.3100   495.594375       330.0  10.995244\n",
       "9        10.1400   373.264844       470.0   7.870930\n",
       "15        4.3900   241.577734      1000.0   4.507623\n",
       "11        2.1100   174.234375      2200.0   2.787664\n",
       "8         1.4300   152.938672      3300.0   2.243769\n",
       "7         1.0150   139.776797      4700.0   1.907612\n",
       "6         0.7070   140.351562      6800.0   1.922292\n",
       "5         0.4836   127.066172     10000.0   1.582981\n",
       "4         0.3210   121.124375     15000.0   1.431227\n",
       "3         0.2211   116.775508     22000.0   1.320156\n",
       "2         0.1466   113.928320     33000.0   1.247439\n",
       "1         0.1028   116.729141     47000.0   1.318972\n",
       "0         0.0711   115.478203     68000.0   1.287023"
      ]
     },
     "execution_count": 47,
     "metadata": {},
     "output_type": "execute_result"
    }
   ],
   "source": [
    "#Idata"
   ]
  },
  {
   "cell_type": "code",
   "execution_count": 50,
   "metadata": {},
   "outputs": [
    {
     "name": "stdout",
     "output_type": "stream",
     "text": [
      "LinregressResult(slope=0.018700905322093998, intercept=6.986372337146761, rvalue=0.9999999999999998, pvalue=0.0, stderr=0.0, intercept_stderr=0.0)\n",
      "LinregressResult(slope=0.022272997080897385, intercept=5.555941650471997, rvalue=1.0, pvalue=0.0, stderr=0.0, intercept_stderr=0.0)\n",
      "LinregressResult(slope=0.034088252913173835, intercept=-2.5839463973463133, rvalue=1.0, pvalue=0.0, stderr=0.0, intercept_stderr=0.0)\n",
      "LinregressResult(slope=0.034395938194991385, intercept=-3.9054924417402592, rvalue=0.9968437007347545, pvalue=1.4927615695878522e-05, stderr=0.0013696550996127725, intercept_stderr=0.22883871151717453)\n"
     ]
    }
   ],
   "source": [
    "regression_range=list.copy(ADC_Range)\n",
    "regression_range[3]=list(range(6, 12))\n",
    "Slope_I = list()\n",
    "Inter_I = list()\n",
    "for i in regression_range:\n",
    "    data_I = stats.linregress(\n",
    "        Idata['I ADC'].iloc[i], Idata['I multimeter'].iloc[i])\n",
    "    print(data_I)\n",
    "    Idata['I interp'][i]=Idata['I ADC'][i]*data_I.slope+data_I.intercept\n",
    "    Slope_I.append(data_I.slope)\n",
    "    Inter_I.append(data_I.intercept)\n"
   ]
  },
  {
   "cell_type": "code",
   "execution_count": 54,
   "metadata": {},
   "outputs": [
    {
     "data": {
      "text/plain": [
       "16    41.673155\n",
       "14    26.843605\n",
       "13    19.236121\n",
       "12    15.066229\n",
       "10    10.754398\n",
       "9      8.099847\n",
       "15     5.242237\n",
       "11     3.780886\n",
       "8      3.318769\n",
       "7      3.033156\n",
       "6      3.045629\n",
       "5      2.757336\n",
       "4      2.628399\n",
       "3      2.534029\n",
       "2      2.472245\n",
       "1      2.533022\n",
       "0      2.505877\n",
       "Name: I ADC, dtype: float64"
      ]
     },
     "execution_count": 54,
     "metadata": {},
     "output_type": "execute_result"
    }
   ],
   "source": [
    "Idata['I ADC']*0.0217"
   ]
  },
  {
   "cell_type": "code",
   "execution_count": null,
   "metadata": {},
   "outputs": [],
   "source": [
    "Idata['I interp']=Idata['I ADC']*tes.slope+tes.intercept"
   ]
  },
  {
   "cell_type": "code",
   "execution_count": 41,
   "metadata": {},
   "outputs": [
    {
     "data": {
      "text/plain": [
       "LinregressResult(slope=0.03386681441276144, intercept=-3.803034750173929, rvalue=0.9973991391225308, pvalue=1.3608914505523843e-11, stderr=0.0008157838329336245, intercept_stderr=0.11942447803905358)"
      ]
     },
     "execution_count": 41,
     "metadata": {},
     "output_type": "execute_result"
    }
   ],
   "source": [
    "data_I"
   ]
  },
  {
   "cell_type": "code",
   "execution_count": 42,
   "metadata": {},
   "outputs": [
    {
     "ename": "NameError",
     "evalue": "name 'Slope_0' is not defined",
     "output_type": "error",
     "traceback": [
      "\u001b[1;31m---------------------------------------------------------------------------\u001b[0m",
      "\u001b[1;31mNameError\u001b[0m                                 Traceback (most recent call last)",
      "\u001b[1;32m<ipython-input-42-a7c8d0411417>\u001b[0m in \u001b[0;36m<module>\u001b[1;34m\u001b[0m\n\u001b[1;32m----> 1\u001b[1;33m \u001b[1;32mfor\u001b[0m \u001b[0mi\u001b[0m \u001b[1;32min\u001b[0m \u001b[0mrange\u001b[0m\u001b[1;33m(\u001b[0m\u001b[0mlen\u001b[0m\u001b[1;33m(\u001b[0m\u001b[0mSlope_0\u001b[0m\u001b[1;33m)\u001b[0m\u001b[1;33m)\u001b[0m\u001b[1;33m:\u001b[0m\u001b[1;33m\u001b[0m\u001b[1;33m\u001b[0m\u001b[0m\n\u001b[0m\u001b[0;32m      2\u001b[0m     \u001b[0mprint\u001b[0m\u001b[1;33m(\u001b[0m\u001b[0mSlope_0\u001b[0m\u001b[1;33m[\u001b[0m\u001b[0mi\u001b[0m\u001b[1;33m]\u001b[0m\u001b[1;33m,\u001b[0m \u001b[0mInter_0\u001b[0m\u001b[1;33m[\u001b[0m\u001b[0mi\u001b[0m\u001b[1;33m]\u001b[0m\u001b[1;33m)\u001b[0m\u001b[1;33m\u001b[0m\u001b[1;33m\u001b[0m\u001b[0m\n",
      "\u001b[1;31mNameError\u001b[0m: name 'Slope_0' is not defined"
     ]
    }
   ],
   "source": [
    "for i in range(len(Slope_0)):\n",
    "    print(Slope_0[i], Inter_0[i])\n"
   ]
  },
  {
   "cell_type": "code",
   "execution_count": null,
   "metadata": {},
   "outputs": [],
   "source": [
    "res_0 = stats.linregress(Vdata['ADC 0'], Vdata['V multimeter'])\n",
    "res_1 = stats.linregress(Vdata['ADC 1'], Vdata['V multimeter'])\n",
    "res_2 = stats.linregress(Vdata['ADC 2'], Vdata['V multimeter'])\n"
   ]
  },
  {
   "cell_type": "code",
   "execution_count": null,
   "metadata": {},
   "outputs": [],
   "source": [
    "plt.plot(Vdata['ADC 0'], Vdata['V multimeter'], 'o', label='original data')\n",
    "plt.plot(Vdata['ADC 0'], res_0.intercept + res_0.slope *\n",
    "         Vdata['ADC 0'], 'r', label='fitted line')\n"
   ]
  },
  {
   "cell_type": "code",
   "execution_count": null,
   "metadata": {},
   "outputs": [],
   "source": [
    "plt.plot(Vdata['ADC 1'], Vdata['V multimeter'], 'o', label='original data')\n",
    "plt.plot(Vdata['ADC 1'], res_1.intercept + res_1.slope *\n",
    "         Vdata['ADC 1'], 'r', label='fitted line')\n"
   ]
  },
  {
   "cell_type": "code",
   "execution_count": null,
   "metadata": {},
   "outputs": [],
   "source": [
    "plt.plot(Vdata['ADC 2'], Vdata['V multimeter'], 'o', label='original data')\n",
    "plt.plot(Vdata['ADC 2'], res_2.intercept + res_2.slope *\n",
    "         Vdata['ADC 2'], 'r', label='fitted line')\n"
   ]
  },
  {
   "cell_type": "code",
   "execution_count": null,
   "metadata": {},
   "outputs": [],
   "source": [
    "interp_slope = 20.83\n"
   ]
  }
 ],
 "metadata": {
  "interpreter": {
   "hash": "b6f25d253e9ef28c30dd30f43d7aceaf3b35d139b818aef12eb4cd0f93e2e018"
  },
  "kernelspec": {
   "display_name": "Python 3.8.8 64-bit ('base': conda)",
   "language": "python",
   "name": "python3"
  },
  "language_info": {
   "codemirror_mode": {
    "name": "ipython",
    "version": 3
   },
   "file_extension": ".py",
   "mimetype": "text/x-python",
   "name": "python",
   "nbconvert_exporter": "python",
   "pygments_lexer": "ipython3",
   "version": "3.8.8"
  },
  "orig_nbformat": 4
 },
 "nbformat": 4,
 "nbformat_minor": 2
}
