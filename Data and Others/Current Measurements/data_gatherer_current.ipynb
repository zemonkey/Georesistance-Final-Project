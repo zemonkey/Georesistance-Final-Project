{
 "cells": [
  {
   "cell_type": "code",
   "execution_count": null,
   "metadata": {},
   "outputs": [],
   "source": [
    "import serial\n",
    "import csv"
   ]
  },
  {
   "cell_type": "code",
   "execution_count": null,
   "metadata": {},
   "outputs": [],
   "source": [
    "ser = serial.Serial('COM4')\n",
    "ser.flushInput()\n",
    "counter = 0\n",
    "\n",
    "while counter < 10:\n",
    "    counter += 1\n",
    "    try:\n",
    "        ser_bytes = ser.readline()\n",
    "        decoded_bytes = float(ser_bytes[0:len(ser_bytes)-2].decode(\"utf-8\"))\n",
    "        print(decoded_bytes)\n",
    "    except:\n",
    "        print(\"Keyboard Interrupt\")\n",
    "        break\n",
    "ser.close()"
   ]
  },
  {
   "cell_type": "code",
   "execution_count": null,
   "metadata": {},
   "outputs": [],
   "source": [
    "# SIX POINT TWO OHM (6.2 Ohm)\n",
    "# Gain 2x: 100-150 ohm \n",
    "# Gain 4x: 180-220 ohm\n",
    "# Gain 8x: 330-470 ohm\n",
    "# Gain 16x: the fucking rest"
   ]
  },
  {
   "cell_type": "code",
   "execution_count": null,
   "metadata": {},
   "outputs": [],
   "source": [
    "ser = serial.Serial('COM4')\n",
    "current = \"0 0711\"\n",
    "resistance = \"68k\"\n",
    "filename = current+\",\"+resistance\n",
    "\n",
    "ser.flushInput()\n",
    "counter = 0\n",
    "\n",
    "while counter < 10:\n",
    "    counter += 1\n",
    "    try:\n",
    "        ser_bytes = ser.readline()\n",
    "        decoded_bytes = float(ser_bytes[0:len(ser_bytes)-2].decode(\"utf-8\"))\n",
    "        print(decoded_bytes)\n",
    "        with open(filename+\".csv\",\"a\") as f:\n",
    "            writer = csv.writer(f,delimiter=\",\")\n",
    "            writer.writerow([decoded_bytes])\n",
    "    except Exception as e:\n",
    "        print(\"Keyboard Interrupt\")\n",
    "        print(e)\n",
    "        break\n",
    "\n",
    "ser.close()"
   ]
  }
 ],
 "metadata": {
  "interpreter": {
   "hash": "b6f25d253e9ef28c30dd30f43d7aceaf3b35d139b818aef12eb4cd0f93e2e018"
  },
  "kernelspec": {
   "display_name": "Python 3.8.8 64-bit ('base': conda)",
   "language": "python",
   "name": "python3"
  },
  "language_info": {
   "codemirror_mode": {
    "name": "ipython",
    "version": 3
   },
   "file_extension": ".py",
   "mimetype": "text/x-python",
   "name": "python",
   "nbconvert_exporter": "python",
   "pygments_lexer": "ipython3",
   "version": "3.8.8"
  },
  "orig_nbformat": 4
 },
 "nbformat": 4,
 "nbformat_minor": 2
}
